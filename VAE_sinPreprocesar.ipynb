{
 "cells": [
  {
   "cell_type": "code",
   "execution_count": 1,
   "metadata": {
    "colab": {
     "base_uri": "https://localhost:8080/"
    },
    "executionInfo": {
     "elapsed": 25139,
     "status": "ok",
     "timestamp": 1739641329224,
     "user": {
      "displayName": "Martín Sánchez Torres",
      "userId": "09593946760207616318"
     },
     "user_tz": -60
    },
    "id": "cBcUjPzv7iT7",
    "outputId": "5ab465cc-4e1a-4ae1-bb13-e0e23e2141b4"
   },
   "outputs": [
    {
     "name": "stdout",
     "output_type": "stream",
     "text": [
      "Mounted at /content/drive\n"
     ]
    }
   ],
   "source": [
    "from google.colab import drive\n",
    "drive.mount('/content/drive')"
   ]
  },
  {
   "cell_type": "code",
   "execution_count": 2,
   "metadata": {
    "executionInfo": {
     "elapsed": 936,
     "status": "ok",
     "timestamp": 1739641330155,
     "user": {
      "displayName": "Martín Sánchez Torres",
      "userId": "09593946760207616318"
     },
     "user_tz": -60
    },
    "id": "2RvvzwRB62J6"
   },
   "outputs": [],
   "source": [
    "import pandas as pd\n",
    "\n",
    "import matplotlib.pyplot as plt"
   ]
  },
  {
   "cell_type": "code",
   "execution_count": 3,
   "metadata": {
    "colab": {
     "base_uri": "https://localhost:8080/",
     "height": 475
    },
    "executionInfo": {
     "elapsed": 24323,
     "status": "ok",
     "timestamp": 1739641354474,
     "user": {
      "displayName": "Martín Sánchez Torres",
      "userId": "09593946760207616318"
     },
     "user_tz": -60
    },
    "id": "Ydn_RxwR66xc",
    "outputId": "555fbf1e-a2e2-4e02-a719-5aa3edf61e56"
   },
   "outputs": [
    {
     "name": "stdout",
     "output_type": "stream",
     "text": [
      "/content/drive/MyDrive/Colab Notebooks/Trabajo Fin de Estudios/Dataset/train_drcat_01.csv\n",
      "/content/drive/MyDrive/Colab Notebooks/Trabajo Fin de Estudios/Dataset/train_drcat_02.csv\n",
      "/content/drive/MyDrive/Colab Notebooks/Trabajo Fin de Estudios/Dataset/train_drcat_03.csv\n",
      "/content/drive/MyDrive/Colab Notebooks/Trabajo Fin de Estudios/Dataset/train_drcat_04.csv\n"
     ]
    },
    {
     "data": {
      "image/png": "[encoded data removed]",
      "text/plain": [
       "<Figure size 640x480 with 1 Axes>"
      ]
     },
     "metadata": {},
     "output_type": "display_data"
    }
   ],
   "source": [
    "# Define la ruta a la carpeta\n",
    "ruta_carpeta = '/content/drive/MyDrive/Colab Notebooks/Trabajo Fin de Estudios/Dataset/'\n",
    "\n",
    "# Define los nombres de los archivos\n",
    "nombres_archivos = ['train_drcat_01.csv', 'train_drcat_02.csv', 'train_drcat_03.csv', 'train_drcat_04.csv']\n",
    "# Crea una lista vacía para almacenar los DataFrames\n",
    "dfs = []\n",
    "\n",
    "# Itera sobre los nombres de los archivos y lee cada uno en un DataFrame\n",
    "for nombre_archivo in nombres_archivos:\n",
    "    ruta_archivo = ruta_carpeta + nombre_archivo\n",
    "    print(ruta_archivo)\n",
    "    df = pd.read_csv(ruta_archivo, sep=\",\", encoding='utf-8')  # Ajusta el separador y la codificación si es necesario\n",
    "    dfs.append(df)\n",
    "\n",
    "# Concatena todos los DataFrames en uno solo\n",
    "df_final = pd.concat(dfs, ignore_index=True)\n",
    "\n",
    "# Mostramos las 5 primeras filas\n",
    "df_final.head()\n",
    "\n",
    "plt.pie(df_final['label'].value_counts().values,\n",
    "        labels = df_final['label'].value_counts().index,\n",
    "        autopct='%1.1f%%')\n",
    "plt.show()"
   ]
  },
  {
   "cell_type": "code",
   "execution_count": 4,
   "metadata": {
    "colab": {
     "base_uri": "https://localhost:8080/",
     "height": 406
    },
    "executionInfo": {
     "elapsed": 1080,
     "status": "ok",
     "timestamp": 1739641355549,
     "user": {
      "displayName": "Martín Sánchez Torres",
      "userId": "09593946760207616318"
     },
     "user_tz": -60
    },
    "id": "jn1iZZMX69uX",
    "outputId": "e7a380b3-f19a-4cbf-d36b-7a3157287059"
   },
   "outputs": [
    {
     "data": {
      "image/png": "[encoded data removed]",
      "text/plain": [
       "<Figure size 640x480 with 1 Axes>"
      ]
     },
     "metadata": {},
     "output_type": "display_data"
    }
   ],
   "source": [
    "df_label_0 = df_final[df_final['label'] == 0].sample(n=2000, random_state=42)  # random_state para reproducibilidad\n",
    "\n",
    "# Seleccionar 1000 textos con label 1\n",
    "df_label_1 = df_final[df_final['label'] == 1].sample(n=2000, random_state=42)\n",
    "\n",
    "# Concatenar los dos DataFrames\n",
    "df_seleccionado = pd.concat([df_label_0, df_label_1])\n",
    "\n",
    "# Reiniciar el índice\n",
    "df_seleccionado = df_seleccionado.reset_index(drop=True)\n",
    "\n",
    "plt.pie(df_seleccionado['label'].value_counts().values,\n",
    "        labels = df_seleccionado['label'].value_counts().index,\n",
    "        autopct='%1.1f%%')\n",
    "plt.show()"
   ]
  },
  {
   "cell_type": "code",
   "execution_count": 5,
   "metadata": {
    "executionInfo": {
     "elapsed": 3741,
     "status": "ok",
     "timestamp": 1739641380429,
     "user": {
      "displayName": "Martín Sánchez Torres",
      "userId": "09593946760207616318"
     },
     "user_tz": -60
    },
    "id": "Agmxm-L_GuqZ"
   },
   "outputs": [],
   "source": [
    "import tensorflow as tf\n",
    "from tensorflow.keras import Model, layers, Input\n",
    "import pandas as pd\n",
    "import numpy as np\n",
    "import matplotlib.pyplot as plt\n",
    "\n",
    "# --- Configuración Inicial ---\n",
    "vocab_size = 25000  # Tamaño del vocabulario\n",
    "embedding_dim = 300  # Dimensión del embedding\n",
    "sequence_length = 400  # Longitud máxima de secuencias\n",
    "latent_dim = 128  # Dimensión del espacio latente\n",
    "batch_size = 64\n",
    "epochs = 20\n",
    "\n",
    "\n",
    "# --- Carga y Preprocesamiento de Datos ---\n",
    "df=df_seleccionado"
   ]
  },
  {
   "cell_type": "code",
   "execution_count": 6,
   "metadata": {
    "executionInfo": {
     "elapsed": 6,
     "status": "ok",
     "timestamp": 1739641380430,
     "user": {
      "displayName": "Martín Sánchez Torres",
      "userId": "09593946760207616318"
     },
     "user_tz": -60
    },
    "id": "kOIjQSbrHmJM"
   },
   "outputs": [],
   "source": [
    "from tensorflow.keras.preprocessing.text import Tokenizer\n",
    "from tensorflow.keras.preprocessing.sequence import pad_sequences\n",
    "import numpy as np"
   ]
  },
  {
   "cell_type": "code",
   "execution_count": 7,
   "metadata": {
    "colab": {
     "base_uri": "https://localhost:8080/"
    },
    "executionInfo": {
     "elapsed": 3651,
     "status": "ok",
     "timestamp": 1739641384077,
     "user": {
      "displayName": "Martín Sánchez Torres",
      "userId": "09593946760207616318"
     },
     "user_tz": -60
    },
    "id": "nwbJwFpgN-_q",
    "outputId": "a1b613bd-2169-45a1-8ad4-343b9b72a27b"
   },
   "outputs": [
    {
     "name": "stderr",
     "output_type": "stream",
     "text": [
      "[nltk_data] Downloading package stopwords to /root/nltk_data...\n",
      "[nltk_data]   Unzipping corpora/stopwords.zip.\n",
      "[nltk_data] Downloading package wordnet to /root/nltk_data...\n"
     ]
    }
   ],
   "source": [
    "import string\n",
    "import nltk\n",
    "from nltk.corpus import stopwords\n",
    "from nltk.stem import WordNetLemmatizer\n",
    "\n",
    "nltk.download('stopwords')\n",
    "stop_words = set(stopwords.words('english'))\n",
    "nltk.download('wordnet')\n",
    "lemmatizer = WordNetLemmatizer()\n",
    "\n",
    "def preprocess_text(text):\n",
    "    text = text.lower()\n",
    "    #text = ''.join([char for char in text if char not in string.punctuation])\n",
    "    #text = ' '.join([word for word in text.split() if word not in stop_words])\n",
    "\n",
    "    # Lematizar palabras especificando el POS\n",
    "    #text = ' '.join([lemmatizer.lemmatize(word, pos='v') for word in text.split()])  # Lematizar como verbos\n",
    "    return text\n",
    "\n"
   ]
  },
  {
   "cell_type": "code",
   "execution_count": 8,
   "metadata": {
    "executionInfo": {
     "elapsed": 6,
     "status": "ok",
     "timestamp": 1739641384077,
     "user": {
      "displayName": "Martín Sánchez Torres",
      "userId": "09593946760207616318"
     },
     "user_tz": -60
    },
    "id": "WGwNJWPwOeNg"
   },
   "outputs": [],
   "source": [
    "# Eliminar registros nulos o vacíos en la columna de texto\n",
    "df = df.dropna(subset=[\"text\"])\n",
    "df = df[df[\"text\"].str.strip() != \"\"]\n",
    "df['text_clean'] = df['text'].apply(preprocess_text)"
   ]
  },
  {
   "cell_type": "code",
   "execution_count": 9,
   "metadata": {
    "executionInfo": {
     "elapsed": 1204,
     "status": "ok",
     "timestamp": 1739641393948,
     "user": {
      "displayName": "Martín Sánchez Torres",
      "userId": "09593946760207616318"
     },
     "user_tz": -60
    },
    "id": "gdTzoSvxdUZR"
   },
   "outputs": [],
   "source": [
    "import tensorflow as tf\n",
    "from sklearn.model_selection import train_test_split\n",
    "\n",
    "# Vectorizador de texto\n",
    "vectorizador = tf.keras.layers.TextVectorization(\n",
    "    max_tokens=vocab_size,\n",
    "    output_mode='int',  # Para generar secuencias de índices\n",
    "    output_sequence_length=sequence_length\n",
    ")"
   ]
  },
  {
   "cell_type": "code",
   "execution_count": 12,
   "metadata": {
    "executionInfo": {
     "elapsed": 41678,
     "status": "ok",
     "timestamp": 1739641444329,
     "user": {
      "displayName": "Martín Sánchez Torres",
      "userId": "09593946760207616318"
     },
     "user_tz": -60
    },
    "id": "RIFcHobQovFm"
   },
   "outputs": [],
   "source": [
    "\n",
    "vectorizador.adapt(df['text_clean'])\n",
    "# Vectorize before batching\n",
    "X_train_vec = [vectorizador(x) for x in X_train]  # Vectorize each text\n",
    "X_test_vec = [vectorizador(x) for x in X_test]    # Vectorize each text\n",
    "\n",
    "# Crear los datasets de entrada\n",
    "train_dataset = tf.data.Dataset.from_tensor_slices(X_train_vec)  # Solo entradas, sin etiquetas\n",
    "train_dataset = train_dataset.batch(batch_size).shuffle(len(X_train)).prefetch(tf.data.AUTOTUNE)\n",
    "\n",
    "test_dataset = tf.data.Dataset.from_tensor_slices(X_test_vec)  # Solo entradas, sin etiquetas\n",
    "test_dataset = test_dataset.batch(batch_size).shuffle(len(X_test)).prefetch(tf.data.AUTOTUNE)"
   ]
  },
  {
   "cell_type": "code",
   "execution_count": 13,
   "metadata": {
    "colab": {
     "base_uri": "https://localhost:8080/"
    },
    "executionInfo": {
     "elapsed": 11,
     "status": "ok",
     "timestamp": 1739641446594,
     "user": {
      "displayName": "Martín Sánchez Torres",
      "userId": "09593946760207616318"
     },
     "user_tz": -60
    },
    "id": "l8jMPErVozSh",
    "outputId": "d5f826d6-aec6-4c61-bfd3-1fd3659c9384"
   },
   "outputs": [
    {
     "name": "stdout",
     "output_type": "stream",
     "text": [
      "tf.Tensor(\n",
      "[[1601  565   48 ...    0    0    0]\n",
      " [ 347 1067   61 ...    0    0    0]\n",
      " [  48   19   70 ...    0    0    0]\n",
      " ...\n",
      " [ 142  784   19 ...    0    0    0]\n",
      " [   2  520    6 ...    0    0    0]\n",
      " [ 488    4  128 ...    0    0    0]], shape=(64, 400), dtype=int64)\n"
     ]
    }
   ],
   "source": [
    "for batch in train_dataset.take(1):\n",
    "    print(batch)  # Verifica que sea un tensor con los índices de las palabras"
   ]
  },
  {
   "cell_type": "code",
   "execution_count": 14,
   "metadata": {
    "colab": {
     "base_uri": "https://localhost:8080/"
    },
    "executionInfo": {
     "elapsed": 8,
     "status": "ok",
     "timestamp": 1739641446594,
     "user": {
      "displayName": "Martín Sánchez Torres",
      "userId": "09593946760207616318"
     },
     "user_tz": -60
    },
    "id": "6bQYgnDmwexF",
    "outputId": "839ebf05-91f8-4a19-cb7f-6503b9030220"
   },
   "outputs": [
    {
     "name": "stdout",
     "output_type": "stream",
     "text": [
      "tf.Tensor(\n",
      "[[  26  254   27 ...    0    0    0]\n",
      " [  57    6   45 ...   23  288   94]\n",
      " [ 136   89   63 ...  780  447   24]\n",
      " ...\n",
      " [ 413 1527   18 ...   15   97    3]\n",
      " [ 136  106    4 ...    0    0    0]\n",
      " [  47  607   47 ...    6  573    4]], shape=(64, 400), dtype=int64)\n"
     ]
    }
   ],
   "source": [
    "for batch in test_dataset.take(1):\n",
    "    print(batch)  # Verifica que sea un tensor con los índices de las palabras"
   ]
  },
  {
   "cell_type": "code",
   "execution_count": 15,
   "metadata": {
    "colab": {
     "base_uri": "https://localhost:8080/"
    },
    "executionInfo": {
     "elapsed": 5,
     "status": "ok",
     "timestamp": 1739641446594,
     "user": {
      "displayName": "Martín Sánchez Torres",
      "userId": "09593946760207616318"
     },
     "user_tz": -60
    },
    "id": "19JvQd44pNd_",
    "outputId": "5a47d741-61b3-4006-967d-f77c549f1511"
   },
   "outputs": [
    {
     "name": "stdout",
     "output_type": "stream",
     "text": [
      "24678\n"
     ]
    }
   ],
   "source": [
    "print(vectorizador.vocabulary_size())  # Asegúrate de que el vocabulario fue correctamente adaptado"
   ]
  },
  {
   "cell_type": "code",
   "execution_count": 16,
   "metadata": {
    "executionInfo": {
     "elapsed": 1387,
     "status": "ok",
     "timestamp": 1739641470602,
     "user": {
      "displayName": "Martín Sánchez Torres",
      "userId": "09593946760207616318"
     },
     "user_tz": -60
    },
    "id": "eGt39hx2xg7f"
   },
   "outputs": [],
   "source": [
    "\n",
    "from tensorflow.keras.saving import register_keras_serializable\n",
    "import tensorflow as tf\n",
    "from tensorflow.keras import Model, layers, Input\n",
    "from tensorflow.keras import regularizers\n",
    "from tensorflow.keras.optimizers import Adam\n",
    "from tensorflow.keras.callbacks import ReduceLROnPlateau, EarlyStopping\n",
    "\n",
    "# --- Ajustes del optimizador ---\n",
    "initial_lr = 1e-4  # Tasa de aprendizaje reducida\n",
    "optimizer = Adam(learning_rate=initial_lr)\n",
    "\n",
    "# --- Callbacks para mejorar convergencia ---\n",
    "lr_scheduler = ReduceLROnPlateau(\n",
    "    monitor=\"val_loss\", factor=0.5, patience=3, min_lr=1e-6, verbose=1\n",
    ")\n",
    "early_stopping = EarlyStopping(\n",
    "    monitor=\"val_loss\", patience=10, restore_best_weights=True, verbose=1\n",
    ")\n",
    "\n",
    "# --- Definición del Encoder ---\n",
    "encoder_inputs = Input(shape=(sequence_length,), name=\"encoder_input\")\n",
    "x = vectorizador(encoder_inputs)\n",
    "x = tf.keras.layers.Embedding(vocab_size, embedding_dim, mask_zero=True, name=\"embedding_layer\")(encoder_inputs)\n",
    "x = layers.LSTM(sequence_length, return_sequences=False, use_cudnn=False, kernel_regularizer=regularizers.l2(0.01), name=\"encoder_lstm\")(x)  # Reducimos unidades en LSTM y agregamos regularización L2\n",
    "x = layers.Dense(256, activation=\"relu\", kernel_regularizer=regularizers.l2(0.01), name=\"encoder_dense_1\")(x)  # Regularización L2\n",
    "x = layers.Dropout(0.4)(x)  # Dropout para prevenir overfitting\n",
    "x = layers.Dense(128, activation=\"relu\", kernel_regularizer=regularizers.l2(0.01), name=\"encoder_dense_2\")(x)  # Regularización L2\n",
    "\n",
    "# Parametrización de la distribución latente\n",
    "z_mean = layers.Dense(latent_dim, name=\"z_mean\")(x)\n",
    "z_log_var = layers.Dense(latent_dim, name=\"z_log_var\")(x)\n",
    "\n",
    "# Reparametrización\n",
    "def sampling(args):\n",
    "    z_mean, z_log_var = args\n",
    "    epsilon = tf.keras.backend.random_normal(shape=(tf.shape(z_mean)[0], latent_dim))\n",
    "    return z_mean + tf.exp(0.5 * z_log_var) * epsilon\n",
    "\n",
    "z = layers.Lambda(sampling, name=\"z_sampling\")([z_mean, z_log_var])\n",
    "\n",
    "encoder = Model(encoder_inputs, [z_mean, z_log_var, z], name=\"encoder\")\n",
    "\n",
    "# --- Definición del Decoder ---\n",
    "decoder_inputs = Input(shape=(latent_dim,), name=\"z_sampling_input\")\n",
    "x = layers.Dense(128, activation=\"relu\", kernel_regularizer=regularizers.l2(0.01), name=\"decoder_dense\")(decoder_inputs)  # Regularización L2\n",
    "x = layers.Dense(256, activation=\"relu\", kernel_regularizer=regularizers.l2(0.01), name=\"decoder_dense_1\")(x)  # Regularización L2\n",
    "x = layers.RepeatVector(sequence_length)(x)decoder_outputs = layers.LSTM(sequence_length, return_sequences=True, kernel_regularizer=regularizers.l2(0.01))(x)  # Regularización L2\n",
    "decoder_outputs = layers.TimeDistributed(layers.Dense(vocab_size, activation=\"softmax\"))(decoder_outputs)\n",
    "decoder = Model(decoder_inputs, decoder_outputs, name=\"decoder\")\n",
    "\n",
    "# --- Definición del Autoencoder ---\n",
    "vae_outputs = decoder(encoder(encoder_inputs)[2])\n",
    "\n",
    "def vae_loss(inputs, outputs, z_mean, z_log_var):\n",
    "    reconstruction_loss = tf.reduce_mean(\n",
    "        tf.keras.losses.sparse_categorical_crossentropy(inputs, outputs)\n",
    "    )\n",
    "\n",
    "    # KL Divergence ajustada para evitar sumas grandes\n",
    "    kl_loss = -0.5 * tf.reduce_mean(\n",
    "        1 + z_log_var - tf.square(z_mean) - tf.exp(z_log_var)\n",
    "    )\n",
    "    beta = 0.4  # Hiperparámetro de ajuste\n",
    "    return reconstruction_loss + beta * kl_loss\n",
    "\n",
    "def custom_mse(y_true, y_pred):\n",
    "    y_pred = tf.argmax(y_pred, axis=-1)  # Obtener los tokens con mayor probabilidad\n",
    "\n",
    "    # Convertir a enteros\n",
    "    y_pred = tf.cast(y_pred, tf.int32)  # Convertir y_pred a tf.int32\n",
    "\n",
    "    # Calcular MSE solo en la dimensión de la secuencia\n",
    "    mse = tf.keras.losses.MeanSquaredError()(y_true, y_pred)\n",
    "\n",
    "    return mse\n",
    "\n",
    "# --- Definición del modelo con `train_step` personalizado ---\n",
    "from tensorflow.keras.metrics import MeanSquaredError\n",
    "@register_keras_serializable()\n",
    "class VAEModel(Model):\n",
    "    def __init__(self, encoder, decoder, **kwargs):\n",
    "        super(VAEModel, self).__init__(**kwargs)\n",
    "        self.encoder = encoder\n",
    "        self.decoder = decoder\n",
    "    def call(self, inputs):\n",
    "        z_mean, z_log_var, z = self.encoder(inputs)\n",
    "        return self.decoder(z), z_mean, z_log_var\n",
    "        #return self.decoder(z)\n",
    "\n",
    "    def get_config(self):\n",
    "        config = super().get_config()\n",
    "        config.update({\n",
    "            \"encoder\": self.encoder,\n",
    "            \"decoder\": self.decoder\n",
    "        })\n",
    "        return config\n",
    "\n",
    "    @classmethod\n",
    "    def from_config(cls, config):\n",
    "        encoder = config.pop(\"encoder\")\n",
    "        decoder = config.pop(\"decoder\")\n",
    "        return cls(encoder, decoder, **config)\n",
    "\n",
    "    def train_step(self, data):\n",
    "        self.reset_metrics()  # Reinicia las métricas antes de cada paso\n",
    "        with tf.GradientTape() as tape:\n",
    "            inputs = data\n",
    "            outputs, z_mean, z_log_var = self(inputs, training=True)\n",
    "            loss = vae_loss(inputs, outputs, z_mean, z_log_var)\n",
    "\n",
    "        # Computar gradientes\n",
    "        grads = tape.gradient(loss, self.trainable_variables)\n",
    "\n",
    "        # Actualizar los pesos\n",
    "        self.optimizer.apply_gradients(zip(grads, self.trainable_variables))\n",
    "        mse=custom_mse(inputs, outputs)\n",
    "\n",
    "        return {\"loss\": loss, \"custom_mse\": mse}  # Cambiar el nombre de la métrica en el diccionario de salida\n",
    "\n",
    "    def test_step(self, data):\n",
    "        self.reset_metrics()  # Reinicia las métricas antes del paso de prueba\n",
    "        inputs = data\n",
    "        outputs, z_mean, z_log_var = self(inputs, training=False)\n",
    "        loss = vae_loss(inputs, outputs, z_mean, z_log_var)\n",
    "\n",
    "        mse=custom_mse(inputs, outputs)\n",
    "        return {\"loss\": loss, \"custom_mse\": mse}  # Cambiar el nombre de la métrica en el diccionario de salida\n",
    "\n",
    "from tensorflow.keras.callbacks import LearningRateScheduler\n",
    "\n",
    "def print_lr(epoch, lr):\n",
    "    print(f\"Epoch: {epoch + 1}, Learning Rate: {lr}\")\n",
    "\n",
    "lr_callback = LearningRateScheduler(lambda epoch, lr: lr, verbose=1)\n",
    "# Crear el modelo VAE\n",
    "vae_model = VAEModel(encoder, decoder)\n",
    "\n"
   ]
  },
  {
   "cell_type": "code",
   "execution_count": 17,
   "metadata": {
    "colab": {
     "base_uri": "https://localhost:8080/",
     "height": 1000
    },
    "executionInfo": {
     "elapsed": 2686468,
     "status": "ok",
     "timestamp": 1739644165390,
     "user": {
      "displayName": "Martín Sánchez Torres",
      "userId": "09593946760207616318"
     },
     "user_tz": -60
    },
    "id": "hc42kw2_V1Xv",
    "outputId": "81af39f9-b071-4410-8ea7-a48ce76d2cb2"
   },
   "outputs": [
    {
     "name": "stdout",
     "output_type": "stream",
     "text": [
      "Epoch 1/50\n",
      "\u001b[1m50/50\u001b[0m \u001b[32m━━━━━━━━━━━━━━━━━━━━\u001b[0m\u001b[37m\u001b[0m \u001b[1m87s\u001b[0m 1s/step - custom_mse: 17027816.0000 - loss: 9.0648 - val_custom_mse: 4157097.5000 - val_loss: 7.4113 - learning_rate: 1.0000e-04\n",
      "Epoch 2/50\n",
      "\u001b[1m50/50\u001b[0m \u001b[32m━━━━━━━━━━━━━━━━━━━━\u001b[0m\u001b[37m\u001b[0m \u001b[1m53s\u001b[0m 1s/step - custom_mse: 3920113.7500 - loss: 6.4376 - val_custom_mse: 4005642.2500 - val_loss: 5.9195 - learning_rate: 1.0000e-04\n",
      "Epoch 3/50\n",
      "\u001b[1m50/50\u001b[0m \u001b[32m━━━━━━━━━━━━━━━━━━━━\u001b[0m\u001b[37m\u001b[0m \u001b[1m53s\u001b[0m 1s/step - custom_mse: 3916991.2500 - loss: 5.7900 - val_custom_mse: 3668033.2500 - val_loss: 5.8646 - learning_rate: 1.0000e-04\n",
      "Epoch 4/50\n",
      "\u001b[1m50/50\u001b[0m \u001b[32m━━━━━━━━━━━━━━━━━━━━\u001b[0m\u001b[37m\u001b[0m \u001b[1m53s\u001b[0m 1s/step - custom_mse: 3940986.2500 - loss: 5.7412 - val_custom_mse: 4573671.5000 - val_loss: 5.9575 - learning_rate: 1.0000e-04\n",
      "Epoch 5/50\n",
      "\u001b[1m50/50\u001b[0m \u001b[32m━━━━━━━━━━━━━━━━━━━━\u001b[0m\u001b[37m\u001b[0m \u001b[1m53s\u001b[0m 1s/step - custom_mse: 3928360.7500 - loss: 5.7293 - val_custom_mse: 3668033.2500 - val_loss: 5.8450 - learning_rate: 1.0000e-04\n",
      "Epoch 6/50\n",
      "\u001b[1m50/50\u001b[0m \u001b[32m━━━━━━━━━━━━━━━━━━━━\u001b[0m\u001b[37m\u001b[0m \u001b[1m53s\u001b[0m 1s/step - custom_mse: 3928360.7500 - loss: 5.7249 - val_custom_mse: 3766519.5000 - val_loss: 5.5334 - learning_rate: 1.0000e-04\n",
      "Epoch 7/50\n",
      "\u001b[1m50/50\u001b[0m \u001b[32m━━━━━━━━━━━━━━━━━━━━\u001b[0m\u001b[37m\u001b[0m \u001b[1m53s\u001b[0m 1s/step - custom_mse: 3928741.7500 - loss: 5.7297 - val_custom_mse: 4005642.2500 - val_loss: 5.7559 - learning_rate: 1.0000e-04\n",
      "Epoch 8/50\n",
      "\u001b[1m50/50\u001b[0m \u001b[32m━━━━━━━━━━━━━━━━━━━━\u001b[0m\u001b[37m\u001b[0m \u001b[1m53s\u001b[0m 1s/step - custom_mse: 3930524.2500 - loss: 5.7258 - val_custom_mse: 3828705.7500 - val_loss: 5.9666 - learning_rate: 1.0000e-04\n",
      "Epoch 9/50\n",
      "\u001b[1m50/50\u001b[0m \u001b[32m━━━━━━━━━━━━━━━━━━━━\u001b[0m\u001b[37m\u001b[0m \u001b[1m0s\u001b[0m 997ms/step - custom_mse: 3928219.0000 - loss: 5.7207\n",
      "Epoch 9: ReduceLROnPlateau reducing learning rate to 4.999999873689376e-05.\n",
      "\u001b[1m50/50\u001b[0m \u001b[32m━━━━━━━━━━━━━━━━━━━━\u001b[0m\u001b[37m\u001b[0m \u001b[1m53s\u001b[0m 1s/step - custom_mse: 3921095.0000 - loss: 5.7138 - val_custom_mse: 3828705.7500 - val_loss: 5.9599 - learning_rate: 1.0000e-04\n",
      "Epoch 10/50\n",
      "\u001b[1m50/50\u001b[0m \u001b[32m━━━━━━━━━━━━━━━━━━━━\u001b[0m\u001b[37m\u001b[0m \u001b[1m53s\u001b[0m 1s/step - custom_mse: 3913587.7500 - loss: 5.7140 - val_custom_mse: 3828705.7500 - val_loss: 5.9614 - learning_rate: 5.0000e-05\n",
      "Epoch 11/50\n",
      "\u001b[1m50/50\u001b[0m \u001b[32m━━━━━━━━━━━━━━━━━━━━\u001b[0m\u001b[37m\u001b[0m \u001b[1m53s\u001b[0m 1s/step - custom_mse: 3924937.0000 - loss: 5.7152 - val_custom_mse: 3828705.7500 - val_loss: 5.9598 - learning_rate: 5.0000e-05\n",
      "Epoch 12/50\n",
      "\u001b[1m50/50\u001b[0m \u001b[32m━━━━━━━━━━━━━━━━━━━━\u001b[0m\u001b[37m\u001b[0m \u001b[1m0s\u001b[0m 997ms/step - custom_mse: 3928219.0000 - loss: 5.7091\n",
      "Epoch 12: ReduceLROnPlateau reducing learning rate to 2.499999936844688e-05.\n",
      "\u001b[1m50/50\u001b[0m \u001b[32m━━━━━━━━━━━━━━━━━━━━\u001b[0m\u001b[37m\u001b[0m \u001b[1m53s\u001b[0m 1s/step - custom_mse: 3925699.2500 - loss: 5.7084 - val_custom_mse: 3941264.5000 - val_loss: 5.5649 - learning_rate: 5.0000e-05\n",
      "Epoch 13/50\n",
      "\u001b[1m50/50\u001b[0m \u001b[32m━━━━━━━━━━━━━━━━━━━━\u001b[0m\u001b[37m\u001b[0m \u001b[1m53s\u001b[0m 1s/step - custom_mse: 3936257.5000 - loss: 5.7029 - val_custom_mse: 4573671.5000 - val_loss: 5.9408 - learning_rate: 2.5000e-05\n",
      "Epoch 14/50\n",
      "\u001b[1m50/50\u001b[0m \u001b[32m━━━━━━━━━━━━━━━━━━━━\u001b[0m\u001b[37m\u001b[0m \u001b[1m53s\u001b[0m 1s/step - custom_mse: 3914613.5000 - loss: 5.7005 - val_custom_mse: 3828705.7500 - val_loss: 5.9523 - learning_rate: 2.5000e-05\n",
      "Epoch 15/50\n",
      "\u001b[1m50/50\u001b[0m \u001b[32m━━━━━━━━━━━━━━━━━━━━\u001b[0m\u001b[37m\u001b[0m \u001b[1m53s\u001b[0m 1s/step - custom_mse: 3924788.2500 - loss: 5.7011 - val_custom_mse: 3766519.5000 - val_loss: 5.5084 - learning_rate: 2.5000e-05\n",
      "Epoch 16/50\n",
      "\u001b[1m50/50\u001b[0m \u001b[32m━━━━━━━━━━━━━━━━━━━━\u001b[0m\u001b[37m\u001b[0m \u001b[1m53s\u001b[0m 1s/step - custom_mse: 3935205.7500 - loss: 5.6944 - val_custom_mse: 4005642.2500 - val_loss: 5.7337 - learning_rate: 2.5000e-05\n",
      "Epoch 17/50\n",
      "\u001b[1m50/50\u001b[0m \u001b[32m━━━━━━━━━━━━━━━━━━━━\u001b[0m\u001b[37m\u001b[0m \u001b[1m53s\u001b[0m 1s/step - custom_mse: 3911032.2500 - loss: 5.6871 - val_custom_mse: 4005642.2500 - val_loss: 5.7329 - learning_rate: 2.5000e-05\n",
      "Epoch 18/50\n",
      "\u001b[1m50/50\u001b[0m \u001b[32m━━━━━━━━━━━━━━━━━━━━\u001b[0m\u001b[37m\u001b[0m \u001b[1m0s\u001b[0m 1s/step - custom_mse: 3928219.0000 - loss: 5.6906\n",
      "Epoch 18: ReduceLROnPlateau reducing learning rate to 1.249999968422344e-05.\n",
      "\u001b[1m50/50\u001b[0m \u001b[32m━━━━━━━━━━━━━━━━━━━━\u001b[0m\u001b[37m\u001b[0m \u001b[1m53s\u001b[0m 1s/step - custom_mse: 3923262.2500 - loss: 5.6882 - val_custom_mse: 4157097.5000 - val_loss: 5.6750 - learning_rate: 2.5000e-05\n",
      "Epoch 19/50\n",
      "\u001b[1m50/50\u001b[0m \u001b[32m━━━━━━━━━━━━━━━━━━━━\u001b[0m\u001b[37m\u001b[0m \u001b[1m53s\u001b[0m 1s/step - custom_mse: 3921645.2500 - loss: 5.6852 - val_custom_mse: 4313236.0000 - val_loss: 5.9991 - learning_rate: 1.2500e-05\n",
      "Epoch 20/50\n",
      "\u001b[1m50/50\u001b[0m \u001b[32m━━━━━━━━━━━━━━━━━━━━\u001b[0m\u001b[37m\u001b[0m \u001b[1m53s\u001b[0m 1s/step - custom_mse: 3929540.0000 - loss: 5.6890 - val_custom_mse: 4005642.2500 - val_loss: 5.7283 - learning_rate: 1.2500e-05\n",
      "Epoch 21/50\n",
      "\u001b[1m50/50\u001b[0m \u001b[32m━━━━━━━━━━━━━━━━━━━━\u001b[0m\u001b[37m\u001b[0m \u001b[1m0s\u001b[0m 1000ms/step - custom_mse: 3928219.0000 - loss: 5.6825\n",
      "Epoch 21: ReduceLROnPlateau reducing learning rate to 6.24999984211172e-06.\n",
      "\u001b[1m50/50\u001b[0m \u001b[32m━━━━━━━━━━━━━━━━━━━━\u001b[0m\u001b[37m\u001b[0m \u001b[1m53s\u001b[0m 1s/step - custom_mse: 3925699.2500 - loss: 5.6819 - val_custom_mse: 3668033.2500 - val_loss: 5.8137 - learning_rate: 1.2500e-05\n",
      "Epoch 22/50\n",
      "\u001b[1m50/50\u001b[0m \u001b[32m━━━━━━━━━━━━━━━━━━━━\u001b[0m\u001b[37m\u001b[0m \u001b[1m53s\u001b[0m 1s/step - custom_mse: 3935066.2500 - loss: 5.6773 - val_custom_mse: 4075422.0000 - val_loss: 6.0659 - learning_rate: 6.2500e-06\n",
      "Epoch 23/50\n",
      "\u001b[1m50/50\u001b[0m \u001b[32m━━━━━━━━━━━━━━━━━━━━\u001b[0m\u001b[37m\u001b[0m \u001b[1m53s\u001b[0m 1s/step - custom_mse: 3932502.0000 - loss: 5.6761 - val_custom_mse: 4005642.2500 - val_loss: 5.7200 - learning_rate: 6.2500e-06\n",
      "Epoch 24/50\n",
      "\u001b[1m50/50\u001b[0m \u001b[32m━━━━━━━━━━━━━━━━━━━━\u001b[0m\u001b[37m\u001b[0m \u001b[1m0s\u001b[0m 997ms/step - custom_mse: 3928219.0000 - loss: 5.6784\n",
      "Epoch 24: ReduceLROnPlateau reducing learning rate to 3.12499992105586e-06.\n",
      "\u001b[1m50/50\u001b[0m \u001b[32m━━━━━━━━━━━━━━━━━━━━\u001b[0m\u001b[37m\u001b[0m \u001b[1m53s\u001b[0m 1s/step - custom_mse: 3921835.5000 - loss: 5.6803 - val_custom_mse: 3828705.7500 - val_loss: 5.9365 - learning_rate: 6.2500e-06\n",
      "Epoch 25/50\n",
      "\u001b[1m50/50\u001b[0m \u001b[32m━━━━━━━━━━━━━━━━━━━━\u001b[0m\u001b[37m\u001b[0m \u001b[1m53s\u001b[0m 1s/step - custom_mse: 3936143.2500 - loss: 5.6768 - val_custom_mse: 3965452.5000 - val_loss: 5.9203 - learning_rate: 3.1250e-06\n",
      "Epoch 26/50\n",
      "\u001b[1m50/50\u001b[0m \u001b[32m━━━━━━━━━━━━━━━━━━━━\u001b[0m\u001b[37m\u001b[0m \u001b[1m53s\u001b[0m 1s/step - custom_mse: 3929540.0000 - loss: 5.6811 - val_custom_mse: 4313236.0000 - val_loss: 6.0006 - learning_rate: 3.1250e-06\n",
      "Epoch 27/50\n",
      "\u001b[1m50/50\u001b[0m \u001b[32m━━━━━━━━━━━━━━━━━━━━\u001b[0m\u001b[37m\u001b[0m \u001b[1m0s\u001b[0m 999ms/step - custom_mse: 3928219.0000 - loss: 5.6763 \n",
      "Epoch 27: ReduceLROnPlateau reducing learning rate to 1.56249996052793e-06.\n",
      "\u001b[1m50/50\u001b[0m \u001b[32m━━━━━━━━━━━━━━━━━━━━\u001b[0m\u001b[37m\u001b[0m \u001b[1m53s\u001b[0m 1s/step - custom_mse: 3929540.0000 - loss: 5.6809 - val_custom_mse: 4075422.0000 - val_loss: 6.0594 - learning_rate: 3.1250e-06\n",
      "Epoch 28/50\n",
      "\u001b[1m50/50\u001b[0m \u001b[32m━━━━━━━━━━━━━━━━━━━━\u001b[0m\u001b[37m\u001b[0m \u001b[1m53s\u001b[0m 1s/step - custom_mse: 3916100.2500 - loss: 5.6815 - val_custom_mse: 4157097.5000 - val_loss: 5.6607 - learning_rate: 1.5625e-06\n",
      "Epoch 29/50\n",
      "\u001b[1m50/50\u001b[0m \u001b[32m━━━━━━━━━━━━━━━━━━━━\u001b[0m\u001b[37m\u001b[0m \u001b[1m53s\u001b[0m 1s/step - custom_mse: 3944621.5000 - loss: 5.6746 - val_custom_mse: 3412459.5000 - val_loss: 5.7831 - learning_rate: 1.5625e-06\n",
      "Epoch 30/50\n",
      "\u001b[1m50/50\u001b[0m \u001b[32m━━━━━━━━━━━━━━━━━━━━\u001b[0m\u001b[37m\u001b[0m \u001b[1m0s\u001b[0m 999ms/step - custom_mse: 3928219.0000 - loss: 5.6745\n",
      "Epoch 30: ReduceLROnPlateau reducing learning rate to 1e-06.\n",
      "\u001b[1m50/50\u001b[0m \u001b[32m━━━━━━━━━━━━━━━━━━━━\u001b[0m\u001b[37m\u001b[0m \u001b[1m53s\u001b[0m 1s/step - custom_mse: 3944621.5000 - loss: 5.6735 - val_custom_mse: 4005642.2500 - val_loss: 5.7270 - learning_rate: 1.5625e-06\n",
      "Epoch 31/50\n",
      "\u001b[1m50/50\u001b[0m \u001b[32m━━━━━━━━━━━━━━━━━━━━\u001b[0m\u001b[37m\u001b[0m \u001b[1m53s\u001b[0m 1s/step - custom_mse: 3907888.2500 - loss: 5.6758 - val_custom_mse: 4157097.5000 - val_loss: 5.6655 - learning_rate: 1.0000e-06\n",
      "Epoch 32/50\n",
      "\u001b[1m50/50\u001b[0m \u001b[32m━━━━━━━━━━━━━━━━━━━━\u001b[0m\u001b[37m\u001b[0m \u001b[1m53s\u001b[0m 1s/step - custom_mse: 3925699.2500 - loss: 5.6736 - val_custom_mse: 4075422.0000 - val_loss: 6.0602 - learning_rate: 1.0000e-06\n",
      "Epoch 33/50\n",
      "\u001b[1m50/50\u001b[0m \u001b[32m━━━━━━━━━━━━━━━━━━━━\u001b[0m\u001b[37m\u001b[0m \u001b[1m53s\u001b[0m 1s/step - custom_mse: 3924788.2500 - loss: 5.6761 - val_custom_mse: 3965452.5000 - val_loss: 5.9242 - learning_rate: 1.0000e-06\n",
      "Epoch 34/50\n",
      "\u001b[1m50/50\u001b[0m \u001b[32m━━━━━━━━━━━━━━━━━━━━\u001b[0m\u001b[37m\u001b[0m \u001b[1m53s\u001b[0m 1s/step - custom_mse: 3914613.5000 - loss: 5.6725 - val_custom_mse: 3412459.5000 - val_loss: 5.7766 - learning_rate: 1.0000e-06\n",
      "Epoch 35/50\n",
      "\u001b[1m50/50\u001b[0m \u001b[32m━━━━━━━━━━━━━━━━━━━━\u001b[0m\u001b[37m\u001b[0m \u001b[1m53s\u001b[0m 1s/step - custom_mse: 3936143.2500 - loss: 5.6732 - val_custom_mse: 4157097.5000 - val_loss: 5.6617 - learning_rate: 1.0000e-06\n",
      "Epoch 36/50\n",
      "\u001b[1m50/50\u001b[0m \u001b[32m━━━━━━━━━━━━━━━━━━━━\u001b[0m\u001b[37m\u001b[0m \u001b[1m53s\u001b[0m 1s/step - custom_mse: 3928741.7500 - loss: 5.6770 - val_custom_mse: 3412459.5000 - val_loss: 5.7843 - learning_rate: 1.0000e-06\n",
      "Epoch 37/50\n",
      "\u001b[1m50/50\u001b[0m \u001b[32m━━━━━━━━━━━━━━━━━━━━\u001b[0m\u001b[37m\u001b[0m \u001b[1m53s\u001b[0m 1s/step - custom_mse: 3928360.7500 - loss: 5.6701 - val_custom_mse: 4509563.0000 - val_loss: 5.5822 - learning_rate: 1.0000e-06\n",
      "Epoch 38/50\n",
      "\u001b[1m50/50\u001b[0m \u001b[32m━━━━━━━━━━━━━━━━━━━━\u001b[0m\u001b[37m\u001b[0m \u001b[1m53s\u001b[0m 1s/step - custom_mse: 3928618.0000 - loss: 5.6724 - val_custom_mse: 3828705.7500 - val_loss: 5.9330 - learning_rate: 1.0000e-06\n",
      "Epoch 39/50\n",
      "\u001b[1m50/50\u001b[0m \u001b[32m━━━━━━━━━━━━━━━━━━━━\u001b[0m\u001b[37m\u001b[0m \u001b[1m53s\u001b[0m 1s/step - custom_mse: 3937146.0000 - loss: 5.6734 - val_custom_mse: 4075422.0000 - val_loss: 6.0574 - learning_rate: 1.0000e-06\n",
      "Epoch 40/50\n",
      "\u001b[1m50/50\u001b[0m \u001b[32m━━━━━━━━━━━━━━━━━━━━\u001b[0m\u001b[37m\u001b[0m \u001b[1m53s\u001b[0m 1s/step - custom_mse: 3920113.7500 - loss: 5.6740 - val_custom_mse: 4075422.0000 - val_loss: 6.0570 - learning_rate: 1.0000e-06\n",
      "Epoch 41/50\n",
      "\u001b[1m50/50\u001b[0m \u001b[32m━━━━━━━━━━━━━━━━━━━━\u001b[0m\u001b[37m\u001b[0m \u001b[1m53s\u001b[0m 1s/step - custom_mse: 3933096.0000 - loss: 5.6740 - val_custom_mse: 3766519.5000 - val_loss: 5.4987 - learning_rate: 1.0000e-06\n",
      "Epoch 42/50\n",
      "\u001b[1m50/50\u001b[0m \u001b[32m━━━━━━━━━━━━━━━━━━━━\u001b[0m\u001b[37m\u001b[0m \u001b[1m53s\u001b[0m 1s/step - custom_mse: 3933096.0000 - loss: 5.6731 - val_custom_mse: 3766519.5000 - val_loss: 5.4869 - learning_rate: 1.0000e-06\n",
      "Epoch 43/50\n",
      "\u001b[1m50/50\u001b[0m \u001b[32m━━━━━━━━━━━━━━━━━━━━\u001b[0m\u001b[37m\u001b[0m \u001b[1m53s\u001b[0m 1s/step - custom_mse: 3936143.2500 - loss: 5.6706 - val_custom_mse: 3668033.2500 - val_loss: 5.8029 - learning_rate: 1.0000e-06\n",
      "Epoch 44/50\n",
      "\u001b[1m50/50\u001b[0m \u001b[32m━━━━━━━━━━━━━━━━━━━━\u001b[0m\u001b[37m\u001b[0m \u001b[1m53s\u001b[0m 1s/step - custom_mse: 3936257.5000 - loss: 5.6703 - val_custom_mse: 3766519.5000 - val_loss: 5.4819 - learning_rate: 1.0000e-06\n",
      "Epoch 45/50\n",
      "\u001b[1m50/50\u001b[0m \u001b[32m━━━━━━━━━━━━━━━━━━━━\u001b[0m\u001b[37m\u001b[0m \u001b[1m53s\u001b[0m 1s/step - custom_mse: 3926256.0000 - loss: 5.6730 - val_custom_mse: 3668033.2500 - val_loss: 5.7956 - learning_rate: 1.0000e-06\n",
      "Epoch 46/50\n",
      "\u001b[1m50/50\u001b[0m \u001b[32m━━━━━━━━━━━━━━━━━━━━\u001b[0m\u001b[37m\u001b[0m \u001b[1m53s\u001b[0m 1s/step - custom_mse: 3928981.2500 - loss: 5.6794 - val_custom_mse: 4157097.5000 - val_loss: 5.6641 - learning_rate: 1.0000e-06\n",
      "Epoch 47/50\n",
      "\u001b[1m50/50\u001b[0m \u001b[32m━━━━━━━━━━━━━━━━━━━━\u001b[0m\u001b[37m\u001b[0m \u001b[1m53s\u001b[0m 1s/step - custom_mse: 3921095.0000 - loss: 5.6636 - val_custom_mse: 4313236.0000 - val_loss: 5.9922 - learning_rate: 1.0000e-06\n",
      "Epoch 48/50\n",
      "\u001b[1m50/50\u001b[0m \u001b[32m━━━━━━━━━━━━━━━━━━━━\u001b[0m\u001b[37m\u001b[0m \u001b[1m53s\u001b[0m 1s/step - custom_mse: 3930524.2500 - loss: 5.6725 - val_custom_mse: 4075422.0000 - val_loss: 6.0585 - learning_rate: 1.0000e-06\n",
      "Epoch 49/50\n",
      "\u001b[1m50/50\u001b[0m \u001b[32m━━━━━━━━━━━━━━━━━━━━\u001b[0m\u001b[37m\u001b[0m \u001b[1m53s\u001b[0m 1s/step - custom_mse: 3924788.2500 - loss: 5.6731 - val_custom_mse: 4005642.2500 - val_loss: 5.7146 - learning_rate: 1.0000e-06\n",
      "Epoch 50/50\n",
      "\u001b[1m50/50\u001b[0m \u001b[32m━━━━━━━━━━━━━━━━━━━━\u001b[0m\u001b[37m\u001b[0m \u001b[1m53s\u001b[0m 1s/step - custom_mse: 3947195.0000 - loss: 5.6733 - val_custom_mse: 4509563.0000 - val_loss: 5.5767 - learning_rate: 1.0000e-06\n"
     ]
    },
    {
     "data": {
      "image/png": "[encoded data removed]",
      "text/plain": [
       "<Figure size 640x480 with 1 Axes>"
      ]
     },
     "metadata": {},
     "output_type": "display_data"
    }
   ],
   "source": [
    "\n",
    "# Entrenamiento del modelo VAE con callbacks\n",
    "vae_model.compile(optimizer=optimizer)\n",
    "\n",
    "history = vae_model.fit(\n",
    "    train_dataset,              # Datos de entrada para entrenamiento\n",
    "    batch_size=batch_size,\n",
    "    epochs=50,                  # Número de épocas de entrenamiento\n",
    "    validation_data=test_dataset,  # Datos de validación para evaluar el modelo\n",
    "    #callbacks=[lr_scheduler, early_stopping],\n",
    "    callbacks=[lr_scheduler],\n",
    "    verbose=1                   # Muestra el progreso durante el entrenamiento\n",
    ")\n",
    "\n",
    "# --- Visualización de la pérdida ---\n",
    "plt.plot(history.history[\"loss\"], label=\"Pérdida Total\")\n",
    "plt.title(\"Pérdida durante el entrenamiento\")\n",
    "plt.xlabel(\"Epochs\")\n",
    "plt.ylabel(\"Pérdida\")\n",
    "plt.legend()\n",
    "plt.show()\n"
   ]
  },
  {
   "cell_type": "code",
   "execution_count": 18,
   "metadata": {
    "colab": {
     "base_uri": "https://localhost:8080/",
     "height": 472
    },
    "executionInfo": {
     "elapsed": 1123,
     "status": "ok",
     "timestamp": 1739644166510,
     "user": {
      "displayName": "Martín Sánchez Torres",
      "userId": "09593946760207616318"
     },
     "user_tz": -60
    },
    "id": "pf4IlH12K8Pu",
    "outputId": "1a78e48d-8f00-4af7-80d4-691ddd869e3b"
   },
   "outputs": [
    {
     "data": {
      "image/png": "[encoded data removed]",
      "text/plain": [
       "<Figure size 640x480 with 1 Axes>"
      ]
     },
     "metadata": {},
     "output_type": "display_data"
    }
   ],
   "source": [
    "plt.plot(history.history[\"loss\"], label=\"Pérdida en Entrenamiento\")\n",
    "plt.plot(history.history[\"val_loss\"], label=\"Pérdida en Validación\")\n",
    "plt.title(\"Pérdida durante el entrenamiento y validación\")\n",
    "plt.xlabel(\"Epochs\")\n",
    "plt.ylabel(\"Pérdida\")\n",
    "plt.legend()\n",
    "plt.show()"
   ]
  }
 ],
 "metadata": {
  "accelerator": "GPU",
  "colab": {
   "gpuType": "A100",
   "provenance": []
  },
  "kernelspec": {
   "display_name": "Python [conda env:base] *",
   "language": "python",
   "name": "conda-base-py"
  },
  "language_info": {
   "codemirror_mode": {
    "name": "ipython",
    "version": 3
   },
   "file_extension": ".py",
   "mimetype": "text/x-python",
   "name": "python",
   "nbconvert_exporter": "python",
   "pygments_lexer": "ipython3",
   "version": "3.12.9"
  }
 },
 "nbformat": 4,
 "nbformat_minor": 4
}
