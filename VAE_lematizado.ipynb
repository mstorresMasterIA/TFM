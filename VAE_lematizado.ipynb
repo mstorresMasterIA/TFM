{
 "cells": [
  {
   "cell_type": "code",
   "execution_count": 1,
   "metadata": {
    "colab": {
     "base_uri": "https://localhost:8080/"
    },
    "executionInfo": {
     "elapsed": 18578,
     "status": "ok",
     "timestamp": 1739654121421,
     "user": {
      "displayName": "Martín Sánchez Torres",
      "userId": "09593946760207616318"
     },
     "user_tz": -60
    },
    "id": "cBcUjPzv7iT7",
    "outputId": "6e6b5484-8371-440e-fb2b-0c4e7dfd3628"
   },
   "outputs": [
    {
     "name": "stdout",
     "output_type": "stream",
     "text": [
      "Mounted at /content/drive\n"
     ]
    }
   ],
   "source": [
    "from google.colab import drive\n",
    "drive.mount('/content/drive')"
   ]
  },
  {
   "cell_type": "code",
   "execution_count": 2,
   "metadata": {
    "executionInfo": {
     "elapsed": 174,
     "status": "ok",
     "timestamp": 1739654122348,
     "user": {
      "displayName": "Martín Sánchez Torres",
      "userId": "09593946760207616318"
     },
     "user_tz": -60
    },
    "id": "2RvvzwRB62J6"
   },
   "outputs": [],
   "source": [
    "import pandas as pd\n",
    "\n",
    "import matplotlib.pyplot as plt"
   ]
  },
  {
   "cell_type": "code",
   "execution_count": 3,
   "metadata": {
    "colab": {
     "base_uri": "https://localhost:8080/",
     "height": 475
    },
    "executionInfo": {
     "elapsed": 12615,
     "status": "ok",
     "timestamp": 1739654135772,
     "user": {
      "displayName": "Martín Sánchez Torres",
      "userId": "09593946760207616318"
     },
     "user_tz": -60
    },
    "id": "Ydn_RxwR66xc",
    "outputId": "33feb8de-cb90-4220-8d54-71f761f54b22"
   },
   "outputs": [
    {
     "name": "stdout",
     "output_type": "stream",
     "text": [
      "/content/drive/MyDrive/Colab Notebooks/Trabajo Fin de Estudios/Dataset/train_drcat_01.csv\n",
      "/content/drive/MyDrive/Colab Notebooks/Trabajo Fin de Estudios/Dataset/train_drcat_02.csv\n",
      "/content/drive/MyDrive/Colab Notebooks/Trabajo Fin de Estudios/Dataset/train_drcat_03.csv\n",
      "/content/drive/MyDrive/Colab Notebooks/Trabajo Fin de Estudios/Dataset/train_drcat_04.csv\n"
     ]
    },
    {
     "data": {
      "image/png": "[encoded data removed]",
      "text/plain": [
       "<Figure size 640x480 with 1 Axes>"
      ]
     },
     "metadata": {},
     "output_type": "display_data"
    }
   ],
   "source": [
    "# Define la ruta a la carpeta\n",
    "ruta_carpeta = '/content/drive/MyDrive/Colab Notebooks/Trabajo Fin de Estudios/Dataset/'\n",
    "\n",
    "# Define los nombres de los archivos\n",
    "nombres_archivos = ['train_drcat_01.csv', 'train_drcat_02.csv', 'train_drcat_03.csv', 'train_drcat_04.csv']\n",
    "# Crea una lista vacía para almacenar los DataFrames\n",
    "dfs = []\n",
    "\n",
    "# Itera sobre los nombres de los archivos y lee cada uno en un DataFrame\n",
    "for nombre_archivo in nombres_archivos:\n",
    "    ruta_archivo = ruta_carpeta + nombre_archivo\n",
    "    print(ruta_archivo)\n",
    "    df = pd.read_csv(ruta_archivo, sep=\",\", encoding='utf-8')  # Ajusta el separador y la codificación si es necesario\n",
    "    dfs.append(df)\n",
    "\n",
    "# Concatena todos los DataFrames en uno solo\n",
    "df_final = pd.concat(dfs, ignore_index=True)\n",
    "\n",
    "# Mostramos las 5 primeras filas\n",
    "df_final.head()\n",
    "\n",
    "plt.pie(df_final['label'].value_counts().values,\n",
    "        labels = df_final['label'].value_counts().index,\n",
    "        autopct='%1.1f%%')\n",
    "plt.show()"
   ]
  },
  {
   "cell_type": "code",
   "execution_count": 4,
   "metadata": {
    "colab": {
     "base_uri": "https://localhost:8080/",
     "height": 406
    },
    "executionInfo": {
     "elapsed": 8,
     "status": "ok",
     "timestamp": 1739654135772,
     "user": {
      "displayName": "Martín Sánchez Torres",
      "userId": "09593946760207616318"
     },
     "user_tz": -60
    },
    "id": "jn1iZZMX69uX",
    "outputId": "66592ff5-8f6c-488a-860d-746aff0430e5"
   },
   "outputs": [
    {
     "data": {
      "image/png": "[encoded data removed]",
      "text/plain": [
       "<Figure size 640x480 with 1 Axes>"
      ]
     },
     "metadata": {},
     "output_type": "display_data"
    }
   ],
   "source": [
    "df_label_0 = df_final[df_final['label'] == 0].sample(n=2000, random_state=42)  # random_state para reproducibilidad\n",
    "\n",
    "# Seleccionar 1000 textos con label 1\n",
    "df_label_1 = df_final[df_final['label'] == 1].sample(n=2000, random_state=42)\n",
    "\n",
    "# Concatenar los dos DataFrames\n",
    "df_seleccionado = pd.concat([df_label_0, df_label_1])\n",
    "\n",
    "# Reiniciar el índice\n",
    "df_seleccionado = df_seleccionado.reset_index(drop=True)\n",
    "\n",
    "plt.pie(df_seleccionado['label'].value_counts().values,\n",
    "        labels = df_seleccionado['label'].value_counts().index,\n",
    "        autopct='%1.1f%%')\n",
    "plt.show()"
   ]
  },
  {
   "cell_type": "code",
   "execution_count": 5,
   "metadata": {
    "executionInfo": {
     "elapsed": 3731,
     "status": "ok",
     "timestamp": 1739654139497,
     "user": {
      "displayName": "Martín Sánchez Torres",
      "userId": "09593946760207616318"
     },
     "user_tz": -60
    },
    "id": "Agmxm-L_GuqZ"
   },
   "outputs": [],
   "source": [
    "import tensorflow as tf\n",
    "from tensorflow.keras import Model, layers, Input\n",
    "import pandas as pd\n",
    "import numpy as np\n",
    "import matplotlib.pyplot as plt\n",
    "\n",
    "# --- Configuración Inicial ---\n",
    "vocab_size = 25000  # Tamaño del vocabulario\n",
    "embedding_dim = 300  # Dimensión del embedding\n",
    "sequence_length = 400  # Longitud máxima de secuencias\n",
    "latent_dim = 128  # Dimensión del espacio latente\n",
    "batch_size = 64\n",
    "epochs = 20\n",
    "\n",
    "\n",
    "# --- Carga y Preprocesamiento de Datos ---\n",
    "df=df_seleccionado"
   ]
  },
  {
   "cell_type": "code",
   "execution_count": 6,
   "metadata": {
    "executionInfo": {
     "elapsed": 6,
     "status": "ok",
     "timestamp": 1739654139498,
     "user": {
      "displayName": "Martín Sánchez Torres",
      "userId": "09593946760207616318"
     },
     "user_tz": -60
    },
    "id": "kOIjQSbrHmJM"
   },
   "outputs": [],
   "source": [
    "from tensorflow.keras.preprocessing.text import Tokenizer\n",
    "from tensorflow.keras.preprocessing.sequence import pad_sequences\n",
    "import numpy as np"
   ]
  },
  {
   "cell_type": "code",
   "execution_count": 7,
   "metadata": {
    "colab": {
     "base_uri": "https://localhost:8080/"
    },
    "executionInfo": {
     "elapsed": 3295,
     "status": "ok",
     "timestamp": 1739654142788,
     "user": {
      "displayName": "Martín Sánchez Torres",
      "userId": "09593946760207616318"
     },
     "user_tz": -60
    },
    "id": "nwbJwFpgN-_q",
    "outputId": "a8ab3909-8a84-458c-f121-8b79f131593b"
   },
   "outputs": [
    {
     "name": "stderr",
     "output_type": "stream",
     "text": [
      "[nltk_data] Downloading package stopwords to /root/nltk_data...\n",
      "[nltk_data]   Unzipping corpora/stopwords.zip.\n",
      "[nltk_data] Downloading package wordnet to /root/nltk_data...\n"
     ]
    }
   ],
   "source": [
    "import string\n",
    "import nltk\n",
    "from nltk.corpus import stopwords\n",
    "from nltk.stem import WordNetLemmatizer\n",
    "\n",
    "nltk.download('stopwords')\n",
    "stop_words = set(stopwords.words('english'))\n",
    "nltk.download('wordnet')\n",
    "lemmatizer = WordNetLemmatizer()\n",
    "\n",
    "def preprocess_text(text):\n",
    "    text = text.lower()\n",
    "    text = ''.join([char for char in text if char not in string.punctuation])\n",
    "    #text = ' '.join([word for word in text.split() if word not in stop_words])\n",
    "\n",
    "    # Lematizar palabras especificando el POS\n",
    "    text = ' '.join([lemmatizer.lemmatize(word, pos='v') for word in text.split()])  # Lematizar como verbos\n",
    "    return text\n",
    "\n"
   ]
  },
  {
   "cell_type": "code",
   "execution_count": 8,
   "metadata": {
    "executionInfo": {
     "elapsed": 9718,
     "status": "ok",
     "timestamp": 1739654152501,
     "user": {
      "displayName": "Martín Sánchez Torres",
      "userId": "09593946760207616318"
     },
     "user_tz": -60
    },
    "id": "WGwNJWPwOeNg"
   },
   "outputs": [],
   "source": [
    "# Eliminar registros nulos o vacíos en la columna de texto\n",
    "df = df.dropna(subset=[\"text\"])\n",
    "df = df[df[\"text\"].str.strip() != \"\"]\n",
    "df['text_clean'] = df['text'].apply(preprocess_text)"
   ]
  },
  {
   "cell_type": "code",
   "execution_count": 9,
   "metadata": {
    "executionInfo": {
     "elapsed": 228,
     "status": "ok",
     "timestamp": 1739654153543,
     "user": {
      "displayName": "Martín Sánchez Torres",
      "userId": "09593946760207616318"
     },
     "user_tz": -60
    },
    "id": "gdTzoSvxdUZR"
   },
   "outputs": [],
   "source": [
    "import tensorflow as tf\n",
    "from sklearn.model_selection import train_test_split\n",
    "\n",
    "vectorizador = tf.keras.layers.TextVectorization(\n",
    "    max_tokens=vocab_size,\n",
    "    output_mode='int',  # Para generar secuencias de índices\n",
    "    output_sequence_length=sequence_length\n",
    ")"
   ]
  },
  {
   "cell_type": "code",
   "execution_count": 10,
   "metadata": {
    "colab": {
     "base_uri": "https://localhost:8080/"
    },
    "executionInfo": {
     "elapsed": 7,
     "status": "ok",
     "timestamp": 1739654153544,
     "user": {
      "displayName": "Martín Sánchez Torres",
      "userId": "09593946760207616318"
     },
     "user_tz": -60
    },
    "id": "SRnuGuvJo0Cw",
    "outputId": "64e70168-1381-4ab6-ed09-bfbbdd8696ed"
   },
   "outputs": [
    {
     "name": "stdout",
     "output_type": "stream",
     "text": [
      "3994    as an 8th grader i believe that life can be en...\n",
      "423     have you ever ask someone for advice do you go...\n",
      "2991    dear principal i be write to you today to shar...\n",
      "1221    have you ever have a problem that you couldnt ...\n",
      "506     a danger of ecploring venus be that the temper...\n",
      "Name: text_clean, dtype: object\n"
     ]
    }
   ],
   "source": [
    "from sklearn.model_selection import train_test_split\n",
    "X_train, X_test = train_test_split(df['text_clean'], test_size=0.2, random_state=42)\n",
    "\n",
    "print(X_train[:5])"
   ]
  },
  {
   "cell_type": "code",
   "execution_count": 11,
   "metadata": {
    "colab": {
     "base_uri": "https://localhost:8080/"
    },
    "executionInfo": {
     "elapsed": 5,
     "status": "ok",
     "timestamp": 1739654156193,
     "user": {
      "displayName": "Martín Sánchez Torres",
      "userId": "09593946760207616318"
     },
     "user_tz": -60
    },
    "id": "D_Px_ixmo6j-",
    "outputId": "6562fcf1-9ca9-4b05-e5ba-1f917a66bf56"
   },
   "outputs": [
    {
     "name": "stdout",
     "output_type": "stream",
     "text": [
      "<class 'str'>\n"
     ]
    }
   ],
   "source": [
    "print(type(X_train[0]))  # Debería ser <class 'str'>"
   ]
  },
  {
   "cell_type": "code",
   "execution_count": 12,
   "metadata": {
    "executionInfo": {
     "elapsed": 43000,
     "status": "ok",
     "timestamp": 1739654201547,
     "user": {
      "displayName": "Martín Sánchez Torres",
      "userId": "09593946760207616318"
     },
     "user_tz": -60
    },
    "id": "RIFcHobQovFm"
   },
   "outputs": [],
   "source": [
    "\n",
    "#vectorizador.adapt(X_train)\n",
    "vectorizador.adapt(df['text_clean'])\n",
    "# Vectorize before batching\n",
    "X_train_vec = [vectorizador(x) for x in X_train]  # Vectorize each text\n",
    "X_test_vec = [vectorizador(x) for x in X_test]    # Vectorize each text\n",
    "\n",
    "# Crear los datasets de entrada\n",
    "train_dataset = tf.data.Dataset.from_tensor_slices(X_train_vec)  # Solo entradas, sin etiquetas\n",
    "train_dataset = train_dataset.batch(batch_size).shuffle(len(X_train)).prefetch(tf.data.AUTOTUNE)\n",
    "\n",
    "test_dataset = tf.data.Dataset.from_tensor_slices(X_test_vec)  # Solo entradas, sin etiquetas\n",
    "test_dataset = test_dataset.batch(batch_size).shuffle(len(X_test)).prefetch(tf.data.AUTOTUNE)"
   ]
  },
  {
   "cell_type": "code",
   "execution_count": 13,
   "metadata": {
    "colab": {
     "base_uri": "https://localhost:8080/"
    },
    "executionInfo": {
     "elapsed": 14,
     "status": "ok",
     "timestamp": 1739654202112,
     "user": {
      "displayName": "Martín Sánchez Torres",
      "userId": "09593946760207616318"
     },
     "user_tz": -60
    },
    "id": "l8jMPErVozSh",
    "outputId": "375e672f-ca5d-4e2d-bb5d-4f9024852a42"
   },
   "outputs": [
    {
     "name": "stdout",
     "output_type": "stream",
     "text": [
      "tf.Tensor(\n",
      "[[  17  110    9 ...    0    0    0]\n",
      " [ 569   50   54 ...    0    0    0]\n",
      " [ 705    3    8 ... 1822    5   98]\n",
      " ...\n",
      " [  16    7    2 ...  431    7  749]\n",
      " [ 569  231   10 ...    0    0    0]\n",
      " [ 758 2450  448 ...   12   25    4]], shape=(64, 400), dtype=int64)\n"
     ]
    }
   ],
   "source": [
    "for batch in train_dataset.take(1):\n",
    "    print(batch)  # Verifica que sea un tensor con los índices de las palabras"
   ]
  },
  {
   "cell_type": "code",
   "execution_count": 14,
   "metadata": {
    "colab": {
     "base_uri": "https://localhost:8080/"
    },
    "executionInfo": {
     "elapsed": 12,
     "status": "ok",
     "timestamp": 1739654202112,
     "user": {
      "displayName": "Martín Sánchez Torres",
      "userId": "09593946760207616318"
     },
     "user_tz": -60
    },
    "id": "6bQYgnDmwexF",
    "outputId": "ff2fd2da-65f5-4ef0-a777-3c0a7be37be8"
   },
   "outputs": [
    {
     "name": "stdout",
     "output_type": "stream",
     "text": [
      "tf.Tensor(\n",
      "[[153 100 306 ... 618 100  33]\n",
      " [145  49 102 ...   0   0   0]\n",
      " [419 510  17 ... 651 123  17]\n",
      " ...\n",
      " [ 33  14 411 ... 783 607   4]\n",
      " [294   3   6 ...   0   0   0]\n",
      " [ 62 584   3 ...   0   0   0]], shape=(64, 400), dtype=int64)\n"
     ]
    }
   ],
   "source": [
    "for batch in test_dataset.take(1):\n",
    "    print(batch)  # Verifica que sea un tensor con los índices de las palabras"
   ]
  },
  {
   "cell_type": "code",
   "execution_count": 15,
   "metadata": {
    "colab": {
     "base_uri": "https://localhost:8080/"
    },
    "executionInfo": {
     "elapsed": 8,
     "status": "ok",
     "timestamp": 1739654202112,
     "user": {
      "displayName": "Martín Sánchez Torres",
      "userId": "09593946760207616318"
     },
     "user_tz": -60
    },
    "id": "19JvQd44pNd_",
    "outputId": "54125771-a50c-4425-ba54-2e9d04f1fc64"
   },
   "outputs": [
    {
     "name": "stdout",
     "output_type": "stream",
     "text": [
      "19648\n"
     ]
    }
   ],
   "source": [
    "print(vectorizador.vocabulary_size())  # Asegúrate de que el vocabulario fue correctamente adaptado"
   ]
  },
  {
   "cell_type": "code",
   "execution_count": 17,
   "metadata": {
    "executionInfo": {
     "elapsed": 1552,
     "status": "ok",
     "timestamp": 1739654291296,
     "user": {
      "displayName": "Martín Sánchez Torres",
      "userId": "09593946760207616318"
     },
     "user_tz": -60
    },
    "id": "eGt39hx2xg7f"
   },
   "outputs": [],
   "source": [
    "\n",
    "from tensorflow.keras.saving import register_keras_serializable\n",
    "import tensorflow as tf\n",
    "from tensorflow.keras import Model, layers, Input\n",
    "from tensorflow.keras import regularizers\n",
    "from tensorflow.keras.optimizers import Adam\n",
    "from tensorflow.keras.callbacks import ReduceLROnPlateau, EarlyStopping\n",
    "\n",
    "# --- Ajustes del optimizador ---\n",
    "initial_lr = 1e-4  # Tasa de aprendizaje reducida\n",
    "optimizer = Adam(learning_rate=initial_lr)\n",
    "\n",
    "# --- Callbacks para mejorar convergencia ---\n",
    "lr_scheduler = ReduceLROnPlateau(\n",
    "    monitor=\"val_loss\", factor=0.5, patience=3, min_lr=1e-6, verbose=1\n",
    ")\n",
    "early_stopping = EarlyStopping(\n",
    "    monitor=\"val_loss\", patience=10, restore_best_weights=True, verbose=1\n",
    ")\n",
    "\n",
    "# --- Definición del Encoder ---\n",
    "encoder_inputs = Input(shape=(sequence_length,), name=\"encoder_input\")\n",
    "x = vectorizador(encoder_inputs)\n",
    "x = tf.keras.layers.Embedding(vocab_size, embedding_dim, mask_zero=True, name=\"embedding_layer\")(encoder_inputs)  # Embedding\n",
    "x = layers.LSTM(sequence_length, return_sequences=False, use_cudnn=False, kernel_regularizer=regularizers.l2(0.01), name=\"encoder_lstm\")(x)  # Reducimos unidades en LSTM y agregamos regularización L2\n",
    "x = layers.Dense(256, activation=\"relu\", kernel_regularizer=regularizers.l2(0.01), name=\"encoder_dense_1\")(x)  # Regularización L2\n",
    "x = layers.Dropout(0.4)(x)  # Dropout para prevenir overfitting\n",
    "x = layers.Dense(128, activation=\"relu\", kernel_regularizer=regularizers.l2(0.01), name=\"encoder_dense_2\")(x)  # Regularización L2\n",
    "\n",
    "# Parametrización de la distribución latente\n",
    "z_mean = layers.Dense(latent_dim, name=\"z_mean\")(x)\n",
    "z_log_var = layers.Dense(latent_dim, name=\"z_log_var\")(x)\n",
    "\n",
    "# Reparametrización\n",
    "def sampling(args):\n",
    "    z_mean, z_log_var = args\n",
    "    epsilon = tf.keras.backend.random_normal(shape=(tf.shape(z_mean)[0], latent_dim))\n",
    "    return z_mean + tf.exp(0.5 * z_log_var) * epsilon\n",
    "\n",
    "z = layers.Lambda(sampling, name=\"z_sampling\")([z_mean, z_log_var])\n",
    "\n",
    "encoder = Model(encoder_inputs, [z_mean, z_log_var, z], name=\"encoder\")\n",
    "\n",
    "# --- Definición del Decoder ---\n",
    "decoder_inputs = Input(shape=(latent_dim,), name=\"z_sampling_input\")\n",
    "x = layers.Dense(128, activation=\"relu\", kernel_regularizer=regularizers.l2(0.01), name=\"decoder_dense\")(decoder_inputs)  # Regularización L2\n",
    "x = layers.Dense(256, activation=\"relu\", kernel_regularizer=regularizers.l2(0.01), name=\"decoder_dense_1\")(x)  # Regularización L2\n",
    "x = layers.RepeatVector(sequence_length)(x)\n",
    "decoder_outputs = layers.LSTM(sequence_length, return_sequences=True, kernel_regularizer=regularizers.l2(0.01))(x)  # Regularización L2\n",
    "decoder_outputs = layers.TimeDistributed(layers.Dense(vocab_size, activation=\"softmax\"))(decoder_outputs)\n",
    "decoder = Model(decoder_inputs, decoder_outputs, name=\"decoder\")\n",
    "\n",
    "\n",
    "# --- Definición del Autoencoder ---\n",
    "vae_outputs = decoder(encoder(encoder_inputs)[2])\n",
    "\n",
    "def vae_loss(inputs, outputs, z_mean, z_log_var):\n",
    "    reconstruction_loss = tf.reduce_mean(\n",
    "        tf.keras.losses.sparse_categorical_crossentropy(inputs, outputs)\n",
    "    )\n",
    "\n",
    "    # KL Divergence ajustada para evitar sumas grandes\n",
    "    kl_loss = -0.5 * tf.reduce_mean(\n",
    "        1 + z_log_var - tf.square(z_mean) - tf.exp(z_log_var)\n",
    "    )\n",
    "    beta = 0.4  # Hiperparámetro de ajuste\n",
    "    return reconstruction_loss + beta * kl_loss\n",
    "\n",
    "def custom_mse(y_true, y_pred):\n",
    "    y_pred = tf.argmax(y_pred, axis=-1)  # Obtener los tokens con mayor probabilidad\n",
    "\n",
    "    # Convertir a enteros\n",
    "    y_pred = tf.cast(y_pred, tf.int32)  # Convertir y_pred a tf.int32\n",
    "\n",
    "    # Calcular MSE solo en la dimensión de la secuencia\n",
    "    mse = tf.keras.losses.MeanSquaredError()(y_true, y_pred)\n",
    "\n",
    "    return mse\n",
    "\n",
    "# --- Definición del modelo con `train_step` personalizado ---\n",
    "from tensorflow.keras.metrics import MeanSquaredError\n",
    "@register_keras_serializable()\n",
    "class VAEModel(Model):\n",
    "    def __init__(self, encoder, decoder, **kwargs):\n",
    "        super(VAEModel, self).__init__(**kwargs)\n",
    "        self.encoder = encoder\n",
    "        self.decoder = decoder\n",
    "        \n",
    "    def call(self, inputs):\n",
    "        z_mean, z_log_var, z = self.encoder(inputs)\n",
    "        return self.decoder(z), z_mean, z_log_var\n",
    "        #return self.decoder(z)\n",
    "\n",
    "    def get_config(self):\n",
    "        config = super().get_config()\n",
    "        config.update({\n",
    "            \"encoder\": self.encoder,\n",
    "            \"decoder\": self.decoder\n",
    "        })\n",
    "        return config\n",
    "\n",
    "    @classmethod\n",
    "    def from_config(cls, config):\n",
    "        encoder = config.pop(\"encoder\")\n",
    "        decoder = config.pop(\"decoder\")\n",
    "        return cls(encoder, decoder, **config)\n",
    "\n",
    "    def train_step(self, data):\n",
    "        self.reset_metrics()  # Reinicia las métricas antes de cada paso\n",
    "        with tf.GradientTape() as tape:\n",
    "            inputs = data\n",
    "            outputs, z_mean, z_log_var = self(inputs, training=True)\n",
    "            loss = vae_loss(inputs, outputs, z_mean, z_log_var)\n",
    "\n",
    "        # Computar gradientes\n",
    "        grads = tape.gradient(loss, self.trainable_variables)\n",
    "\n",
    "        # Actualizar los pesos\n",
    "        self.optimizer.apply_gradients(zip(grads, self.trainable_variables))\n",
    "        # Actualizar la métrica de accuracy\n",
    "        mse=custom_mse(inputs, outputs)\n",
    "\n",
    "        return {\"loss\": loss, \"custom_mse\": mse}  # Cambiar el nombre de la métrica en el diccionario de salida\n",
    "\n",
    "    def test_step(self, data):\n",
    "        self.reset_metrics()  # Reinicia las métricas antes del paso de prueba\n",
    "        inputs = data\n",
    "        outputs, z_mean, z_log_var = self(inputs, training=False)\n",
    "        loss = vae_loss(inputs, outputs, z_mean, z_log_var)\n",
    "\n",
    "        mse=custom_mse(inputs, outputs)\n",
    "        return {\"loss\": loss, \"custom_mse\": mse}  # Cambiar el nombre de la métrica en el diccionario de salida\n",
    "\n",
    "\n",
    "from tensorflow.keras.callbacks import LearningRateScheduler\n",
    "\n",
    "def print_lr(epoch, lr):\n",
    "    print(f\"Epoch: {epoch + 1}, Learning Rate: {lr}\")\n",
    "\n",
    "lr_callback = LearningRateScheduler(lambda epoch, lr: lr, verbose=1)\n",
    "# Crear el modelo VAE\n",
    "vae_model = VAEModel(encoder, decoder)\n",
    "\n"
   ]
  },
  {
   "cell_type": "code",
   "execution_count": 18,
   "metadata": {
    "colab": {
     "base_uri": "https://localhost:8080/",
     "height": 1000
    },
    "executionInfo": {
     "elapsed": 1672315,
     "status": "ok",
     "timestamp": 1739656671006,
     "user": {
      "displayName": "Martín Sánchez Torres",
      "userId": "09593946760207616318"
     },
     "user_tz": -60
    },
    "id": "hc42kw2_V1Xv",
    "outputId": "3a81f06e-bef7-41f1-b4f4-bbdff9e7965c"
   },
   "outputs": [
    {
     "name": "stdout",
     "output_type": "stream",
     "text": [
      "Epoch 1/50\n",
      "\u001b[1m50/50\u001b[0m \u001b[32m━━━━━━━━━━━━━━━━━━━━\u001b[0m\u001b[37m\u001b[0m \u001b[1m87s\u001b[0m 1s/step - custom_mse: 12716839.0000 - loss: 8.8170 - val_custom_mse: 2077285.0000 - val_loss: 7.0774 - learning_rate: 1.0000e-04\n",
      "Epoch 2/50\n",
      "\u001b[1m50/50\u001b[0m \u001b[32m━━━━━━━━━━━━━━━━━━━━\u001b[0m\u001b[37m\u001b[0m \u001b[1m52s\u001b[0m 1s/step - custom_mse: 2001030.7500 - loss: 6.1613 - val_custom_mse: 1932733.2500 - val_loss: 5.8424 - learning_rate: 1.0000e-04\n",
      "Epoch 3/50\n",
      "\u001b[1m50/50\u001b[0m \u001b[32m━━━━━━━━━━━━━━━━━━━━\u001b[0m\u001b[37m\u001b[0m \u001b[1m53s\u001b[0m 1s/step - custom_mse: 2004979.5000 - loss: 5.5669 - val_custom_mse: 1987939.7500 - val_loss: 5.7250 - learning_rate: 1.0000e-04\n",
      "Epoch 4/50\n",
      "\u001b[1m50/50\u001b[0m \u001b[32m━━━━━━━━━━━━━━━━━━━━\u001b[0m\u001b[37m\u001b[0m \u001b[1m53s\u001b[0m 1s/step - custom_mse: 2007091.3750 - loss: 5.5239 - val_custom_mse: 1987939.7500 - val_loss: 5.7110 - learning_rate: 1.0000e-04\n",
      "Epoch 5/50\n",
      "\u001b[1m50/50\u001b[0m \u001b[32m━━━━━━━━━━━━━━━━━━━━\u001b[0m\u001b[37m\u001b[0m \u001b[1m53s\u001b[0m 1s/step - custom_mse: 2015351.6250 - loss: 5.5196 - val_custom_mse: 1987939.7500 - val_loss: 5.7056 - learning_rate: 1.0000e-04\n",
      "Epoch 6/50\n",
      "\u001b[1m50/50\u001b[0m \u001b[32m━━━━━━━━━━━━━━━━━━━━\u001b[0m\u001b[37m\u001b[0m \u001b[1m53s\u001b[0m 1s/step - custom_mse: 2011537.1250 - loss: 5.5122 - val_custom_mse: 2394652.7500 - val_loss: 5.4088 - learning_rate: 1.0000e-04\n",
      "Epoch 7/50\n",
      "\u001b[1m50/50\u001b[0m \u001b[32m━━━━━━━━━━━━━━━━━━━━\u001b[0m\u001b[37m\u001b[0m \u001b[1m53s\u001b[0m 1s/step - custom_mse: 2013404.2500 - loss: 5.5086 - val_custom_mse: 2183485.0000 - val_loss: 5.4804 - learning_rate: 1.0000e-04\n",
      "Epoch 8/50\n",
      "\u001b[1m50/50\u001b[0m \u001b[32m━━━━━━━━━━━━━━━━━━━━\u001b[0m\u001b[37m\u001b[0m \u001b[1m53s\u001b[0m 1s/step - custom_mse: 2015307.5000 - loss: 5.5075 - val_custom_mse: 2394652.7500 - val_loss: 5.4082 - learning_rate: 1.0000e-04\n",
      "Epoch 9/50\n",
      "\u001b[1m50/50\u001b[0m \u001b[32m━━━━━━━━━━━━━━━━━━━━\u001b[0m\u001b[37m\u001b[0m \u001b[1m52s\u001b[0m 1s/step - custom_mse: 2002251.7500 - loss: 5.5034 - val_custom_mse: 1987939.7500 - val_loss: 5.6976 - learning_rate: 1.0000e-04\n",
      "Epoch 10/50\n",
      "\u001b[1m50/50\u001b[0m \u001b[32m━━━━━━━━━━━━━━━━━━━━\u001b[0m\u001b[37m\u001b[0m \u001b[1m53s\u001b[0m 1s/step - custom_mse: 2004550.3750 - loss: 5.5010 - val_custom_mse: 2183485.0000 - val_loss: 5.4667 - learning_rate: 1.0000e-04\n",
      "Epoch 11/50\n",
      "\u001b[1m50/50\u001b[0m \u001b[32m━━━━━━━━━━━━━━━━━━━━\u001b[0m\u001b[37m\u001b[0m \u001b[1m0s\u001b[0m 1s/step - custom_mse: 2009082.6250 - loss: 5.4890\n",
      "Epoch 11: ReduceLROnPlateau reducing learning rate to 4.999999873689376e-05.\n",
      "\u001b[1m50/50\u001b[0m \u001b[32m━━━━━━━━━━━━━━━━━━━━\u001b[0m\u001b[37m\u001b[0m \u001b[1m53s\u001b[0m 1s/step - custom_mse: 2011274.7500 - loss: 5.4910 - val_custom_mse: 2332797.7500 - val_loss: 5.6982 - learning_rate: 1.0000e-04\n",
      "Epoch 12/50\n",
      "\u001b[1m50/50\u001b[0m \u001b[32m━━━━━━━━━━━━━━━━━━━━\u001b[0m\u001b[37m\u001b[0m \u001b[1m53s\u001b[0m 1s/step - custom_mse: 2010745.2500 - loss: 5.4751 - val_custom_mse: 2208188.0000 - val_loss: 5.7661 - learning_rate: 5.0000e-05\n",
      "Epoch 13/50\n",
      "\u001b[1m50/50\u001b[0m \u001b[32m━━━━━━━━━━━━━━━━━━━━\u001b[0m\u001b[37m\u001b[0m \u001b[1m50s\u001b[0m 996ms/step - custom_mse: 2016893.2500 - loss: 5.4703 - val_custom_mse: 2496694.5000 - val_loss: 5.6268 - learning_rate: 5.0000e-05\n",
      "Epoch 14/50\n",
      "\u001b[1m50/50\u001b[0m \u001b[32m━━━━━━━━━━━━━━━━━━━━\u001b[0m\u001b[37m\u001b[0m \u001b[1m0s\u001b[0m 833ms/step - custom_mse: 2009082.6250 - loss: 5.4627\n",
      "Epoch 14: ReduceLROnPlateau reducing learning rate to 2.499999936844688e-05.\n",
      "\u001b[1m50/50\u001b[0m \u001b[32m━━━━━━━━━━━━━━━━━━━━\u001b[0m\u001b[37m\u001b[0m \u001b[1m45s\u001b[0m 891ms/step - custom_mse: 2014246.3750 - loss: 5.4618 - val_custom_mse: 2208188.0000 - val_loss: 5.7578 - learning_rate: 5.0000e-05\n",
      "Epoch 15/50\n",
      "\u001b[1m50/50\u001b[0m \u001b[32m━━━━━━━━━━━━━━━━━━━━\u001b[0m\u001b[37m\u001b[0m \u001b[1m44s\u001b[0m 887ms/step - custom_mse: 2007091.3750 - loss: 5.4510 - val_custom_mse: 2332797.7500 - val_loss: 5.6659 - learning_rate: 2.5000e-05\n",
      "Epoch 16/50\n",
      "\u001b[1m50/50\u001b[0m \u001b[32m━━━━━━━━━━━━━━━━━━━━\u001b[0m\u001b[37m\u001b[0m \u001b[1m45s\u001b[0m 894ms/step - custom_mse: 2005617.1250 - loss: 5.4423 - val_custom_mse: 1978768.0000 - val_loss: 5.2655 - learning_rate: 2.5000e-05\n",
      "Epoch 17/50\n",
      "\u001b[1m50/50\u001b[0m \u001b[32m━━━━━━━━━━━━━━━━━━━━\u001b[0m\u001b[37m\u001b[0m \u001b[1m45s\u001b[0m 898ms/step - custom_mse: 2002959.3750 - loss: 5.4397 - val_custom_mse: 2332797.7500 - val_loss: 5.6542 - learning_rate: 2.5000e-05\n",
      "Epoch 18/50\n",
      "\u001b[1m50/50\u001b[0m \u001b[32m━━━━━━━━━━━━━━━━━━━━\u001b[0m\u001b[37m\u001b[0m \u001b[1m45s\u001b[0m 897ms/step - custom_mse: 2006685.1250 - loss: 5.4310 - val_custom_mse: 1932733.2500 - val_loss: 5.6805 - learning_rate: 2.5000e-05\n",
      "Epoch 19/50\n",
      "\u001b[1m50/50\u001b[0m \u001b[32m━━━━━━━━━━━━━━━━━━━━\u001b[0m\u001b[37m\u001b[0m \u001b[1m0s\u001b[0m 840ms/step - custom_mse: 2009082.6250 - loss: 5.4264\n",
      "Epoch 19: ReduceLROnPlateau reducing learning rate to 1.249999968422344e-05.\n",
      "\u001b[1m50/50\u001b[0m \u001b[32m━━━━━━━━━━━━━━━━━━━━\u001b[0m\u001b[37m\u001b[0m \u001b[1m45s\u001b[0m 898ms/step - custom_mse: 2006813.3750 - loss: 5.4250 - val_custom_mse: 1987939.7500 - val_loss: 5.6424 - learning_rate: 2.5000e-05\n",
      "Epoch 20/50\n",
      "\u001b[1m50/50\u001b[0m \u001b[32m━━━━━━━━━━━━━━━━━━━━\u001b[0m\u001b[37m\u001b[0m \u001b[1m45s\u001b[0m 894ms/step - custom_mse: 2002959.3750 - loss: 5.4200 - val_custom_mse: 2496694.5000 - val_loss: 5.5842 - learning_rate: 1.2500e-05\n",
      "Epoch 21/50\n",
      "\u001b[1m50/50\u001b[0m \u001b[32m━━━━━━━━━━━━━━━━━━━━\u001b[0m\u001b[37m\u001b[0m \u001b[1m44s\u001b[0m 888ms/step - custom_mse: 2005640.0000 - loss: 5.4102 - val_custom_mse: 2496694.5000 - val_loss: 5.5819 - learning_rate: 1.2500e-05\n",
      "Epoch 22/50\n",
      "\u001b[1m50/50\u001b[0m \u001b[32m━━━━━━━━━━━━━━━━━━━━\u001b[0m\u001b[37m\u001b[0m \u001b[1m0s\u001b[0m 841ms/step - custom_mse: 2009082.6250 - loss: 5.4142\n",
      "Epoch 22: ReduceLROnPlateau reducing learning rate to 6.24999984211172e-06.\n",
      "\u001b[1m50/50\u001b[0m \u001b[32m━━━━━━━━━━━━━━━━━━━━\u001b[0m\u001b[37m\u001b[0m \u001b[1m45s\u001b[0m 899ms/step - custom_mse: 2001030.7500 - loss: 5.4170 - val_custom_mse: 2394652.7500 - val_loss: 5.3054 - learning_rate: 1.2500e-05\n",
      "Epoch 23/50\n",
      "\u001b[1m50/50\u001b[0m \u001b[32m━━━━━━━━━━━━━━━━━━━━\u001b[0m\u001b[37m\u001b[0m \u001b[1m45s\u001b[0m 892ms/step - custom_mse: 2017264.5000 - loss: 5.4095 - val_custom_mse: 1932733.2500 - val_loss: 5.6587 - learning_rate: 6.2500e-06\n",
      "Epoch 24/50\n",
      "\u001b[1m50/50\u001b[0m \u001b[32m━━━━━━━━━━━━━━━━━━━━\u001b[0m\u001b[37m\u001b[0m \u001b[1m45s\u001b[0m 898ms/step - custom_mse: 2006785.6250 - loss: 5.4083 - val_custom_mse: 2208188.0000 - val_loss: 5.7184 - learning_rate: 6.2500e-06\n",
      "Epoch 25/50\n",
      "\u001b[1m50/50\u001b[0m \u001b[32m━━━━━━━━━━━━━━━━━━━━\u001b[0m\u001b[37m\u001b[0m \u001b[1m45s\u001b[0m 900ms/step - custom_mse: 2011051.6250 - loss: 5.4103 - val_custom_mse: 2077285.0000 - val_loss: 5.2623 - learning_rate: 6.2500e-06\n",
      "Epoch 26/50\n",
      "\u001b[1m50/50\u001b[0m \u001b[32m━━━━━━━━━━━━━━━━━━━━\u001b[0m\u001b[37m\u001b[0m \u001b[1m45s\u001b[0m 893ms/step - custom_mse: 2007090.2500 - loss: 5.4035 - val_custom_mse: 1978768.0000 - val_loss: 5.2246 - learning_rate: 6.2500e-06\n",
      "Epoch 27/50\n",
      "\u001b[1m50/50\u001b[0m \u001b[32m━━━━━━━━━━━━━━━━━━━━\u001b[0m\u001b[37m\u001b[0m \u001b[1m44s\u001b[0m 890ms/step - custom_mse: 2014039.6250 - loss: 5.3998 - val_custom_mse: 1975791.2500 - val_loss: 5.4620 - learning_rate: 6.2500e-06\n",
      "Epoch 28/50\n",
      "\u001b[1m50/50\u001b[0m \u001b[32m━━━━━━━━━━━━━━━━━━━━\u001b[0m\u001b[37m\u001b[0m \u001b[1m44s\u001b[0m 890ms/step - custom_mse: 2010858.8750 - loss: 5.4035 - val_custom_mse: 2332783.2500 - val_loss: 5.6336 - learning_rate: 6.2500e-06\n",
      "Epoch 29/50\n",
      "\u001b[1m50/50\u001b[0m \u001b[32m━━━━━━━━━━━━━━━━━━━━\u001b[0m\u001b[37m\u001b[0m \u001b[1m0s\u001b[0m 836ms/step - custom_mse: 2009019.2500 - loss: 5.3993\n",
      "Epoch 29: ReduceLROnPlateau reducing learning rate to 3.12499992105586e-06.\n",
      "\u001b[1m50/50\u001b[0m \u001b[32m━━━━━━━━━━━━━━━━━━━━\u001b[0m\u001b[37m\u001b[0m \u001b[1m45s\u001b[0m 895ms/step - custom_mse: 2010191.3750 - loss: 5.4038 - val_custom_mse: 2208202.0000 - val_loss: 5.7107 - learning_rate: 6.2500e-06\n",
      "Epoch 30/50\n",
      "\u001b[1m50/50\u001b[0m \u001b[32m━━━━━━━━━━━━━━━━━━━━\u001b[0m\u001b[37m\u001b[0m \u001b[1m45s\u001b[0m 900ms/step - custom_mse: 2009380.5000 - loss: 5.4000 - val_custom_mse: 2208193.7500 - val_loss: 5.7028 - learning_rate: 3.1250e-06\n",
      "Epoch 31/50\n",
      "\u001b[1m50/50\u001b[0m \u001b[32m━━━━━━━━━━━━━━━━━━━━\u001b[0m\u001b[37m\u001b[0m \u001b[1m44s\u001b[0m 891ms/step - custom_mse: 2003976.1250 - loss: 5.3988 - val_custom_mse: 2077300.1250 - val_loss: 5.2534 - learning_rate: 3.1250e-06\n",
      "Epoch 32/50\n",
      "\u001b[1m50/50\u001b[0m \u001b[32m━━━━━━━━━━━━━━━━━━━━\u001b[0m\u001b[37m\u001b[0m \u001b[1m0s\u001b[0m 837ms/step - custom_mse: 2008979.2500 - loss: 5.3967\n",
      "Epoch 32: ReduceLROnPlateau reducing learning rate to 1.56249996052793e-06.\n",
      "\u001b[1m50/50\u001b[0m \u001b[32m━━━━━━━━━━━━━━━━━━━━\u001b[0m\u001b[37m\u001b[0m \u001b[1m45s\u001b[0m 895ms/step - custom_mse: 2014142.3750 - loss: 5.3960 - val_custom_mse: 2208210.7500 - val_loss: 5.7089 - learning_rate: 3.1250e-06\n",
      "Epoch 33/50\n",
      "\u001b[1m50/50\u001b[0m \u001b[32m━━━━━━━━━━━━━━━━━━━━\u001b[0m\u001b[37m\u001b[0m \u001b[1m45s\u001b[0m 903ms/step - custom_mse: 2007439.3750 - loss: 5.3986 - val_custom_mse: 1987815.8750 - val_loss: 5.6141 - learning_rate: 1.5625e-06\n",
      "Epoch 34/50\n",
      "\u001b[1m50/50\u001b[0m \u001b[32m━━━━━━━━━━━━━━━━━━━━\u001b[0m\u001b[37m\u001b[0m \u001b[1m45s\u001b[0m 897ms/step - custom_mse: 2014090.3750 - loss: 5.3935 - val_custom_mse: 1987998.7500 - val_loss: 5.6136 - learning_rate: 1.5625e-06\n",
      "Epoch 35/50\n",
      "\u001b[1m50/50\u001b[0m \u001b[32m━━━━━━━━━━━━━━━━━━━━\u001b[0m\u001b[37m\u001b[0m \u001b[1m0s\u001b[0m 838ms/step - custom_mse: 2008940.5000 - loss: 5.3948\n",
      "Epoch 35: ReduceLROnPlateau reducing learning rate to 1e-06.\n",
      "\u001b[1m50/50\u001b[0m \u001b[32m━━━━━━━━━━━━━━━━━━━━\u001b[0m\u001b[37m\u001b[0m \u001b[1m45s\u001b[0m 896ms/step - custom_mse: 2006674.5000 - loss: 5.3936 - val_custom_mse: 2077301.0000 - val_loss: 5.2470 - learning_rate: 1.5625e-06\n",
      "Epoch 36/50\n",
      "\u001b[1m50/50\u001b[0m \u001b[32m━━━━━━━━━━━━━━━━━━━━\u001b[0m\u001b[37m\u001b[0m \u001b[1m45s\u001b[0m 893ms/step - custom_mse: 2017089.7500 - loss: 5.3940 - val_custom_mse: 2183089.5000 - val_loss: 5.3778 - learning_rate: 1.0000e-06\n",
      "Epoch 37/50\n",
      "\u001b[1m50/50\u001b[0m \u001b[32m━━━━━━━━━━━━━━━━━━━━\u001b[0m\u001b[37m\u001b[0m \u001b[1m45s\u001b[0m 895ms/step - custom_mse: 2007997.6250 - loss: 5.3969 - val_custom_mse: 2496680.5000 - val_loss: 5.5627 - learning_rate: 1.0000e-06\n",
      "Epoch 38/50\n",
      "\u001b[1m50/50\u001b[0m \u001b[32m━━━━━━━━━━━━━━━━━━━━\u001b[0m\u001b[37m\u001b[0m \u001b[1m45s\u001b[0m 903ms/step - custom_mse: 1999401.8750 - loss: 5.3953 - val_custom_mse: 2134596.0000 - val_loss: 5.7541 - learning_rate: 1.0000e-06\n",
      "Epoch 39/50\n",
      "\u001b[1m50/50\u001b[0m \u001b[32m━━━━━━━━━━━━━━━━━━━━\u001b[0m\u001b[37m\u001b[0m \u001b[1m45s\u001b[0m 900ms/step - custom_mse: 2023847.2500 - loss: 5.3924 - val_custom_mse: 1975777.3750 - val_loss: 5.4448 - learning_rate: 1.0000e-06\n",
      "Epoch 40/50\n",
      "\u001b[1m50/50\u001b[0m \u001b[32m━━━━━━━━━━━━━━━━━━━━\u001b[0m\u001b[37m\u001b[0m \u001b[1m45s\u001b[0m 893ms/step - custom_mse: 2006638.5000 - loss: 5.3927 - val_custom_mse: 2183222.5000 - val_loss: 5.3827 - learning_rate: 1.0000e-06\n",
      "Epoch 41/50\n",
      "\u001b[1m50/50\u001b[0m \u001b[32m━━━━━━━━━━━━━━━━━━━━\u001b[0m\u001b[37m\u001b[0m \u001b[1m45s\u001b[0m 908ms/step - custom_mse: 2007359.2500 - loss: 5.3959 - val_custom_mse: 2183467.0000 - val_loss: 5.3818 - learning_rate: 1.0000e-06\n",
      "Epoch 42/50\n",
      "\u001b[1m50/50\u001b[0m \u001b[32m━━━━━━━━━━━━━━━━━━━━\u001b[0m\u001b[37m\u001b[0m \u001b[1m45s\u001b[0m 894ms/step - custom_mse: 2000815.2500 - loss: 5.3960 - val_custom_mse: 2134532.7500 - val_loss: 5.7421 - learning_rate: 1.0000e-06\n",
      "Epoch 43/50\n",
      "\u001b[1m50/50\u001b[0m \u001b[32m━━━━━━━━━━━━━━━━━━━━\u001b[0m\u001b[37m\u001b[0m \u001b[1m45s\u001b[0m 896ms/step - custom_mse: 2001986.5000 - loss: 5.3918 - val_custom_mse: 2134430.2500 - val_loss: 5.7406 - learning_rate: 1.0000e-06\n",
      "Epoch 44/50\n",
      "\u001b[1m50/50\u001b[0m \u001b[32m━━━━━━━━━━━━━━━━━━━━\u001b[0m\u001b[37m\u001b[0m \u001b[1m45s\u001b[0m 899ms/step - custom_mse: 2006542.8750 - loss: 5.3924 - val_custom_mse: 2394306.5000 - val_loss: 5.2885 - learning_rate: 1.0000e-06\n",
      "Epoch 45/50\n",
      "\u001b[1m50/50\u001b[0m \u001b[32m━━━━━━━━━━━━━━━━━━━━\u001b[0m\u001b[37m\u001b[0m \u001b[1m45s\u001b[0m 898ms/step - custom_mse: 2009670.0000 - loss: 5.3868 - val_custom_mse: 2207563.0000 - val_loss: 5.7074 - learning_rate: 1.0000e-06\n",
      "Epoch 46/50\n",
      "\u001b[1m50/50\u001b[0m \u001b[32m━━━━━━━━━━━━━━━━━━━━\u001b[0m\u001b[37m\u001b[0m \u001b[1m45s\u001b[0m 900ms/step - custom_mse: 2013800.6250 - loss: 5.3883 - val_custom_mse: 1953723.2500 - val_loss: 5.5214 - learning_rate: 1.0000e-06\n",
      "Epoch 47/50\n",
      "\u001b[1m50/50\u001b[0m \u001b[32m━━━━━━━━━━━━━━━━━━━━\u001b[0m\u001b[37m\u001b[0m \u001b[1m45s\u001b[0m 891ms/step - custom_mse: 2003750.7500 - loss: 5.3937 - val_custom_mse: 1953666.0000 - val_loss: 5.5202 - learning_rate: 1.0000e-06\n",
      "Epoch 48/50\n",
      "\u001b[1m50/50\u001b[0m \u001b[32m━━━━━━━━━━━━━━━━━━━━\u001b[0m\u001b[37m\u001b[0m \u001b[1m45s\u001b[0m 891ms/step - custom_mse: 2016602.7500 - loss: 5.3898 - val_custom_mse: 1867126.5000 - val_loss: 5.5162 - learning_rate: 1.0000e-06\n",
      "Epoch 49/50\n",
      "\u001b[1m50/50\u001b[0m \u001b[32m━━━━━━━━━━━━━━━━━━━━\u001b[0m\u001b[37m\u001b[0m \u001b[1m45s\u001b[0m 897ms/step - custom_mse: 2010966.6250 - loss: 5.3926 - val_custom_mse: 2332660.7500 - val_loss: 5.6199 - learning_rate: 1.0000e-06\n",
      "Epoch 50/50\n",
      "\u001b[1m50/50\u001b[0m \u001b[32m━━━━━━━━━━━━━━━━━━━━\u001b[0m\u001b[37m\u001b[0m \u001b[1m45s\u001b[0m 903ms/step - custom_mse: 2009961.3750 - loss: 5.3937 - val_custom_mse: 2208023.0000 - val_loss: 5.7021 - learning_rate: 1.0000e-06\n"
     ]
    },
    {
     "data": {
      "image/png": "[encoded data removed]",
      "text/plain": [
       "<Figure size 640x480 with 1 Axes>"
      ]
     },
     "metadata": {},
     "output_type": "display_data"
    }
   ],
   "source": [
    "\n",
    "vae_model.compile(optimizer=optimizer)  # No es necesario definir loss directamente aquí\n",
    "\n",
    "history = vae_model.fit(\n",
    "    train_dataset,              # Datos de entrada para entrenamiento\n",
    "    batch_size=batch_size,\n",
    "    epochs=50,                  # Número de épocas de entrenamiento\n",
    "    validation_data=test_dataset,  # Datos de validación para evaluar el modelo\n",
    "    callbacks=[lr_scheduler],\n",
    "    verbose=1                   # Muestra el progreso durante el entrenamiento\n",
    ")\n",
    "\n",
    "# --- Visualización de la pérdida ---\n",
    "plt.plot(history.history[\"loss\"], label=\"Pérdida Total\")\n",
    "plt.title(\"Pérdida durante el entrenamiento\")\n",
    "plt.xlabel(\"Epochs\")\n",
    "plt.ylabel(\"Pérdida\")\n",
    "plt.legend()\n",
    "plt.show()\n"
   ]
  },
  {
   "cell_type": "code",
   "execution_count": 19,
   "metadata": {
    "colab": {
     "base_uri": "https://localhost:8080/",
     "height": 472
    },
    "executionInfo": {
     "elapsed": 427,
     "status": "ok",
     "timestamp": 1739656672270,
     "user": {
      "displayName": "Martín Sánchez Torres",
      "userId": "09593946760207616318"
     },
     "user_tz": -60
    },
    "id": "pf4IlH12K8Pu",
    "outputId": "9e43da83-ecc2-43a7-ba4c-184b1ca533d2"
   },
   "outputs": [
    {
     "data": {
      "image/png": "[encoded data removed]",
      "text/plain": [
       "<Figure size 640x480 with 1 Axes>"
      ]
     },
     "metadata": {},
     "output_type": "display_data"
    }
   ],
   "source": [
    "plt.plot(history.history[\"loss\"], label=\"Pérdida en Entrenamiento\")\n",
    "plt.plot(history.history[\"val_loss\"], label=\"Pérdida en Validación\")\n",
    "plt.title(\"Pérdida durante el entrenamiento y validación\")\n",
    "plt.xlabel(\"Epochs\")\n",
    "plt.ylabel(\"Pérdida\")\n",
    "plt.legend()\n",
    "plt.show()"
   ]
  }
 ],
 "metadata": {
  "accelerator": "GPU",
  "colab": {
   "authorship_tag": "ABX9TyP0nfi7C6N0p7REnnJsnPDD",
   "gpuType": "A100",
   "provenance": []
  },
  "kernelspec": {
   "display_name": "Python [conda env:base] *",
   "language": "python",
   "name": "conda-base-py"
  },
  "language_info": {
   "codemirror_mode": {
    "name": "ipython",
    "version": 3
   },
   "file_extension": ".py",
   "mimetype": "text/x-python",
   "name": "python",
   "nbconvert_exporter": "python",
   "pygments_lexer": "ipython3",
   "version": "3.12.9"
  }
 },
 "nbformat": 4,
 "nbformat_minor": 4
}
