{
 "cells": [
  {
   "cell_type": "code",
   "execution_count": 1,
   "metadata": {
    "colab": {
     "base_uri": "https://localhost:8080/"
    },
    "executionInfo": {
     "elapsed": 25322,
     "status": "ok",
     "timestamp": 1739701811780,
     "user": {
      "displayName": "Martín Sánchez Torres",
      "userId": "09593946760207616318"
     },
     "user_tz": -60
    },
    "id": "cBcUjPzv7iT7",
    "outputId": "bd865386-c2d0-4d6c-98fc-b3ab05b1a431"
   },
   "outputs": [
    {
     "name": "stdout",
     "output_type": "stream",
     "text": [
      "Mounted at /content/drive\n"
     ]
    }
   ],
   "source": [
    "from google.colab import drive\n",
    "drive.mount('/content/drive')"
   ]
  },
  {
   "cell_type": "code",
   "execution_count": 2,
   "metadata": {
    "executionInfo": {
     "elapsed": 1007,
     "status": "ok",
     "timestamp": 1739701812785,
     "user": {
      "displayName": "Martín Sánchez Torres",
      "userId": "09593946760207616318"
     },
     "user_tz": -60
    },
    "id": "2RvvzwRB62J6"
   },
   "outputs": [],
   "source": [
    "import pandas as pd\n",
    "\n",
    "import matplotlib.pyplot as plt"
   ]
  },
  {
   "cell_type": "code",
   "execution_count": 3,
   "metadata": {
    "colab": {
     "base_uri": "https://localhost:8080/",
     "height": 475
    },
    "executionInfo": {
     "elapsed": 16130,
     "status": "ok",
     "timestamp": 1739701828913,
     "user": {
      "displayName": "Martín Sánchez Torres",
      "userId": "09593946760207616318"
     },
     "user_tz": -60
    },
    "id": "Ydn_RxwR66xc",
    "outputId": "7aa96b45-44a6-4387-9619-c246a29fcd61"
   },
   "outputs": [
    {
     "name": "stdout",
     "output_type": "stream",
     "text": [
      "/content/drive/MyDrive/Colab Notebooks/Trabajo Fin de Estudios/Dataset/train_drcat_01.csv\n",
      "/content/drive/MyDrive/Colab Notebooks/Trabajo Fin de Estudios/Dataset/train_drcat_02.csv\n",
      "/content/drive/MyDrive/Colab Notebooks/Trabajo Fin de Estudios/Dataset/train_drcat_03.csv\n",
      "/content/drive/MyDrive/Colab Notebooks/Trabajo Fin de Estudios/Dataset/train_drcat_04.csv\n"
     ]
    },
    {
     "data": {
      "image/png": "[encoded data removed]",
      "text/plain": [
       "<Figure size 640x480 with 1 Axes>"
      ]
     },
     "metadata": {},
     "output_type": "display_data"
    }
   ],
   "source": [
    "# Define la ruta a la carpeta\n",
    "ruta_carpeta = '/content/drive/MyDrive/Colab Notebooks/Trabajo Fin de Estudios/Dataset/'\n",
    "\n",
    "# Define los nombres de los archivos\n",
    "nombres_archivos = ['train_drcat_01.csv', 'train_drcat_02.csv', 'train_drcat_03.csv', 'train_drcat_04.csv']\n",
    "# Crea una lista vacía para almacenar los DataFrames\n",
    "dfs = []\n",
    "\n",
    "# Itera sobre los nombres de los archivos y lee cada uno en un DataFrame\n",
    "for nombre_archivo in nombres_archivos:\n",
    "    ruta_archivo = ruta_carpeta + nombre_archivo\n",
    "    print(ruta_archivo)\n",
    "    df = pd.read_csv(ruta_archivo, sep=\",\", encoding='utf-8')  # Ajusta el separador y la codificación si es necesario\n",
    "    dfs.append(df)\n",
    "\n",
    "# Concatena todos los DataFrames en uno solo\n",
    "df_final = pd.concat(dfs, ignore_index=True)\n",
    "\n",
    "# Mostramos las 5 primeras filas\n",
    "df_final.head()\n",
    "\n",
    "plt.pie(df_final['label'].value_counts().values,\n",
    "        labels = df_final['label'].value_counts().index,\n",
    "        autopct='%1.1f%%')\n",
    "plt.show()"
   ]
  },
  {
   "cell_type": "code",
   "execution_count": 4,
   "metadata": {
    "colab": {
     "base_uri": "https://localhost:8080/",
     "height": 406
    },
    "executionInfo": {
     "elapsed": 808,
     "status": "ok",
     "timestamp": 1739701829720,
     "user": {
      "displayName": "Martín Sánchez Torres",
      "userId": "09593946760207616318"
     },
     "user_tz": -60
    },
    "id": "jn1iZZMX69uX",
    "outputId": "de1a94a8-5160-4c57-9274-ade616b9c6d2"
   },
   "outputs": [
    {
     "data": {
      "image/png": "[encoded data removed]",
      "text/plain": [
       "<Figure size 640x480 with 1 Axes>"
      ]
     },
     "metadata": {},
     "output_type": "display_data"
    }
   ],
   "source": [
    "df_label_0 = df_final[df_final['label'] == 0].sample(n=2000, random_state=42)  # random_state para reproducibilidad\n",
    "\n",
    "# Seleccionar 1000 textos con label 1\n",
    "df_label_1 = df_final[df_final['label'] == 1].sample(n=2000, random_state=42)\n",
    "\n",
    "# Concatenar los dos DataFrames\n",
    "df_seleccionado = pd.concat([df_label_0, df_label_1])\n",
    "\n",
    "# Reiniciar el índice\n",
    "df_seleccionado = df_seleccionado.reset_index(drop=True)\n",
    "\n",
    "plt.pie(df_seleccionado['label'].value_counts().values,\n",
    "        labels = df_seleccionado['label'].value_counts().index,\n",
    "        autopct='%1.1f%%')\n",
    "plt.show()"
   ]
  },
  {
   "cell_type": "code",
   "execution_count": 5,
   "metadata": {
    "executionInfo": {
     "elapsed": 3478,
     "status": "ok",
     "timestamp": 1739701833193,
     "user": {
      "displayName": "Martín Sánchez Torres",
      "userId": "09593946760207616318"
     },
     "user_tz": -60
    },
    "id": "Agmxm-L_GuqZ"
   },
   "outputs": [],
   "source": [
    "import tensorflow as tf\n",
    "from tensorflow.keras import Model, layers, Input\n",
    "import pandas as pd\n",
    "import numpy as np\n",
    "import matplotlib.pyplot as plt\n",
    "\n",
    "# --- Configuración Inicial ---\n",
    "vocab_size = 10000  # Tamaño del vocabulario\n",
    "embedding_dim = 300  # Dimensión del embedding\n",
    "sequence_length = 400  # Longitud máxima de secuencias\n",
    "latent_dim = 128  # Dimensión del espacio latente\n",
    "batch_size = 64\n",
    "epochs = 20\n",
    "\n",
    "\n",
    "# --- Carga y Preprocesamiento de Datos ---\n",
    "df=df_seleccionado"
   ]
  },
  {
   "cell_type": "code",
   "execution_count": 6,
   "metadata": {
    "executionInfo": {
     "elapsed": 6,
     "status": "ok",
     "timestamp": 1739701833194,
     "user": {
      "displayName": "Martín Sánchez Torres",
      "userId": "09593946760207616318"
     },
     "user_tz": -60
    },
    "id": "kOIjQSbrHmJM"
   },
   "outputs": [],
   "source": [
    "from tensorflow.keras.preprocessing.text import Tokenizer\n",
    "from tensorflow.keras.preprocessing.sequence import pad_sequences\n",
    "import numpy as np"
   ]
  },
  {
   "cell_type": "code",
   "execution_count": 7,
   "metadata": {
    "colab": {
     "base_uri": "https://localhost:8080/"
    },
    "executionInfo": {
     "elapsed": 3816,
     "status": "ok",
     "timestamp": 1739701837005,
     "user": {
      "displayName": "Martín Sánchez Torres",
      "userId": "09593946760207616318"
     },
     "user_tz": -60
    },
    "id": "nwbJwFpgN-_q",
    "outputId": "fd2cf3ba-29d5-4b4f-cbc3-690230811bd3"
   },
   "outputs": [
    {
     "name": "stderr",
     "output_type": "stream",
     "text": [
      "[nltk_data] Downloading package stopwords to /root/nltk_data...\n",
      "[nltk_data]   Unzipping corpora/stopwords.zip.\n",
      "[nltk_data] Downloading package wordnet to /root/nltk_data...\n"
     ]
    }
   ],
   "source": [
    "import string\n",
    "import nltk\n",
    "from nltk.corpus import stopwords\n",
    "from nltk.stem import WordNetLemmatizer\n",
    "\n",
    "nltk.download('stopwords')\n",
    "stop_words = set(stopwords.words('english'))\n",
    "nltk.download('wordnet')\n",
    "lemmatizer = WordNetLemmatizer()\n",
    "\n",
    "def preprocess_text(text):\n",
    "    text = text.lower()\n",
    "    text = ''.join([char for char in text if char not in string.punctuation])\n",
    "\n",
    "    # Lematizar palabras especificando el POS\n",
    "    return text\n",
    "\n"
   ]
  },
  {
   "cell_type": "code",
   "execution_count": 8,
   "metadata": {
    "executionInfo": {
     "elapsed": 476,
     "status": "ok",
     "timestamp": 1739701839922,
     "user": {
      "displayName": "Martín Sánchez Torres",
      "userId": "09593946760207616318"
     },
     "user_tz": -60
    },
    "id": "WGwNJWPwOeNg"
   },
   "outputs": [],
   "source": [
    "# Eliminar registros nulos o vacíos en la columna de texto\n",
    "df = df.dropna(subset=[\"text\"])\n",
    "df = df[df[\"text\"].str.strip() != \"\"]\n",
    "df['text_clean'] = df['text'].apply(preprocess_text)"
   ]
  },
  {
   "cell_type": "code",
   "execution_count": 9,
   "metadata": {
    "executionInfo": {
     "elapsed": 616,
     "status": "ok",
     "timestamp": 1739701841467,
     "user": {
      "displayName": "Martín Sánchez Torres",
      "userId": "09593946760207616318"
     },
     "user_tz": -60
    },
    "id": "gdTzoSvxdUZR"
   },
   "outputs": [],
   "source": [
    "import tensorflow as tf\n",
    "from sklearn.model_selection import train_test_split\n",
    "\n",
    "# Vectorizador de texto\n",
    "vectorizador = tf.keras.layers.TextVectorization(\n",
    "    max_tokens=vocab_size,\n",
    "    output_mode='int',  # Para generar secuencias de índices\n",
    "    output_sequence_length=sequence_length,\n",
    "    ngrams=(1, 2)  #Adaptación del código para ngramas # Incluye unigramas y bigramas (puedes ajustar (1,3) para trigramas, etc.)\n",
    "\n",
    ")"
   ]
  },
  {
   "cell_type": "code",
   "execution_count": 10,
   "metadata": {
    "colab": {
     "base_uri": "https://localhost:8080/"
    },
    "executionInfo": {
     "elapsed": 3,
     "status": "ok",
     "timestamp": 1739701841467,
     "user": {
      "displayName": "Martín Sánchez Torres",
      "userId": "09593946760207616318"
     },
     "user_tz": -60
    },
    "id": "SRnuGuvJo0Cw",
    "outputId": "417256d0-b5ef-49bf-c224-6fc5d4900a8f"
   },
   "outputs": [
    {
     "name": "stdout",
     "output_type": "stream",
     "text": [
      "3994    as an 8th grader i believe that life can be en...\n",
      "423     have you ever asked someone for advice did you...\n",
      "2991    dear principal\\n\\ni am writing to you today to...\n",
      "1221    have you ever had a problem that you couldnt s...\n",
      "506     a danger of ecploring venus is that the temper...\n",
      "Name: text_clean, dtype: object\n"
     ]
    }
   ],
   "source": [
    "from sklearn.model_selection import train_test_split\n",
    "X_train, X_test = train_test_split(df['text_clean'], test_size=0.2, random_state=42)\n",
    "\n",
    "print(X_train[:5])"
   ]
  },
  {
   "cell_type": "code",
   "execution_count": null,
   "metadata": {
    "colab": {
     "base_uri": "https://localhost:8080/"
    },
    "executionInfo": {
     "elapsed": 500,
     "status": "ok",
     "timestamp": 1739700114492,
     "user": {
      "displayName": "Martín Sánchez Torres",
      "userId": "09593946760207616318"
     },
     "user_tz": -60
    },
    "id": "D_Px_ixmo6j-",
    "outputId": "633b96ec-dd20-41ad-d9b5-f0e7983efe00"
   },
   "outputs": [
    {
     "name": "stdout",
     "output_type": "stream",
     "text": [
      "<class 'str'>\n"
     ]
    }
   ],
   "source": [
    "print(type(X_train[0]))  # Debería ser <class 'str'>"
   ]
  },
  {
   "cell_type": "code",
   "execution_count": 11,
   "metadata": {
    "executionInfo": {
     "elapsed": 61753,
     "status": "ok",
     "timestamp": 1739701906587,
     "user": {
      "displayName": "Martín Sánchez Torres",
      "userId": "09593946760207616318"
     },
     "user_tz": -60
    },
    "id": "RIFcHobQovFm"
   },
   "outputs": [],
   "source": [
    "\n",
    "#vectorizador.adapt(X_train)\n",
    "vectorizador.adapt(df['text_clean'])\n",
    "# Vectorize before batching\n",
    "X_train_vec = [vectorizador(x) for x in X_train]  # Vectorize each text\n",
    "X_test_vec = [vectorizador(x) for x in X_test]    # Vectorize each text\n",
    "\n",
    "# Crear los datasets de entrada\n",
    "train_dataset = tf.data.Dataset.from_tensor_slices(X_train_vec)  # Solo entradas, sin etiquetas\n",
    "train_dataset = train_dataset.batch(batch_size).shuffle(len(X_train)).prefetch(tf.data.AUTOTUNE)\n",
    "\n",
    "test_dataset = tf.data.Dataset.from_tensor_slices(X_test_vec)  # Solo entradas, sin etiquetas\n",
    "test_dataset = test_dataset.batch(batch_size).shuffle(len(X_test)).prefetch(tf.data.AUTOTUNE)"
   ]
  },
  {
   "cell_type": "code",
   "execution_count": 12,
   "metadata": {
    "colab": {
     "base_uri": "https://localhost:8080/"
    },
    "executionInfo": {
     "elapsed": 4,
     "status": "ok",
     "timestamp": 1739701906587,
     "user": {
      "displayName": "Martín Sánchez Torres",
      "userId": "09593946760207616318"
     },
     "user_tz": -60
    },
    "id": "l8jMPErVozSh",
    "outputId": "c356b446-e19d-4f5b-c05f-3cbf27f96809"
   },
   "outputs": [
    {
     "name": "stdout",
     "output_type": "stream",
     "text": [
      "tf.Tensor(\n",
      "[[3782 3696   16 ...  200    1    1]\n",
      " [ 631 3734   18 ...    0    0    0]\n",
      " [  57   26  216 ... 1320    1 3176]\n",
      " ...\n",
      " [  33   14   32 ...   53 6316  149]\n",
      " [ 361    2 4352 ...    1 8685 1364]\n",
      " [   1    1   28 ...   17 5540    4]], shape=(64, 400), dtype=int64)\n"
     ]
    }
   ],
   "source": [
    "for batch in train_dataset.take(1):\n",
    "    print(batch)  # Verifica que sea un tensor con los índices de las palabras"
   ]
  },
  {
   "cell_type": "code",
   "execution_count": 13,
   "metadata": {
    "colab": {
     "base_uri": "https://localhost:8080/"
    },
    "executionInfo": {
     "elapsed": 3,
     "status": "ok",
     "timestamp": 1739701906587,
     "user": {
      "displayName": "Martín Sánchez Torres",
      "userId": "09593946760207616318"
     },
     "user_tz": -60
    },
    "id": "6bQYgnDmwexF",
    "outputId": "36fa3b2c-43e5-452f-ab04-147dbe782e4b"
   },
   "outputs": [
    {
     "name": "stdout",
     "output_type": "stream",
     "text": [
      "tf.Tensor(\n",
      "[[ 921   50   53 ...  700 5623    1]\n",
      " [  18 8402    8 ...    0    0    0]\n",
      " [  23  205   18 ...    1 6456    1]\n",
      " ...\n",
      " [  28   51 2231 ...    1    1  446]\n",
      " [ 921   50   53 ... 3284    1  399]\n",
      " [   2    1  265 ...    1    1    1]], shape=(64, 400), dtype=int64)\n"
     ]
    }
   ],
   "source": [
    "for batch in test_dataset.take(1):\n",
    "    print(batch)  # Verifica que sea un tensor con los índices de las palabras"
   ]
  },
  {
   "cell_type": "code",
   "execution_count": 14,
   "metadata": {
    "colab": {
     "base_uri": "https://localhost:8080/"
    },
    "executionInfo": {
     "elapsed": 3,
     "status": "ok",
     "timestamp": 1739701906588,
     "user": {
      "displayName": "Martín Sánchez Torres",
      "userId": "09593946760207616318"
     },
     "user_tz": -60
    },
    "id": "19JvQd44pNd_",
    "outputId": "ad3ba894-c1f6-4b65-fe50-3e1d97eda686"
   },
   "outputs": [
    {
     "name": "stdout",
     "output_type": "stream",
     "text": [
      "10000\n"
     ]
    }
   ],
   "source": [
    "print(vectorizador.vocabulary_size())  # Asegúrate de que el vocabulario fue correctamente adaptado"
   ]
  },
  {
   "cell_type": "code",
   "execution_count": 15,
   "metadata": {
    "executionInfo": {
     "elapsed": 1692,
     "status": "ok",
     "timestamp": 1739702324478,
     "user": {
      "displayName": "Martín Sánchez Torres",
      "userId": "09593946760207616318"
     },
     "user_tz": -60
    },
    "id": "eGt39hx2xg7f"
   },
   "outputs": [],
   "source": [
    "\n",
    "from tensorflow.keras.saving import register_keras_serializable\n",
    "import tensorflow as tf\n",
    "from tensorflow.keras import Model, layers, Input\n",
    "from tensorflow.keras import regularizers\n",
    "from tensorflow.keras.optimizers import Adam\n",
    "from tensorflow.keras.callbacks import ReduceLROnPlateau, EarlyStopping\n",
    "\n",
    "# --- Ajustes del optimizador ---\n",
    "initial_lr = 1e-4  # Tasa de aprendizaje reducida\n",
    "optimizer = Adam(learning_rate=initial_lr)\n",
    "\n",
    "# --- Callbacks para mejorar convergencia ---\n",
    "lr_scheduler = ReduceLROnPlateau(\n",
    "    monitor=\"val_loss\", factor=0.5, patience=3, min_lr=1e-6, verbose=1\n",
    ")\n",
    "early_stopping = EarlyStopping(\n",
    "    monitor=\"val_loss\", patience=10, restore_best_weights=True, verbose=1\n",
    ")\n",
    "\n",
    "# --- Definición del Encoder ---\n",
    "encoder_inputs = Input(shape=(sequence_length,), name=\"encoder_input\")\n",
    "x = vectorizador(encoder_inputs)\n",
    "x = tf.keras.layers.Embedding(vocab_size, embedding_dim, mask_zero=True, name=\"embedding_layer\")(encoder_inputs)  # Embedding\n",
    "x = layers.LSTM(sequence_length, return_sequences=False, use_cudnn=False, kernel_regularizer=regularizers.l2(0.01), name=\"encoder_lstm\")(x)  # Reducimos unidades en LSTM y agregamos regularización L2\n",
    "x = layers.Dense(256, activation=\"relu\", kernel_regularizer=regularizers.l2(0.01), name=\"encoder_dense_1\")(x)  # Regularización L2\n",
    "x = layers.Dropout(0.4)(x)  # Dropout para prevenir overfitting\n",
    "x = layers.Dense(128, activation=\"relu\", kernel_regularizer=regularizers.l2(0.01), name=\"encoder_dense_2\")(x)  # Regularización L2\n",
    "\n",
    "# Parametrización de la distribución latente\n",
    "z_mean = layers.Dense(latent_dim, name=\"z_mean\")(x)\n",
    "z_log_var = layers.Dense(latent_dim, name=\"z_log_var\")(x)\n",
    "\n",
    "# Reparametrización\n",
    "def sampling(args):\n",
    "    z_mean, z_log_var = args\n",
    "    epsilon = tf.keras.backend.random_normal(shape=(tf.shape(z_mean)[0], latent_dim))\n",
    "    return z_mean + tf.exp(0.5 * z_log_var) * epsilon\n",
    "\n",
    "z = layers.Lambda(sampling, name=\"z_sampling\")([z_mean, z_log_var])\n",
    "\n",
    "encoder = Model(encoder_inputs, [z_mean, z_log_var, z], name=\"encoder\")\n",
    "\n",
    "# --- Definición del Decoder ---\n",
    "decoder_inputs = Input(shape=(latent_dim,), name=\"z_sampling_input\")\n",
    "x = layers.Dense(128, activation=\"relu\", kernel_regularizer=regularizers.l2(0.01), name=\"decoder_dense\")(decoder_inputs)  # Regularización L2\n",
    "x = layers.Dense(256, activation=\"relu\", kernel_regularizer=regularizers.l2(0.01), name=\"decoder_dense_1\")(x)  # Regularización L2\n",
    "x = layers.RepeatVector(sequence_length)(x)\n",
    "decoder_outputs = layers.LSTM(sequence_length, return_sequences=True, kernel_regularizer=regularizers.l2(0.01))(x)  # Regularización L2\n",
    "decoder_outputs = layers.TimeDistributed(layers.Dense(vocab_size, activation=\"softmax\"))(decoder_outputs)\n",
    "decoder = Model(decoder_inputs, decoder_outputs, name=\"decoder\")\n",
    "\n",
    "\n",
    "# --- Definición del Autoencoder ---\n",
    "vae_outputs = decoder(encoder(encoder_inputs)[2])\n",
    "\n",
    "def vae_loss(inputs, outputs, z_mean, z_log_var):\n",
    "    # Reconstrucción: sparse crossentropy acepta inputs enteros directamente\n",
    "    reconstruction_loss = tf.reduce_mean(\n",
    "        tf.keras.losses.sparse_categorical_crossentropy(inputs, outputs)\n",
    "    )\n",
    "\n",
    "    # KL Divergence ajustada para evitar sumas grandes\n",
    "    kl_loss = -0.5 * tf.reduce_mean(\n",
    "        1 + z_log_var - tf.square(z_mean) - tf.exp(z_log_var)\n",
    "    )\n",
    "    beta = 0.4  # Hiperparámetro de ajuste\n",
    "    return reconstruction_loss + beta * kl_loss\n",
    "\n",
    "def custom_mse(y_true, y_pred):\n",
    "    y_pred = tf.argmax(y_pred, axis=-1)  # Obtener los tokens con mayor probabilidad\n",
    "\n",
    "    # Convertir a enteros\n",
    "    y_pred = tf.cast(y_pred, tf.int32)  # Convertir y_pred a tf.int32\n",
    "\n",
    "    # Calcular MSE solo en la dimensión de la secuencia\n",
    "    mse = tf.keras.losses.MeanSquaredError()(y_true, y_pred)\n",
    "\n",
    "    return mse\n",
    "\n",
    "# --- Definición del modelo con `train_step` personalizado ---\n",
    "from tensorflow.keras.metrics import MeanSquaredError\n",
    "@register_keras_serializable()\n",
    "class VAEModel(Model):\n",
    "    def __init__(self, encoder, decoder, **kwargs):\n",
    "        super(VAEModel, self).__init__(**kwargs)\n",
    "        self.encoder = encoder\n",
    "        self.decoder = decoder\n",
    "\n",
    "    def call(self, inputs):\n",
    "        z_mean, z_log_var, z = self.encoder(inputs)\n",
    "        return self.decoder(z), z_mean, z_log_var\n",
    "        #return self.decoder(z)\n",
    "\n",
    "    def get_config(self):\n",
    "        config = super().get_config()\n",
    "        config.update({\n",
    "            \"encoder\": self.encoder,\n",
    "            \"decoder\": self.decoder\n",
    "        })\n",
    "        return config\n",
    "\n",
    "    @classmethod\n",
    "    def from_config(cls, config):\n",
    "        encoder = config.pop(\"encoder\")\n",
    "        decoder = config.pop(\"decoder\")\n",
    "        return cls(encoder, decoder, **config)\n",
    "\n",
    "    def train_step(self, data):\n",
    "        self.reset_metrics()  # Reinicia las métricas antes de cada paso\n",
    "        with tf.GradientTape() as tape:\n",
    "            inputs = data\n",
    "            outputs, z_mean, z_log_var = self(inputs, training=True)\n",
    "            loss = vae_loss(inputs, outputs, z_mean, z_log_var)\n",
    "\n",
    "        # Computar gradientes\n",
    "        grads = tape.gradient(loss, self.trainable_variables)\n",
    "\n",
    "        # Actualizar los pesos\n",
    "        self.optimizer.apply_gradients(zip(grads, self.trainable_variables))\n",
    "        # Actualizar la métrica de accuracy\n",
    "        mse=custom_mse(inputs, outputs)\n",
    "\n",
    "        return {\"loss\": loss, \"custom_mse\": mse}  # Cambiar el nombre de la métrica en el diccionario de salida\n",
    "\n",
    "    def test_step(self, data):\n",
    "        self.reset_metrics()  # Reinicia las métricas antes del paso de prueba\n",
    "        inputs = data\n",
    "        outputs, z_mean, z_log_var = self(inputs, training=False)\n",
    "        loss = vae_loss(inputs, outputs, z_mean, z_log_var)\n",
    "\n",
    "        mse=custom_mse(inputs, outputs)\n",
    "        return {\"loss\": loss, \"custom_mse\": mse}  # Cambiar el nombre de la métrica en el diccionario de salida\n",
    "\n",
    "from tensorflow.keras.callbacks import LearningRateScheduler\n",
    "\n",
    "def print_lr(epoch, lr):\n",
    "    print(f\"Epoch: {epoch + 1}, Learning Rate: {lr}\")\n",
    "\n",
    "lr_callback = LearningRateScheduler(lambda epoch, lr: lr, verbose=1)\n",
    "# Crear el modelo VAE\n",
    "vae_model = VAEModel(encoder, decoder)\n",
    "\n"
   ]
  },
  {
   "cell_type": "code",
   "execution_count": 16,
   "metadata": {
    "colab": {
     "base_uri": "https://localhost:8080/",
     "height": 1000
    },
    "executionInfo": {
     "elapsed": 2673365,
     "status": "ok",
     "timestamp": 1739705003018,
     "user": {
      "displayName": "Martín Sánchez Torres",
      "userId": "09593946760207616318"
     },
     "user_tz": -60
    },
    "id": "hc42kw2_V1Xv",
    "outputId": "9b21d1dc-d05c-419a-cb36-074541cf7a70"
   },
   "outputs": [
    {
     "name": "stdout",
     "output_type": "stream",
     "text": [
      "Epoch 1/50\n",
      "\u001b[1m50/50\u001b[0m \u001b[32m━━━━━━━━━━━━━━━━━━━━\u001b[0m\u001b[37m\u001b[0m \u001b[1m85s\u001b[0m 1s/step - custom_mse: 4783700.5000 - loss: 8.2755 - val_custom_mse: 3294840.5000 - val_loss: 6.9700 - learning_rate: 1.0000e-04\n",
      "Epoch 2/50\n",
      "\u001b[1m50/50\u001b[0m \u001b[32m━━━━━━━━━━━━━━━━━━━━\u001b[0m\u001b[37m\u001b[0m \u001b[1m52s\u001b[0m 1s/step - custom_mse: 3340645.7500 - loss: 6.4126 - val_custom_mse: 3294840.5000 - val_loss: 6.2722 - learning_rate: 1.0000e-04\n",
      "Epoch 3/50\n",
      "\u001b[1m50/50\u001b[0m \u001b[32m━━━━━━━━━━━━━━━━━━━━\u001b[0m\u001b[37m\u001b[0m \u001b[1m52s\u001b[0m 1s/step - custom_mse: 3339480.5000 - loss: 6.2160 - val_custom_mse: 3536982.7500 - val_loss: 6.1999 - learning_rate: 1.0000e-04\n",
      "Epoch 4/50\n",
      "\u001b[1m50/50\u001b[0m \u001b[32m━━━━━━━━━━━━━━━━━━━━\u001b[0m\u001b[37m\u001b[0m \u001b[1m52s\u001b[0m 1s/step - custom_mse: 3344228.2500 - loss: 6.2102 - val_custom_mse: 3383715.0000 - val_loss: 6.2443 - learning_rate: 1.0000e-04\n",
      "Epoch 5/50\n",
      "\u001b[1m50/50\u001b[0m \u001b[32m━━━━━━━━━━━━━━━━━━━━\u001b[0m\u001b[37m\u001b[0m \u001b[1m52s\u001b[0m 1s/step - custom_mse: 3348991.2500 - loss: 6.2102 - val_custom_mse: 3222028.7500 - val_loss: 6.2425 - learning_rate: 1.0000e-04\n",
      "Epoch 6/50\n",
      "\u001b[1m50/50\u001b[0m \u001b[32m━━━━━━━━━━━━━━━━━━━━\u001b[0m\u001b[37m\u001b[0m \u001b[1m52s\u001b[0m 1s/step - custom_mse: 3340833.7500 - loss: 6.2068 - val_custom_mse: 3536982.7500 - val_loss: 6.1954 - learning_rate: 1.0000e-04\n",
      "Epoch 7/50\n",
      "\u001b[1m50/50\u001b[0m \u001b[32m━━━━━━━━━━━━━━━━━━━━\u001b[0m\u001b[37m\u001b[0m \u001b[1m52s\u001b[0m 1s/step - custom_mse: 3348991.2500 - loss: 6.2081 - val_custom_mse: 3294840.5000 - val_loss: 6.2473 - learning_rate: 1.0000e-04\n",
      "Epoch 8/50\n",
      "\u001b[1m50/50\u001b[0m \u001b[32m━━━━━━━━━━━━━━━━━━━━\u001b[0m\u001b[37m\u001b[0m \u001b[1m52s\u001b[0m 1s/step - custom_mse: 3337859.5000 - loss: 6.2036 - val_custom_mse: 3222028.7500 - val_loss: 6.2398 - learning_rate: 1.0000e-04\n",
      "Epoch 9/50\n",
      "\u001b[1m50/50\u001b[0m \u001b[32m━━━━━━━━━━━━━━━━━━━━\u001b[0m\u001b[37m\u001b[0m \u001b[1m52s\u001b[0m 1s/step - custom_mse: 3334635.7500 - loss: 6.2061 - val_custom_mse: 3253551.0000 - val_loss: 6.1250 - learning_rate: 1.0000e-04\n",
      "Epoch 10/50\n",
      "\u001b[1m50/50\u001b[0m \u001b[32m━━━━━━━━━━━━━━━━━━━━\u001b[0m\u001b[37m\u001b[0m \u001b[1m51s\u001b[0m 1s/step - custom_mse: 3341596.5000 - loss: 6.2047 - val_custom_mse: 3072911.5000 - val_loss: 6.1557 - learning_rate: 1.0000e-04\n",
      "Epoch 11/50\n",
      "\u001b[1m50/50\u001b[0m \u001b[32m━━━━━━━━━━━━━━━━━━━━\u001b[0m\u001b[37m\u001b[0m \u001b[1m53s\u001b[0m 1s/step - custom_mse: 3346045.0000 - loss: 6.2039 - val_custom_mse: 3536982.7500 - val_loss: 6.1915 - learning_rate: 1.0000e-04\n",
      "Epoch 12/50\n",
      "\u001b[1m50/50\u001b[0m \u001b[32m━━━━━━━━━━━━━━━━━━━━\u001b[0m\u001b[37m\u001b[0m \u001b[1m0s\u001b[0m 1000ms/step - custom_mse: 3342523.7500 - loss: 6.2006\n",
      "Epoch 12: ReduceLROnPlateau reducing learning rate to 4.999999873689376e-05.\n",
      "\u001b[1m50/50\u001b[0m \u001b[32m━━━━━━━━━━━━━━━━━━━━\u001b[0m\u001b[37m\u001b[0m \u001b[1m52s\u001b[0m 1s/step - custom_mse: 3344298.5000 - loss: 6.2010 - val_custom_mse: 3003670.5000 - val_loss: 6.1892 - learning_rate: 1.0000e-04\n",
      "Epoch 13/50\n",
      "\u001b[1m50/50\u001b[0m \u001b[32m━━━━━━━━━━━━━━━━━━━━\u001b[0m\u001b[37m\u001b[0m \u001b[1m52s\u001b[0m 1s/step - custom_mse: 3343215.5000 - loss: 6.1955 - val_custom_mse: 3159834.5000 - val_loss: 6.2725 - learning_rate: 5.0000e-05\n",
      "Epoch 14/50\n",
      "\u001b[1m50/50\u001b[0m \u001b[32m━━━━━━━━━━━━━━━━━━━━\u001b[0m\u001b[37m\u001b[0m \u001b[1m52s\u001b[0m 1s/step - custom_mse: 3341227.2500 - loss: 6.1938 - val_custom_mse: 3523885.5000 - val_loss: 6.2093 - learning_rate: 5.0000e-05\n",
      "Epoch 15/50\n",
      "\u001b[1m50/50\u001b[0m \u001b[32m━━━━━━━━━━━━━━━━━━━━\u001b[0m\u001b[37m\u001b[0m \u001b[1m0s\u001b[0m 1s/step - custom_mse: 3342523.7500 - loss: 6.1913   \n",
      "Epoch 15: ReduceLROnPlateau reducing learning rate to 2.499999936844688e-05.\n",
      "\u001b[1m50/50\u001b[0m \u001b[32m━━━━━━━━━━━━━━━━━━━━\u001b[0m\u001b[37m\u001b[0m \u001b[1m53s\u001b[0m 1s/step - custom_mse: 3341947.2500 - loss: 6.1918 - val_custom_mse: 3212761.0000 - val_loss: 6.2588 - learning_rate: 5.0000e-05\n",
      "Epoch 16/50\n",
      "\u001b[1m50/50\u001b[0m \u001b[32m━━━━━━━━━━━━━━━━━━━━\u001b[0m\u001b[37m\u001b[0m \u001b[1m52s\u001b[0m 1s/step - custom_mse: 3348991.2500 - loss: 6.1884 - val_custom_mse: 3536982.7500 - val_loss: 6.1777 - learning_rate: 2.5000e-05\n",
      "Epoch 17/50\n",
      "\u001b[1m50/50\u001b[0m \u001b[32m━━━━━━━━━━━━━━━━━━━━\u001b[0m\u001b[37m\u001b[0m \u001b[1m52s\u001b[0m 1s/step - custom_mse: 3344228.2500 - loss: 6.1821 - val_custom_mse: 3212761.0000 - val_loss: 6.2525 - learning_rate: 2.5000e-05\n",
      "Epoch 18/50\n",
      "\u001b[1m50/50\u001b[0m \u001b[32m━━━━━━━━━━━━━━━━━━━━\u001b[0m\u001b[37m\u001b[0m \u001b[1m0s\u001b[0m 999ms/step - custom_mse: 3342523.7500 - loss: 6.1788\n",
      "Epoch 18: ReduceLROnPlateau reducing learning rate to 1.249999968422344e-05.\n",
      "\u001b[1m50/50\u001b[0m \u001b[32m━━━━━━━━━━━━━━━━━━━━\u001b[0m\u001b[37m\u001b[0m \u001b[1m53s\u001b[0m 1s/step - custom_mse: 3340833.7500 - loss: 6.1782 - val_custom_mse: 3159834.5000 - val_loss: 6.2612 - learning_rate: 2.5000e-05\n",
      "Epoch 19/50\n",
      "\u001b[1m50/50\u001b[0m \u001b[32m━━━━━━━━━━━━━━━━━━━━\u001b[0m\u001b[37m\u001b[0m \u001b[1m52s\u001b[0m 1s/step - custom_mse: 3344228.2500 - loss: 6.1736 - val_custom_mse: 3072911.5000 - val_loss: 6.1297 - learning_rate: 1.2500e-05\n",
      "Epoch 20/50\n",
      "\u001b[1m50/50\u001b[0m \u001b[32m━━━━━━━━━━━━━━━━━━━━\u001b[0m\u001b[37m\u001b[0m \u001b[1m52s\u001b[0m 1s/step - custom_mse: 3334721.2500 - loss: 6.1721 - val_custom_mse: 3383715.0000 - val_loss: 6.2151 - learning_rate: 1.2500e-05\n",
      "Epoch 21/50\n",
      "\u001b[1m50/50\u001b[0m \u001b[32m━━━━━━━━━━━━━━━━━━━━\u001b[0m\u001b[37m\u001b[0m \u001b[1m0s\u001b[0m 1s/step - custom_mse: 3342523.7500 - loss: 6.1699\n",
      "Epoch 21: ReduceLROnPlateau reducing learning rate to 6.24999984211172e-06.\n",
      "\u001b[1m50/50\u001b[0m \u001b[32m━━━━━━━━━━━━━━━━━━━━\u001b[0m\u001b[37m\u001b[0m \u001b[1m53s\u001b[0m 1s/step - custom_mse: 3341947.2500 - loss: 6.1704 - val_custom_mse: 3383715.0000 - val_loss: 6.2133 - learning_rate: 1.2500e-05\n",
      "Epoch 22/50\n",
      "\u001b[1m50/50\u001b[0m \u001b[32m━━━━━━━━━━━━━━━━━━━━\u001b[0m\u001b[37m\u001b[0m \u001b[1m52s\u001b[0m 1s/step - custom_mse: 3343215.5000 - loss: 6.1671 - val_custom_mse: 3222028.7500 - val_loss: 6.2101 - learning_rate: 6.2500e-06\n",
      "Epoch 23/50\n",
      "\u001b[1m50/50\u001b[0m \u001b[32m━━━━━━━━━━━━━━━━━━━━\u001b[0m\u001b[37m\u001b[0m \u001b[1m52s\u001b[0m 1s/step - custom_mse: 3334721.2500 - loss: 6.1671 - val_custom_mse: 3003670.5000 - val_loss: 6.1582 - learning_rate: 6.2500e-06\n",
      "Epoch 24/50\n",
      "\u001b[1m50/50\u001b[0m \u001b[32m━━━━━━━━━━━━━━━━━━━━\u001b[0m\u001b[37m\u001b[0m \u001b[1m0s\u001b[0m 1000ms/step - custom_mse: 3342523.7500 - loss: 6.1661\n",
      "Epoch 24: ReduceLROnPlateau reducing learning rate to 3.12499992105586e-06.\n",
      "\u001b[1m50/50\u001b[0m \u001b[32m━━━━━━━━━━━━━━━━━━━━\u001b[0m\u001b[37m\u001b[0m \u001b[1m53s\u001b[0m 1s/step - custom_mse: 3342471.5000 - loss: 6.1661 - val_custom_mse: 3536982.7500 - val_loss: 6.1550 - learning_rate: 6.2500e-06\n",
      "Epoch 25/50\n",
      "\u001b[1m50/50\u001b[0m \u001b[32m━━━━━━━━━━━━━━━━━━━━\u001b[0m\u001b[37m\u001b[0m \u001b[1m52s\u001b[0m 1s/step - custom_mse: 3337859.5000 - loss: 6.1621 - val_custom_mse: 3164471.5000 - val_loss: 6.1997 - learning_rate: 3.1250e-06\n",
      "Epoch 26/50\n",
      "\u001b[1m50/50\u001b[0m \u001b[32m━━━━━━━━━━━━━━━━━━━━\u001b[0m\u001b[37m\u001b[0m \u001b[1m53s\u001b[0m 1s/step - custom_mse: 3347539.7500 - loss: 6.1657 - val_custom_mse: 3222028.7500 - val_loss: 6.2064 - learning_rate: 3.1250e-06\n",
      "Epoch 27/50\n",
      "\u001b[1m50/50\u001b[0m \u001b[32m━━━━━━━━━━━━━━━━━━━━\u001b[0m\u001b[37m\u001b[0m \u001b[1m0s\u001b[0m 999ms/step - custom_mse: 3342523.7500 - loss: 6.1641\n",
      "Epoch 27: ReduceLROnPlateau reducing learning rate to 1.56249996052793e-06.\n",
      "\u001b[1m50/50\u001b[0m \u001b[32m━━━━━━━━━━━━━━━━━━━━\u001b[0m\u001b[37m\u001b[0m \u001b[1m52s\u001b[0m 1s/step - custom_mse: 3342944.0000 - loss: 6.1636 - val_custom_mse: 3536982.7500 - val_loss: 6.1552 - learning_rate: 3.1250e-06\n",
      "Epoch 28/50\n",
      "\u001b[1m50/50\u001b[0m \u001b[32m━━━━━━━━━━━━━━━━━━━━\u001b[0m\u001b[37m\u001b[0m \u001b[1m52s\u001b[0m 1s/step - custom_mse: 3340645.7500 - loss: 6.1637 - val_custom_mse: 3072911.5000 - val_loss: 6.1221 - learning_rate: 1.5625e-06\n",
      "Epoch 29/50\n",
      "\u001b[1m50/50\u001b[0m \u001b[32m━━━━━━━━━━━━━━━━━━━━\u001b[0m\u001b[37m\u001b[0m \u001b[1m52s\u001b[0m 1s/step - custom_mse: 3347539.7500 - loss: 6.1648 - val_custom_mse: 3383715.0000 - val_loss: 6.2110 - learning_rate: 1.5625e-06\n",
      "Epoch 30/50\n",
      "\u001b[1m50/50\u001b[0m \u001b[32m━━━━━━━━━━━━━━━━━━━━\u001b[0m\u001b[37m\u001b[0m \u001b[1m52s\u001b[0m 1s/step - custom_mse: 3337955.5000 - loss: 6.1636 - val_custom_mse: 3253551.0000 - val_loss: 6.0897 - learning_rate: 1.5625e-06\n",
      "Epoch 31/50\n",
      "\u001b[1m50/50\u001b[0m \u001b[32m━━━━━━━━━━━━━━━━━━━━\u001b[0m\u001b[37m\u001b[0m \u001b[1m52s\u001b[0m 1s/step - custom_mse: 3344424.2500 - loss: 6.1642 - val_custom_mse: 3536982.7500 - val_loss: 6.1577 - learning_rate: 1.5625e-06\n",
      "Epoch 32/50\n",
      "\u001b[1m50/50\u001b[0m \u001b[32m━━━━━━━━━━━━━━━━━━━━\u001b[0m\u001b[37m\u001b[0m \u001b[1m52s\u001b[0m 1s/step - custom_mse: 3351230.5000 - loss: 6.1637 - val_custom_mse: 3197951.5000 - val_loss: 6.1273 - learning_rate: 1.5625e-06\n",
      "Epoch 33/50\n",
      "\u001b[1m50/50\u001b[0m \u001b[32m━━━━━━━━━━━━━━━━━━━━\u001b[0m\u001b[37m\u001b[0m \u001b[1m0s\u001b[0m 1s/step - custom_mse: 3342523.7500 - loss: 6.1626   \n",
      "Epoch 33: ReduceLROnPlateau reducing learning rate to 1e-06.\n",
      "\u001b[1m50/50\u001b[0m \u001b[32m━━━━━━━━━━━━━━━━━━━━\u001b[0m\u001b[37m\u001b[0m \u001b[1m52s\u001b[0m 1s/step - custom_mse: 3336648.7500 - loss: 6.1627 - val_custom_mse: 3164471.5000 - val_loss: 6.2019 - learning_rate: 1.5625e-06\n",
      "Epoch 34/50\n",
      "\u001b[1m50/50\u001b[0m \u001b[32m━━━━━━━━━━━━━━━━━━━━\u001b[0m\u001b[37m\u001b[0m \u001b[1m52s\u001b[0m 1s/step - custom_mse: 3344330.2500 - loss: 6.1624 - val_custom_mse: 3164471.5000 - val_loss: 6.1990 - learning_rate: 1.0000e-06\n",
      "Epoch 35/50\n",
      "\u001b[1m50/50\u001b[0m \u001b[32m━━━━━━━━━━━━━━━━━━━━\u001b[0m\u001b[37m\u001b[0m \u001b[1m52s\u001b[0m 1s/step - custom_mse: 3336648.7500 - loss: 6.1624 - val_custom_mse: 3212761.0000 - val_loss: 6.2375 - learning_rate: 1.0000e-06\n",
      "Epoch 36/50\n",
      "\u001b[1m50/50\u001b[0m \u001b[32m━━━━━━━━━━━━━━━━━━━━\u001b[0m\u001b[37m\u001b[0m \u001b[1m52s\u001b[0m 1s/step - custom_mse: 3347539.7500 - loss: 6.1638 - val_custom_mse: 3164471.5000 - val_loss: 6.2029 - learning_rate: 1.0000e-06\n",
      "Epoch 37/50\n",
      "\u001b[1m50/50\u001b[0m \u001b[32m━━━━━━━━━━━━━━━━━━━━\u001b[0m\u001b[37m\u001b[0m \u001b[1m52s\u001b[0m 1s/step - custom_mse: 3340645.7500 - loss: 6.1618 - val_custom_mse: 3183546.5000 - val_loss: 6.1644 - learning_rate: 1.0000e-06\n",
      "Epoch 38/50\n",
      "\u001b[1m50/50\u001b[0m \u001b[32m━━━━━━━━━━━━━━━━━━━━\u001b[0m\u001b[37m\u001b[0m \u001b[1m52s\u001b[0m 1s/step - custom_mse: 3346045.0000 - loss: 6.1621 - val_custom_mse: 3253551.0000 - val_loss: 6.0886 - learning_rate: 1.0000e-06\n",
      "Epoch 39/50\n",
      "\u001b[1m50/50\u001b[0m \u001b[32m━━━━━━━━━━━━━━━━━━━━\u001b[0m\u001b[37m\u001b[0m \u001b[1m52s\u001b[0m 1s/step - custom_mse: 3340645.7500 - loss: 6.1616 - val_custom_mse: 3523885.5000 - val_loss: 6.1770 - learning_rate: 1.0000e-06\n",
      "Epoch 40/50\n",
      "\u001b[1m50/50\u001b[0m \u001b[32m━━━━━━━━━━━━━━━━━━━━\u001b[0m\u001b[37m\u001b[0m \u001b[1m52s\u001b[0m 1s/step - custom_mse: 3345799.7500 - loss: 6.1617 - val_custom_mse: 3383715.0000 - val_loss: 6.2076 - learning_rate: 1.0000e-06\n",
      "Epoch 41/50\n",
      "\u001b[1m50/50\u001b[0m \u001b[32m━━━━━━━━━━━━━━━━━━━━\u001b[0m\u001b[37m\u001b[0m \u001b[1m52s\u001b[0m 1s/step - custom_mse: 3348991.2500 - loss: 6.1620 - val_custom_mse: 3383715.0000 - val_loss: 6.2067 - learning_rate: 1.0000e-06\n",
      "Epoch 42/50\n",
      "\u001b[1m50/50\u001b[0m \u001b[32m━━━━━━━━━━━━━━━━━━━━\u001b[0m\u001b[37m\u001b[0m \u001b[1m52s\u001b[0m 1s/step - custom_mse: 3341695.0000 - loss: 6.1618 - val_custom_mse: 3253551.0000 - val_loss: 6.0866 - learning_rate: 1.0000e-06\n",
      "Epoch 43/50\n",
      "\u001b[1m50/50\u001b[0m \u001b[32m━━━━━━━━━━━━━━━━━━━━\u001b[0m\u001b[37m\u001b[0m \u001b[1m52s\u001b[0m 1s/step - custom_mse: 3339806.5000 - loss: 6.1602 - val_custom_mse: 3253551.0000 - val_loss: 6.0878 - learning_rate: 1.0000e-06\n",
      "Epoch 44/50\n",
      "\u001b[1m50/50\u001b[0m \u001b[32m━━━━━━━━━━━━━━━━━━━━\u001b[0m\u001b[37m\u001b[0m \u001b[1m52s\u001b[0m 1s/step - custom_mse: 3337572.2500 - loss: 6.1615 - val_custom_mse: 3183546.5000 - val_loss: 6.1577 - learning_rate: 1.0000e-06\n",
      "Epoch 45/50\n",
      "\u001b[1m50/50\u001b[0m \u001b[32m━━━━━━━━━━━━━━━━━━━━\u001b[0m\u001b[37m\u001b[0m \u001b[1m52s\u001b[0m 1s/step - custom_mse: 3337572.2500 - loss: 6.1618 - val_custom_mse: 3003670.5000 - val_loss: 6.1538 - learning_rate: 1.0000e-06\n",
      "Epoch 46/50\n",
      "\u001b[1m50/50\u001b[0m \u001b[32m━━━━━━━━━━━━━━━━━━━━\u001b[0m\u001b[37m\u001b[0m \u001b[1m52s\u001b[0m 1s/step - custom_mse: 3344330.2500 - loss: 6.1611 - val_custom_mse: 3536982.7500 - val_loss: 6.1550 - learning_rate: 1.0000e-06\n",
      "Epoch 47/50\n",
      "\u001b[1m50/50\u001b[0m \u001b[32m━━━━━━━━━━━━━━━━━━━━\u001b[0m\u001b[37m\u001b[0m \u001b[1m52s\u001b[0m 1s/step - custom_mse: 3336648.7500 - loss: 6.1605 - val_custom_mse: 3072911.5000 - val_loss: 6.1178 - learning_rate: 1.0000e-06\n",
      "Epoch 48/50\n",
      "\u001b[1m50/50\u001b[0m \u001b[32m━━━━━━━━━━━━━━━━━━━━\u001b[0m\u001b[37m\u001b[0m \u001b[1m52s\u001b[0m 1s/step - custom_mse: 3345688.2500 - loss: 6.1590 - val_custom_mse: 3294840.5000 - val_loss: 6.2125 - learning_rate: 1.0000e-06\n",
      "Epoch 49/50\n",
      "\u001b[1m50/50\u001b[0m \u001b[32m━━━━━━━━━━━━━━━━━━━━\u001b[0m\u001b[37m\u001b[0m \u001b[1m52s\u001b[0m 1s/step - custom_mse: 3334721.2500 - loss: 6.1604 - val_custom_mse: 3003670.5000 - val_loss: 6.1549 - learning_rate: 1.0000e-06\n",
      "Epoch 50/50\n",
      "\u001b[1m50/50\u001b[0m \u001b[32m━━━━━━━━━━━━━━━━━━━━\u001b[0m\u001b[37m\u001b[0m \u001b[1m52s\u001b[0m 1s/step - custom_mse: 3340833.7500 - loss: 6.1597 - val_custom_mse: 3222028.7500 - val_loss: 6.2026 - learning_rate: 1.0000e-06\n"
     ]
    },
    {
     "data": {
      "image/png": "[encoded data removed]",
      "text/plain": [
       "<Figure size 640x480 with 1 Axes>"
      ]
     },
     "metadata": {},
     "output_type": "display_data"
    }
   ],
   "source": [
    "\n",
    "vae_model.compile(optimizer=optimizer)  # No es necesario definir loss directamente aquí\n",
    "\n",
    "history = vae_model.fit(\n",
    "    train_dataset,              # Datos de entrada para entrenamiento\n",
    "    batch_size=batch_size,\n",
    "    epochs=50,                  # Número de épocas de entrenamiento\n",
    "    validation_data=test_dataset,  # Datos de validación para evaluar el modelo\n",
    "    callbacks=[lr_scheduler],\n",
    "    verbose=1                   # Muestra el progreso durante el entrenamiento\n",
    ")\n",
    "# --- Visualización de la pérdida ---\n",
    "plt.plot(history.history[\"loss\"], label=\"Pérdida Total\")\n",
    "plt.title(\"Pérdida durante el entrenamiento\")\n",
    "plt.xlabel(\"Epochs\")\n",
    "plt.ylabel(\"Pérdida\")\n",
    "plt.legend()\n",
    "plt.show()\n"
   ]
  },
  {
   "cell_type": "code",
   "execution_count": 17,
   "metadata": {
    "colab": {
     "base_uri": "https://localhost:8080/",
     "height": 472
    },
    "executionInfo": {
     "elapsed": 1098,
     "status": "ok",
     "timestamp": 1739705004113,
     "user": {
      "displayName": "Martín Sánchez Torres",
      "userId": "09593946760207616318"
     },
     "user_tz": -60
    },
    "id": "pf4IlH12K8Pu",
    "outputId": "5013dc29-f9c3-4a4e-c022-53c1fb494e02"
   },
   "outputs": [
    {
     "data": {
      "image/png": "[encoded data removed]",
      "text/plain": [
       "<Figure size 640x480 with 1 Axes>"
      ]
     },
     "metadata": {},
     "output_type": "display_data"
    }
   ],
   "source": [
    "plt.plot(history.history[\"loss\"], label=\"Pérdida en Entrenamiento\")\n",
    "plt.plot(history.history[\"val_loss\"], label=\"Pérdida en Validación\")\n",
    "plt.title(\"Pérdida durante el entrenamiento y validación\")\n",
    "plt.xlabel(\"Epochs\")\n",
    "plt.ylabel(\"Pérdida\")\n",
    "plt.legend()\n",
    "plt.show()"
   ]
  }
 ],
 "metadata": {
  "accelerator": "GPU",
  "colab": {
   "gpuType": "A100",
   "provenance": []
  },
  "kernelspec": {
   "display_name": "Python [conda env:base] *",
   "language": "python",
   "name": "conda-base-py"
  },
  "language_info": {
   "codemirror_mode": {
    "name": "ipython",
    "version": 3
   },
   "file_extension": ".py",
   "mimetype": "text/x-python",
   "name": "python",
   "nbconvert_exporter": "python",
   "pygments_lexer": "ipython3",
   "version": "3.12.9"
  }
 },
 "nbformat": 4,
 "nbformat_minor": 4
}
