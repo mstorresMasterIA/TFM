{
 "cells": [
  {
   "cell_type": "code",
   "execution_count": null,
   "metadata": {
    "colab": {
     "base_uri": "https://localhost:8080/"
    },
    "executionInfo": {
     "elapsed": 21469,
     "status": "ok",
     "timestamp": 1738791857306,
     "user": {
      "displayName": "Martín Sánchez Torres",
      "userId": "09593946760207616318"
     },
     "user_tz": -60
    },
    "id": "cBcUjPzv7iT7",
    "outputId": "a08d3489-8579-47a9-82c1-ed5f4a03db95"
   },
   "outputs": [
    {
     "name": "stdout",
     "output_type": "stream",
     "text": [
      "Mounted at /content/drive\n"
     ]
    }
   ],
   "source": [
    "from google.colab import drive\n",
    "drive.mount('/content/drive')"
   ]
  },
  {
   "cell_type": "code",
   "execution_count": null,
   "metadata": {
    "id": "2RvvzwRB62J6"
   },
   "outputs": [],
   "source": [
    "import pandas as pd\n",
    "\n",
    "import matplotlib.pyplot as plt"
   ]
  },
  {
   "cell_type": "code",
   "execution_count": null,
   "metadata": {
    "colab": {
     "base_uri": "https://localhost:8080/",
     "height": 475
    },
    "executionInfo": {
     "elapsed": 14371,
     "status": "ok",
     "timestamp": 1738791872161,
     "user": {
      "displayName": "Martín Sánchez Torres",
      "userId": "09593946760207616318"
     },
     "user_tz": -60
    },
    "id": "Ydn_RxwR66xc",
    "outputId": "518abd9c-1642-446a-b3bc-4411c4865335"
   },
   "outputs": [
    {
     "name": "stdout",
     "output_type": "stream",
     "text": [
      "/content/drive/MyDrive/Colab Notebooks/Trabajo Fin de Estudios/Dataset/train_drcat_01.csv\n",
      "/content/drive/MyDrive/Colab Notebooks/Trabajo Fin de Estudios/Dataset/train_drcat_02.csv\n",
      "/content/drive/MyDrive/Colab Notebooks/Trabajo Fin de Estudios/Dataset/train_drcat_03.csv\n",
      "/content/drive/MyDrive/Colab Notebooks/Trabajo Fin de Estudios/Dataset/train_drcat_04.csv\n"
     ]
    },
    {
     "data": {
      "image/png": "[encoded data removed]",
      "text/plain": [
       "<Figure size 640x480 with 1 Axes>"
      ]
     },
     "metadata": {},
     "output_type": "display_data"
    }
   ],
   "source": [
    "# Define la ruta a la carpeta\n",
    "ruta_carpeta = '/content/drive/MyDrive/Colab Notebooks/Trabajo Fin de Estudios/Dataset/'\n",
    "\n",
    "# Define los nombres de los archivos\n",
    "nombres_archivos = ['train_drcat_01.csv', 'train_drcat_02.csv', 'train_drcat_03.csv', 'train_drcat_04.csv']\n",
    "\n",
    "# Crea una lista vacía para almacenar los DataFrames\n",
    "dfs = []\n",
    "\n",
    "# Itera sobre los nombres de los archivos y lee cada uno en un DataFrame\n",
    "for nombre_archivo in nombres_archivos:\n",
    "    ruta_archivo = ruta_carpeta + nombre_archivo\n",
    "    print(ruta_archivo)\n",
    "    df = pd.read_csv(ruta_archivo, sep=\",\", encoding='utf-8')  # Ajusta el separador y la codificación si es necesario\n",
    "    dfs.append(df)\n",
    "\n",
    "# Concatena todos los DataFrames en uno solo\n",
    "df_final = pd.concat(dfs, ignore_index=True)\n",
    "\n",
    "# Mostramos las 5 primeras filas\n",
    "df_final.head()\n",
    "\n",
    "plt.pie(df_final['label'].value_counts().values,\n",
    "        labels = df_final['label'].value_counts().index,\n",
    "        autopct='%1.1f%%')\n",
    "plt.show()"
   ]
  },
  {
   "cell_type": "code",
   "execution_count": null,
   "metadata": {
    "colab": {
     "base_uri": "https://localhost:8080/",
     "height": 406
    },
    "executionInfo": {
     "elapsed": 10,
     "status": "ok",
     "timestamp": 1738791872161,
     "user": {
      "displayName": "Martín Sánchez Torres",
      "userId": "09593946760207616318"
     },
     "user_tz": -60
    },
    "id": "jn1iZZMX69uX",
    "outputId": "006bb853-4c47-408f-f2cc-4e169b798a7e"
   },
   "outputs": [
    {
     "data": {
      "image/png": "[encoded data removed]",
      "text/plain": [
       "<Figure size 640x480 with 1 Axes>"
      ]
     },
     "metadata": {},
     "output_type": "display_data"
    }
   ],
   "source": [
    "df_label_0 = df_final[df_final['label'] == 0].sample(n=2000, random_state=42)  # random_state para reproducibilidad\n",
    "\n",
    "# Seleccionar 1000 textos con label 1\n",
    "df_label_1 = df_final[df_final['label'] == 1].sample(n=2000, random_state=42)\n",
    "\n",
    "# Concatenar los dos DataFrames\n",
    "df_seleccionado = pd.concat([df_label_0, df_label_1])\n",
    "\n",
    "# Reiniciar el índice\n",
    "df_seleccionado = df_seleccionado.reset_index(drop=True)\n",
    "\n",
    "plt.pie(df_seleccionado['label'].value_counts().values,\n",
    "        labels = df_seleccionado['label'].value_counts().index,\n",
    "        autopct='%1.1f%%')\n",
    "plt.show()"
   ]
  },
  {
   "cell_type": "code",
   "execution_count": null,
   "metadata": {
    "id": "Agmxm-L_GuqZ"
   },
   "outputs": [],
   "source": [
    "import tensorflow as tf\n",
    "from tensorflow.keras import Model, layers, Input\n",
    "import pandas as pd\n",
    "import numpy as np\n",
    "import matplotlib.pyplot as plt\n",
    "\n",
    "# --- Configuración Inicial ---\n",
    "vocab_size = 25000  # Tamaño del vocabulario\n",
    "embedding_dim = 300  # Dimensión del embedding\n",
    "sequence_length = 400  # Longitud máxima de secuencias\n",
    "latent_dim = 128  # Dimensión del espacio latente\n",
    "batch_size = 64\n",
    "epochs = 20\n",
    "\n",
    "\n",
    "# --- Carga y Preprocesamiento de Datos ---\n",
    "df=df_seleccionado"
   ]
  },
  {
   "cell_type": "code",
   "execution_count": null,
   "metadata": {
    "id": "kOIjQSbrHmJM"
   },
   "outputs": [],
   "source": [
    "from tensorflow.keras.preprocessing.text import Tokenizer\n",
    "from tensorflow.keras.preprocessing.sequence import pad_sequences\n",
    "import numpy as np"
   ]
  },
  {
   "cell_type": "code",
   "execution_count": null,
   "metadata": {
    "colab": {
     "base_uri": "https://localhost:8080/"
    },
    "executionInfo": {
     "elapsed": 3207,
     "status": "ok",
     "timestamp": 1738791879046,
     "user": {
      "displayName": "Martín Sánchez Torres",
      "userId": "09593946760207616318"
     },
     "user_tz": -60
    },
    "id": "nwbJwFpgN-_q",
    "outputId": "2c3a809b-dc22-43ec-a8ab-1afcf386ebbb"
   },
   "outputs": [
    {
     "name": "stderr",
     "output_type": "stream",
     "text": [
      "[nltk_data] Downloading package stopwords to /root/nltk_data...\n",
      "[nltk_data]   Unzipping corpora/stopwords.zip.\n"
     ]
    }
   ],
   "source": [
    "import string\n",
    "import nltk\n",
    "from nltk.corpus import stopwords\n",
    "\n",
    "nltk.download('stopwords')\n",
    "stop_words = set(stopwords.words('english'))\n",
    "\n",
    "def preprocess_text(text):\n",
    "    text = text.lower()\n",
    "    text = ''.join([char for char in text if char not in string.punctuation])\n",
    "    text = ' '.join([word for word in text.split() if word not in stop_words])\n",
    "    return text\n",
    "\n"
   ]
  },
  {
   "cell_type": "code",
   "execution_count": null,
   "metadata": {
    "id": "WGwNJWPwOeNg"
   },
   "outputs": [],
   "source": [
    "# Eliminar registros nulos o vacíos en la columna de texto\n",
    "df = df.dropna(subset=[\"text\"])\n",
    "df = df[df[\"text\"].str.strip() != \"\"]\n",
    "df['text_clean'] = df['text'].apply(preprocess_text)"
   ]
  },
  {
   "cell_type": "code",
   "execution_count": null,
   "metadata": {
    "id": "gdTzoSvxdUZR"
   },
   "outputs": [],
   "source": [
    "import tensorflow as tf\n",
    "from sklearn.model_selection import train_test_split\n",
    "\n",
    "# Vectorizador de texto\n",
    "vectorizador = tf.keras.layers.TextVectorization(\n",
    "    max_tokens=vocab_size,\n",
    "    output_mode='int',  # Para generar secuencias de índices\n",
    "    output_sequence_length=sequence_length\n",
    ")"
   ]
  },
  {
   "cell_type": "code",
   "execution_count": null,
   "metadata": {
    "colab": {
     "base_uri": "https://localhost:8080/"
    },
    "executionInfo": {
     "elapsed": 12,
     "status": "ok",
     "timestamp": 1738791880794,
     "user": {
      "displayName": "Martín Sánchez Torres",
      "userId": "09593946760207616318"
     },
     "user_tz": -60
    },
    "id": "SRnuGuvJo0Cw",
    "outputId": "08c7d2f7-04f7-4827-c032-806699daeb4d"
   },
   "outputs": [
    {
     "name": "stdout",
     "output_type": "stream",
     "text": [
      "3994    8th grader believe life enjoyable people ages ...\n",
      "423     ever asked someone advice go one person go sev...\n",
      "2991    dear principal writing today share thoughts id...\n",
      "1221    ever problem couldnt solve asking advice probl...\n",
      "506     danger ecploring venus temperature high humman...\n",
      "Name: text_clean, dtype: object\n"
     ]
    }
   ],
   "source": [
    "from sklearn.model_selection import train_test_split\n",
    "X_train, X_test = train_test_split(df['text_clean'], test_size=0.2, random_state=42)\n",
    "\n",
    "print(X_train[:5])"
   ]
  },
  {
   "cell_type": "code",
   "execution_count": null,
   "metadata": {
    "colab": {
     "base_uri": "https://localhost:8080/"
    },
    "executionInfo": {
     "elapsed": 10,
     "status": "ok",
     "timestamp": 1738791880794,
     "user": {
      "displayName": "Martín Sánchez Torres",
      "userId": "09593946760207616318"
     },
     "user_tz": -60
    },
    "id": "D_Px_ixmo6j-",
    "outputId": "8bf9f743-65ee-40b5-cbd9-af00e9187625"
   },
   "outputs": [
    {
     "name": "stdout",
     "output_type": "stream",
     "text": [
      "<class 'str'>\n"
     ]
    }
   ],
   "source": [
    "print(type(X_train[0]))  # Debería ser <class 'str'>"
   ]
  },
  {
   "cell_type": "code",
   "execution_count": null,
   "metadata": {
    "id": "RIFcHobQovFm"
   },
   "outputs": [],
   "source": [
    "\n",
    "#vectorizador.adapt(X_train)\n",
    "vectorizador.adapt(df['text_clean'])\n",
    "# Vectorize before batching\n",
    "X_train_vec = [vectorizador(x) for x in X_train]  # Vectorize each text\n",
    "X_test_vec = [vectorizador(x) for x in X_test]    # Vectorize each text\n",
    "\n",
    "# Crear los datasets de entrada\n",
    "train_dataset = tf.data.Dataset.from_tensor_slices(X_train_vec)  # Solo entradas, sin etiquetas\n",
    "train_dataset = train_dataset.batch(batch_size).shuffle(len(X_train)).prefetch(tf.data.AUTOTUNE)\n",
    "\n",
    "test_dataset = tf.data.Dataset.from_tensor_slices(X_test_vec)  # Solo entradas, sin etiquetas\n",
    "test_dataset = test_dataset.batch(batch_size).shuffle(len(X_test)).prefetch(tf.data.AUTOTUNE)"
   ]
  },
  {
   "cell_type": "code",
   "execution_count": null,
   "metadata": {
    "colab": {
     "base_uri": "https://localhost:8080/"
    },
    "executionInfo": {
     "elapsed": 16,
     "status": "ok",
     "timestamp": 1738791924004,
     "user": {
      "displayName": "Martín Sánchez Torres",
      "userId": "09593946760207616318"
     },
     "user_tz": -60
    },
    "id": "l8jMPErVozSh",
    "outputId": "c8d22482-1b1d-4e7f-b55b-1e1dc404decd"
   },
   "outputs": [
    {
     "name": "stdout",
     "output_type": "stream",
     "text": [
      "tf.Tensor(\n",
      "[[ 4224    29  1549 ...     0     0     0]\n",
      " [   54   132   115 ...     0     0     0]\n",
      " [  312  1400    17 ...     0     0     0]\n",
      " ...\n",
      " [  312  1400   115 ...     0     0     0]\n",
      " [  460  2990   431 ...     0     0     0]\n",
      " [  312   396 23193 ...     0     0     0]], shape=(64, 400), dtype=int64)\n"
     ]
    }
   ],
   "source": [
    "for batch in train_dataset.take(1):\n",
    "    print(batch)  # Verifica que sea un tensor con los índices de las palabras"
   ]
  },
  {
   "cell_type": "code",
   "execution_count": null,
   "metadata": {
    "colab": {
     "base_uri": "https://localhost:8080/"
    },
    "executionInfo": {
     "elapsed": 13,
     "status": "ok",
     "timestamp": 1738791924004,
     "user": {
      "displayName": "Martín Sánchez Torres",
      "userId": "09593946760207616318"
     },
     "user_tz": -60
    },
    "id": "6bQYgnDmwexF",
    "outputId": "112cb10f-94f4-49c5-dffb-389948bd1b5c"
   },
   "outputs": [
    {
     "name": "stdout",
     "output_type": "stream",
     "text": [
      "tf.Tensor(\n",
      "[[2240 2234 2036 ...    0    0    0]\n",
      " [ 134  366  700 ...    0    0    0]\n",
      " [  50  383  368 ...    0    0    0]\n",
      " ...\n",
      " [1004 3643 4257 ...    0    0    0]\n",
      " [ 648  683   64 ...    0    0    0]\n",
      " [ 312  396  484 ...    0    0    0]], shape=(64, 400), dtype=int64)\n"
     ]
    }
   ],
   "source": [
    "for batch in test_dataset.take(1):\n",
    "    print(batch)  # Verifica que sea un tensor con los índices de las palabras"
   ]
  },
  {
   "cell_type": "code",
   "execution_count": null,
   "metadata": {
    "colab": {
     "base_uri": "https://localhost:8080/"
    },
    "executionInfo": {
     "elapsed": 10,
     "status": "ok",
     "timestamp": 1738791924004,
     "user": {
      "displayName": "Martín Sánchez Torres",
      "userId": "09593946760207616318"
     },
     "user_tz": -60
    },
    "id": "19JvQd44pNd_",
    "outputId": "fb4026dc-c5e5-4d11-b8d7-7f62b85e13b4"
   },
   "outputs": [
    {
     "name": "stdout",
     "output_type": "stream",
     "text": [
      "23295\n"
     ]
    }
   ],
   "source": [
    "print(vectorizador.vocabulary_size())  # Asegúrate de que el vocabulario fue correctamente adaptado"
   ]
  },
  {
   "cell_type": "code",
   "execution_count": null,
   "metadata": {
    "id": "eGt39hx2xg7f"
   },
   "outputs": [],
   "source": [
    "\n",
    "from tensorflow.keras.saving import register_keras_serializable\n",
    "import tensorflow as tf\n",
    "from tensorflow.keras import Model, layers, Input\n",
    "from tensorflow.keras import regularizers\n",
    "from tensorflow.keras.optimizers import Adam\n",
    "from tensorflow.keras.callbacks import ReduceLROnPlateau, EarlyStopping\n",
    "\n",
    "# --- Ajustes del optimizador ---\n",
    "initial_lr = 1e-4  # Tasa de aprendizaje reducida\n",
    "optimizer = Adam(learning_rate=initial_lr)\n",
    "\n",
    "# --- Callbacks para mejorar convergencia ---\n",
    "lr_scheduler = ReduceLROnPlateau(\n",
    "    monitor=\"val_loss\", factor=0.5, patience=3, min_lr=1e-6, verbose=1\n",
    ")\n",
    "early_stopping = EarlyStopping(\n",
    "    monitor=\"val_loss\", patience=10, restore_best_weights=True, verbose=1\n",
    ")\n",
    "\n",
    "# --- Definición del Encoder ---\n",
    "encoder_inputs = Input(shape=(sequence_length,), name=\"encoder_input\")\n",
    "x = vectorizador(encoder_inputs)\n",
    "x = tf.keras.layers.Embedding(vocab_size, embedding_dim, mask_zero=True, name=\"embedding_layer\")(encoder_inputs)  # Embedding\n",
    "x = layers.LSTM(sequence_length, return_sequences=False, use_cudnn=False, kernel_regularizer=regularizers.l2(0.01), name=\"encoder_lstm\")(x)  # Reducimos unidades en LSTM y agregamos regularización L2\n",
    "x = layers.Dense(256, activation=\"relu\", kernel_regularizer=regularizers.l2(0.01), name=\"encoder_dense_1\")(x)  # Regularización L2\n",
    "x = layers.Dropout(0.4)(x)  # Dropout para prevenir overfitting\n",
    "x = layers.Dense(128, activation=\"relu\", kernel_regularizer=regularizers.l2(0.01), name=\"encoder_dense_2\")(x)  # Regularización L2\n",
    "\n",
    "# Parametrización de la distribución latente\n",
    "z_mean = layers.Dense(latent_dim, name=\"z_mean\")(x)\n",
    "z_log_var = layers.Dense(latent_dim, name=\"z_log_var\")(x)\n",
    "\n",
    "# Reparametrización\n",
    "def sampling(args):\n",
    "    z_mean, z_log_var = args\n",
    "    epsilon = tf.keras.backend.random_normal(shape=(tf.shape(z_mean)[0], latent_dim))\n",
    "    return z_mean + tf.exp(0.5 * z_log_var) * epsilon\n",
    "\n",
    "z = layers.Lambda(sampling, name=\"z_sampling\")([z_mean, z_log_var])\n",
    "\n",
    "encoder = Model(encoder_inputs, [z_mean, z_log_var, z], name=\"encoder\")\n",
    "\n",
    "# --- Definición del Decoder ---\n",
    "decoder_inputs = Input(shape=(latent_dim,), name=\"z_sampling_input\")\n",
    "x = layers.Dense(128, activation=\"relu\", kernel_regularizer=regularizers.l2(0.01), name=\"decoder_dense\")(decoder_inputs)  # Regularización L2\n",
    "x = layers.Dense(256, activation=\"relu\", kernel_regularizer=regularizers.l2(0.01), name=\"decoder_dense_1\")(x)  # Regularización L2\n",
    "x = layers.RepeatVector(sequence_length)(x)\n",
    "decoder_outputs = layers.LSTM(sequence_length, return_sequences=True, kernel_regularizer=regularizers.l2(0.01))(x)  # Regularización L2\n",
    "decoder_outputs = layers.TimeDistributed(layers.Dense(vocab_size, activation=\"softmax\"))(decoder_outputs)\n",
    "decoder = Model(decoder_inputs, decoder_outputs, name=\"decoder\")\n",
    "\n",
    "\n",
    "# --- Definición del Autoencoder ---\n",
    "vae_outputs = decoder(encoder(encoder_inputs)[2])\n",
    "\n",
    "def vae_loss(inputs, outputs, z_mean, z_log_var):\n",
    "    #return vae_loss\n",
    "    # Reconstrucción: sparse crossentropy acepta inputs enteros directamente\n",
    "    reconstruction_loss = tf.reduce_mean(\n",
    "        tf.keras.losses.sparse_categorical_crossentropy(inputs, outputs)\n",
    "    )\n",
    "\n",
    "    # KL Divergence ajustada para evitar sumas grandes\n",
    "    kl_loss = -0.5 * tf.reduce_mean(\n",
    "        1 + z_log_var - tf.square(z_mean) - tf.exp(z_log_var)\n",
    "    )\n",
    "    beta = 0.4  # Hiperparámetro de ajuste\n",
    "    return reconstruction_loss + beta * kl_loss\n",
    "\n",
    "def custom_mse(y_true, y_pred):\n",
    "    y_pred = tf.argmax(y_pred, axis=-1)  # Obtener los tokens con mayor probabilidad\n",
    "\n",
    "    # Convertir a enteros\n",
    "    y_pred = tf.cast(y_pred, tf.int32)  # Convertir y_pred a tf.int32\n",
    "\n",
    "    # Calcular MSE solo en la dimensión de la secuencia\n",
    "    mse = tf.keras.losses.MeanSquaredError()(y_true, y_pred)\n",
    "\n",
    "    return mse\n",
    "\n",
    "# --- Definición del modelo con `train_step` personalizado ---\n",
    "from tensorflow.keras.metrics import MeanSquaredError\n",
    "@register_keras_serializable()\n",
    "class VAEModel(Model):\n",
    "    def __init__(self, encoder, decoder, **kwargs):\n",
    "        super(VAEModel, self).__init__(**kwargs)\n",
    "        self.encoder = encoder\n",
    "        self.decoder = decoder\n",
    "        \n",
    "    def call(self, inputs):\n",
    "        z_mean, z_log_var, z = self.encoder(inputs)\n",
    "        return self.decoder(z), z_mean, z_log_var\n",
    "        #return self.decoder(z)\n",
    "\n",
    "    def get_config(self):\n",
    "        config = super().get_config()\n",
    "        config.update({\n",
    "            \"encoder\": self.encoder,\n",
    "            \"decoder\": self.decoder\n",
    "        })\n",
    "        return config\n",
    "\n",
    "    @classmethod\n",
    "    def from_config(cls, config):\n",
    "        encoder = config.pop(\"encoder\")\n",
    "        decoder = config.pop(\"decoder\")\n",
    "        return cls(encoder, decoder, **config)\n",
    "\n",
    "    def train_step(self, data):\n",
    "        self.reset_metrics()  # Reinicia las métricas antes de cada paso\n",
    "        with tf.GradientTape() as tape:\n",
    "            inputs = data\n",
    "            outputs, z_mean, z_log_var = self(inputs, training=True)\n",
    "            loss = vae_loss(inputs, outputs, z_mean, z_log_var)\n",
    "\n",
    "        # Computar gradientes\n",
    "        grads = tape.gradient(loss, self.trainable_variables)\n",
    "\n",
    "        # Actualizar los pesos\n",
    "        self.optimizer.apply_gradients(zip(grads, self.trainable_variables))\n",
    "        mse=custom_mse(inputs, outputs)\n",
    "\n",
    "        return {\"loss\": loss, \"custom_mse\": mse}  # Cambiar el nombre de la métrica en el diccionario de salida\n",
    "\n",
    "    def test_step(self, data):\n",
    "        self.reset_metrics()  # Reinicia las métricas antes del paso de prueba\n",
    "        inputs = data\n",
    "        outputs, z_mean, z_log_var = self(inputs, training=False)\n",
    "        loss = vae_loss(inputs, outputs, z_mean, z_log_var)\n",
    "\n",
    "        mse=custom_mse(inputs, outputs)\n",
    "        return {\"loss\": loss, \"custom_mse\": mse}  # Cambiar el nombre de la métrica en el diccionario de salida\n",
    "\n",
    "\n",
    "from tensorflow.keras.callbacks import LearningRateScheduler\n",
    "\n",
    "def print_lr(epoch, lr):\n",
    "    print(f\"Epoch: {epoch + 1}, Learning Rate: {lr}\")\n",
    "\n",
    "lr_callback = LearningRateScheduler(lambda epoch, lr: lr, verbose=1)\n",
    "# Crear el modelo VAE\n",
    "vae_model = VAEModel(encoder, decoder)\n",
    "\n"
   ]
  },
  {
   "cell_type": "code",
   "execution_count": null,
   "metadata": {
    "colab": {
     "base_uri": "https://localhost:8080/",
     "height": 1000
    },
    "executionInfo": {
     "elapsed": 2687681,
     "status": "ok",
     "timestamp": 1738794617446,
     "user": {
      "displayName": "Martín Sánchez Torres",
      "userId": "09593946760207616318"
     },
     "user_tz": -60
    },
    "id": "hc42kw2_V1Xv",
    "outputId": "de6fa83c-84c5-4a64-ca8e-b37258e560c4"
   },
   "outputs": [
    {
     "name": "stdout",
     "output_type": "stream",
     "text": [
      "Epoch 1/50\n",
      "\u001b[1m50/50\u001b[0m \u001b[32m━━━━━━━━━━━━━━━━━━━━\u001b[0m\u001b[37m\u001b[0m \u001b[1m87s\u001b[0m 1s/step - custom_mse: 19335674.0000 - loss: 8.7764 - val_custom_mse: 4335378.0000 - val_loss: 6.7924 - learning_rate: 1.0000e-04\n",
      "Epoch 2/50\n",
      "\u001b[1m50/50\u001b[0m \u001b[32m━━━━━━━━━━━━━━━━━━━━\u001b[0m\u001b[37m\u001b[0m \u001b[1m53s\u001b[0m 1s/step - custom_mse: 3925641.2500 - loss: 5.4269 - val_custom_mse: 3599014.0000 - val_loss: 4.5181 - learning_rate: 1.0000e-04\n",
      "Epoch 3/50\n",
      "\u001b[1m50/50\u001b[0m \u001b[32m━━━━━━━━━━━━━━━━━━━━\u001b[0m\u001b[37m\u001b[0m \u001b[1m53s\u001b[0m 1s/step - custom_mse: 3914532.7500 - loss: 4.2908 - val_custom_mse: 3837327.5000 - val_loss: 4.3439 - learning_rate: 1.0000e-04\n",
      "Epoch 4/50\n",
      "\u001b[1m50/50\u001b[0m \u001b[32m━━━━━━━━━━━━━━━━━━━━\u001b[0m\u001b[37m\u001b[0m \u001b[1m53s\u001b[0m 1s/step - custom_mse: 3899095.5000 - loss: 4.2172 - val_custom_mse: 3837327.5000 - val_loss: 4.3241 - learning_rate: 1.0000e-04\n",
      "Epoch 5/50\n",
      "\u001b[1m50/50\u001b[0m \u001b[32m━━━━━━━━━━━━━━━━━━━━\u001b[0m\u001b[37m\u001b[0m \u001b[1m53s\u001b[0m 1s/step - custom_mse: 3902925.2500 - loss: 4.1964 - val_custom_mse: 4223444.0000 - val_loss: 4.6929 - learning_rate: 1.0000e-04\n",
      "Epoch 6/50\n",
      "\u001b[1m50/50\u001b[0m \u001b[32m━━━━━━━━━━━━━━━━━━━━\u001b[0m\u001b[37m\u001b[0m \u001b[1m53s\u001b[0m 1s/step - custom_mse: 3908676.0000 - loss: 4.1919 - val_custom_mse: 4249947.5000 - val_loss: 4.5916 - learning_rate: 1.0000e-04\n",
      "Epoch 7/50\n",
      "\u001b[1m50/50\u001b[0m \u001b[32m━━━━━━━━━━━━━━━━━━━━\u001b[0m\u001b[37m\u001b[0m \u001b[1m0s\u001b[0m 1s/step - custom_mse: 3913319.0000 - loss: 4.1730    \n",
      "Epoch 7: ReduceLROnPlateau reducing learning rate to 4.999999873689376e-05.\n",
      "\u001b[1m50/50\u001b[0m \u001b[32m━━━━━━━━━━━━━━━━━━━━\u001b[0m\u001b[37m\u001b[0m \u001b[1m53s\u001b[0m 1s/step - custom_mse: 3897808.5000 - loss: 4.1659 - val_custom_mse: 3618005.0000 - val_loss: 4.3524 - learning_rate: 1.0000e-04\n",
      "Epoch 8/50\n",
      "\u001b[1m50/50\u001b[0m \u001b[32m━━━━━━━━━━━━━━━━━━━━\u001b[0m\u001b[37m\u001b[0m \u001b[1m53s\u001b[0m 1s/step - custom_mse: 3911252.0000 - loss: 4.1445 - val_custom_mse: 5092665.5000 - val_loss: 4.2762 - learning_rate: 5.0000e-05\n",
      "Epoch 9/50\n",
      "\u001b[1m50/50\u001b[0m \u001b[32m━━━━━━━━━━━━━━━━━━━━\u001b[0m\u001b[37m\u001b[0m \u001b[1m53s\u001b[0m 1s/step - custom_mse: 3920599.2500 - loss: 4.0944 - val_custom_mse: 4475580.0000 - val_loss: 4.3799 - learning_rate: 5.0000e-05\n",
      "Epoch 10/50\n",
      "\u001b[1m50/50\u001b[0m \u001b[32m━━━━━━━━━━━━━━━━━━━━\u001b[0m\u001b[37m\u001b[0m \u001b[1m53s\u001b[0m 1s/step - custom_mse: 3919892.5000 - loss: 4.0155 - val_custom_mse: 5092665.5000 - val_loss: 4.1330 - learning_rate: 5.0000e-05\n",
      "Epoch 11/50\n",
      "\u001b[1m50/50\u001b[0m \u001b[32m━━━━━━━━━━━━━━━━━━━━\u001b[0m\u001b[37m\u001b[0m \u001b[1m53s\u001b[0m 1s/step - custom_mse: 3921944.5000 - loss: 3.9580 - val_custom_mse: 3837327.5000 - val_loss: 4.0515 - learning_rate: 5.0000e-05\n",
      "Epoch 12/50\n",
      "\u001b[1m50/50\u001b[0m \u001b[32m━━━━━━━━━━━━━━━━━━━━\u001b[0m\u001b[37m\u001b[0m \u001b[1m53s\u001b[0m 1s/step - custom_mse: 3908816.5000 - loss: 3.9099 - val_custom_mse: 3674713.7500 - val_loss: 3.5790 - learning_rate: 5.0000e-05\n",
      "Epoch 13/50\n",
      "\u001b[1m50/50\u001b[0m \u001b[32m━━━━━━━━━━━━━━━━━━━━\u001b[0m\u001b[37m\u001b[0m \u001b[1m53s\u001b[0m 1s/step - custom_mse: 3932063.2500 - loss: 3.8796 - val_custom_mse: 5092665.5000 - val_loss: 4.0322 - learning_rate: 5.0000e-05\n",
      "Epoch 14/50\n",
      "\u001b[1m50/50\u001b[0m \u001b[32m━━━━━━━━━━━━━━━━━━━━\u001b[0m\u001b[37m\u001b[0m \u001b[1m53s\u001b[0m 1s/step - custom_mse: 3904444.7500 - loss: 3.8495 - val_custom_mse: 3599017.0000 - val_loss: 3.8975 - learning_rate: 5.0000e-05\n",
      "Epoch 15/50\n",
      "\u001b[1m50/50\u001b[0m \u001b[32m━━━━━━━━━━━━━━━━━━━━\u001b[0m\u001b[37m\u001b[0m \u001b[1m0s\u001b[0m 1s/step - custom_mse: 3913049.2500 - loss: 3.8261\n",
      "Epoch 15: ReduceLROnPlateau reducing learning rate to 2.499999936844688e-05.\n",
      "\u001b[1m50/50\u001b[0m \u001b[32m━━━━━━━━━━━━━━━━━━━━\u001b[0m\u001b[37m\u001b[0m \u001b[1m53s\u001b[0m 1s/step - custom_mse: 3933074.7500 - loss: 3.8228 - val_custom_mse: 5092122.0000 - val_loss: 4.0340 - learning_rate: 5.0000e-05\n",
      "Epoch 16/50\n",
      "\u001b[1m50/50\u001b[0m \u001b[32m━━━━━━━━━━━━━━━━━━━━\u001b[0m\u001b[37m\u001b[0m \u001b[1m53s\u001b[0m 1s/step - custom_mse: 3914503.7500 - loss: 3.8051 - val_custom_mse: 4222822.0000 - val_loss: 4.3946 - learning_rate: 2.5000e-05\n",
      "Epoch 17/50\n",
      "\u001b[1m50/50\u001b[0m \u001b[32m━━━━━━━━━━━━━━━━━━━━\u001b[0m\u001b[37m\u001b[0m \u001b[1m53s\u001b[0m 1s/step - custom_mse: 3919651.7500 - loss: 3.7893 - val_custom_mse: 4222790.0000 - val_loss: 4.3745 - learning_rate: 2.5000e-05\n",
      "Epoch 18/50\n",
      "\u001b[1m50/50\u001b[0m \u001b[32m━━━━━━━━━━━━━━━━━━━━\u001b[0m\u001b[37m\u001b[0m \u001b[1m0s\u001b[0m 1s/step - custom_mse: 3912267.0000 - loss: 3.7822\n",
      "Epoch 18: ReduceLROnPlateau reducing learning rate to 1.249999968422344e-05.\n",
      "\u001b[1m50/50\u001b[0m \u001b[32m━━━━━━━━━━━━━━━━━━━━\u001b[0m\u001b[37m\u001b[0m \u001b[1m53s\u001b[0m 1s/step - custom_mse: 3922475.7500 - loss: 3.7854 - val_custom_mse: 3836809.0000 - val_loss: 3.9811 - learning_rate: 2.5000e-05\n",
      "Epoch 19/50\n",
      "\u001b[1m50/50\u001b[0m \u001b[32m━━━━━━━━━━━━━━━━━━━━\u001b[0m\u001b[37m\u001b[0m \u001b[1m53s\u001b[0m 1s/step - custom_mse: 3903365.7500 - loss: 3.7764 - val_custom_mse: 5091920.5000 - val_loss: 4.0320 - learning_rate: 1.2500e-05\n",
      "Epoch 20/50\n",
      "\u001b[1m50/50\u001b[0m \u001b[32m━━━━━━━━━━━━━━━━━━━━\u001b[0m\u001b[37m\u001b[0m \u001b[1m53s\u001b[0m 1s/step - custom_mse: 3921274.5000 - loss: 3.7660 - val_custom_mse: 3597669.0000 - val_loss: 3.8926 - learning_rate: 1.2500e-05\n",
      "Epoch 21/50\n",
      "\u001b[1m50/50\u001b[0m \u001b[32m━━━━━━━━━━━━━━━━━━━━\u001b[0m\u001b[37m\u001b[0m \u001b[1m0s\u001b[0m 996ms/step - custom_mse: 3912203.7500 - loss: 3.7649\n",
      "Epoch 21: ReduceLROnPlateau reducing learning rate to 6.24999984211172e-06.\n",
      "\u001b[1m50/50\u001b[0m \u001b[32m━━━━━━━━━━━━━━━━━━━━\u001b[0m\u001b[37m\u001b[0m \u001b[1m53s\u001b[0m 1s/step - custom_mse: 3909462.5000 - loss: 3.7657 - val_custom_mse: 4474933.0000 - val_loss: 4.1682 - learning_rate: 1.2500e-05\n",
      "Epoch 22/50\n",
      "\u001b[1m50/50\u001b[0m \u001b[32m━━━━━━━━━━━━━━━━━━━━\u001b[0m\u001b[37m\u001b[0m \u001b[1m53s\u001b[0m 1s/step - custom_mse: 3902732.7500 - loss: 3.7522 - val_custom_mse: 3597672.5000 - val_loss: 3.9097 - learning_rate: 6.2500e-06\n",
      "Epoch 23/50\n",
      "\u001b[1m50/50\u001b[0m \u001b[32m━━━━━━━━━━━━━━━━━━━━\u001b[0m\u001b[37m\u001b[0m \u001b[1m53s\u001b[0m 1s/step - custom_mse: 3930948.7500 - loss: 3.7551 - val_custom_mse: 4413915.0000 - val_loss: 3.9286 - learning_rate: 6.2500e-06\n",
      "Epoch 24/50\n",
      "\u001b[1m50/50\u001b[0m \u001b[32m━━━━━━━━━━━━━━━━━━━━\u001b[0m\u001b[37m\u001b[0m \u001b[1m0s\u001b[0m 1000ms/step - custom_mse: 3912197.2500 - loss: 3.7554\n",
      "Epoch 24: ReduceLROnPlateau reducing learning rate to 3.12499992105586e-06.\n",
      "\u001b[1m50/50\u001b[0m \u001b[32m━━━━━━━━━━━━━━━━━━━━\u001b[0m\u001b[37m\u001b[0m \u001b[1m53s\u001b[0m 1s/step - custom_mse: 3918895.2500 - loss: 3.7560 - val_custom_mse: 3760966.0000 - val_loss: 3.5856 - learning_rate: 6.2500e-06\n",
      "Epoch 25/50\n",
      "\u001b[1m50/50\u001b[0m \u001b[32m━━━━━━━━━━━━━━━━━━━━\u001b[0m\u001b[37m\u001b[0m \u001b[1m54s\u001b[0m 1s/step - custom_mse: 3912909.2500 - loss: 3.7515 - val_custom_mse: 3760968.2500 - val_loss: 3.6165 - learning_rate: 3.1250e-06\n",
      "Epoch 26/50\n",
      "\u001b[1m50/50\u001b[0m \u001b[32m━━━━━━━━━━━━━━━━━━━━\u001b[0m\u001b[37m\u001b[0m \u001b[1m53s\u001b[0m 1s/step - custom_mse: 3915905.0000 - loss: 3.7496 - val_custom_mse: 4334676.0000 - val_loss: 3.7349 - learning_rate: 3.1250e-06\n",
      "Epoch 27/50\n",
      "\u001b[1m50/50\u001b[0m \u001b[32m━━━━━━━━━━━━━━━━━━━━\u001b[0m\u001b[37m\u001b[0m \u001b[1m0s\u001b[0m 999ms/step - custom_mse: 3912193.7500 - loss: 3.7517\n",
      "Epoch 27: ReduceLROnPlateau reducing learning rate to 1.56249996052793e-06.\n",
      "\u001b[1m50/50\u001b[0m \u001b[32m━━━━━━━━━━━━━━━━━━━━\u001b[0m\u001b[37m\u001b[0m \u001b[1m53s\u001b[0m 1s/step - custom_mse: 3913435.2500 - loss: 3.7538 - val_custom_mse: 3859220.5000 - val_loss: 4.0818 - learning_rate: 3.1250e-06\n",
      "Epoch 28/50\n",
      "\u001b[1m50/50\u001b[0m \u001b[32m━━━━━━━━━━━━━━━━━━━━\u001b[0m\u001b[37m\u001b[0m \u001b[1m53s\u001b[0m 1s/step - custom_mse: 3896689.0000 - loss: 3.7428 - val_custom_mse: 5091920.0000 - val_loss: 4.0574 - learning_rate: 1.5625e-06\n",
      "Epoch 29/50\n",
      "\u001b[1m50/50\u001b[0m \u001b[32m━━━━━━━━━━━━━━━━━━━━\u001b[0m\u001b[37m\u001b[0m \u001b[1m53s\u001b[0m 1s/step - custom_mse: 3904255.0000 - loss: 3.7581 - val_custom_mse: 4222709.5000 - val_loss: 4.3789 - learning_rate: 1.5625e-06\n",
      "Epoch 30/50\n",
      "\u001b[1m50/50\u001b[0m \u001b[32m━━━━━━━━━━━━━━━━━━━━\u001b[0m\u001b[37m\u001b[0m \u001b[1m0s\u001b[0m 999ms/step - custom_mse: 3912197.2500 - loss: 3.7476\n",
      "Epoch 30: ReduceLROnPlateau reducing learning rate to 1e-06.\n",
      "\u001b[1m50/50\u001b[0m \u001b[32m━━━━━━━━━━━━━━━━━━━━\u001b[0m\u001b[37m\u001b[0m \u001b[1m53s\u001b[0m 1s/step - custom_mse: 3903343.0000 - loss: 3.7486 - val_custom_mse: 4474932.5000 - val_loss: 4.1797 - learning_rate: 1.5625e-06\n",
      "Epoch 31/50\n",
      "\u001b[1m50/50\u001b[0m \u001b[32m━━━━━━━━━━━━━━━━━━━━\u001b[0m\u001b[37m\u001b[0m \u001b[1m53s\u001b[0m 1s/step - custom_mse: 3904959.0000 - loss: 3.7480 - val_custom_mse: 4474848.0000 - val_loss: 4.1836 - learning_rate: 1.0000e-06\n",
      "Epoch 32/50\n",
      "\u001b[1m50/50\u001b[0m \u001b[32m━━━━━━━━━━━━━━━━━━━━\u001b[0m\u001b[37m\u001b[0m \u001b[1m53s\u001b[0m 1s/step - custom_mse: 3913429.0000 - loss: 3.7485 - val_custom_mse: 4474933.0000 - val_loss: 4.1858 - learning_rate: 1.0000e-06\n",
      "Epoch 33/50\n",
      "\u001b[1m50/50\u001b[0m \u001b[32m━━━━━━━━━━━━━━━━━━━━\u001b[0m\u001b[37m\u001b[0m \u001b[1m53s\u001b[0m 1s/step - custom_mse: 3913346.5000 - loss: 3.7507 - val_custom_mse: 3760966.0000 - val_loss: 3.6032 - learning_rate: 1.0000e-06\n",
      "Epoch 34/50\n",
      "\u001b[1m50/50\u001b[0m \u001b[32m━━━━━━━━━━━━━━━━━━━━\u001b[0m\u001b[37m\u001b[0m \u001b[1m53s\u001b[0m 1s/step - custom_mse: 3914082.5000 - loss: 3.7465 - val_custom_mse: 5091908.0000 - val_loss: 4.0556 - learning_rate: 1.0000e-06\n",
      "Epoch 35/50\n",
      "\u001b[1m50/50\u001b[0m \u001b[32m━━━━━━━━━━━━━━━━━━━━\u001b[0m\u001b[37m\u001b[0m \u001b[1m53s\u001b[0m 1s/step - custom_mse: 3902673.0000 - loss: 3.7458 - val_custom_mse: 3597435.2500 - val_loss: 3.9051 - learning_rate: 1.0000e-06\n",
      "Epoch 36/50\n",
      "\u001b[1m50/50\u001b[0m \u001b[32m━━━━━━━━━━━━━━━━━━━━\u001b[0m\u001b[37m\u001b[0m \u001b[1m53s\u001b[0m 1s/step - custom_mse: 3907903.0000 - loss: 3.7455 - val_custom_mse: 4248697.5000 - val_loss: 4.2406 - learning_rate: 1.0000e-06\n",
      "Epoch 37/50\n",
      "\u001b[1m50/50\u001b[0m \u001b[32m━━━━━━━━━━━━━━━━━━━━\u001b[0m\u001b[37m\u001b[0m \u001b[1m53s\u001b[0m 1s/step - custom_mse: 3910113.2500 - loss: 3.7500 - val_custom_mse: 4334675.0000 - val_loss: 3.7339 - learning_rate: 1.0000e-06\n",
      "Epoch 38/50\n",
      "\u001b[1m50/50\u001b[0m \u001b[32m━━━━━━━━━━━━━━━━━━━━\u001b[0m\u001b[37m\u001b[0m \u001b[1m53s\u001b[0m 1s/step - custom_mse: 3919436.2500 - loss: 3.7418 - val_custom_mse: 4334574.5000 - val_loss: 3.7387 - learning_rate: 1.0000e-06\n",
      "Epoch 39/50\n",
      "\u001b[1m50/50\u001b[0m \u001b[32m━━━━━━━━━━━━━━━━━━━━\u001b[0m\u001b[37m\u001b[0m \u001b[1m53s\u001b[0m 1s/step - custom_mse: 3912904.5000 - loss: 3.7384 - val_custom_mse: 3760970.7500 - val_loss: 3.5882 - learning_rate: 1.0000e-06\n",
      "Epoch 40/50\n",
      "\u001b[1m50/50\u001b[0m \u001b[32m━━━━━━━━━━━━━━━━━━━━\u001b[0m\u001b[37m\u001b[0m \u001b[1m53s\u001b[0m 1s/step - custom_mse: 3908407.7500 - loss: 3.7484 - val_custom_mse: 4334675.0000 - val_loss: 3.7306 - learning_rate: 1.0000e-06\n",
      "Epoch 41/50\n",
      "\u001b[1m50/50\u001b[0m \u001b[32m━━━━━━━━━━━━━━━━━━━━\u001b[0m\u001b[37m\u001b[0m \u001b[1m53s\u001b[0m 1s/step - custom_mse: 3901784.7500 - loss: 3.7374 - val_custom_mse: 3859268.0000 - val_loss: 4.0881 - learning_rate: 1.0000e-06\n",
      "Epoch 42/50\n",
      "\u001b[1m50/50\u001b[0m \u001b[32m━━━━━━━━━━━━━━━━━━━━\u001b[0m\u001b[37m\u001b[0m \u001b[1m53s\u001b[0m 1s/step - custom_mse: 3907674.7500 - loss: 3.7428 - val_custom_mse: 3836812.0000 - val_loss: 4.0044 - learning_rate: 1.0000e-06\n",
      "Epoch 43/50\n",
      "\u001b[1m50/50\u001b[0m \u001b[32m━━━━━━━━━━━━━━━━━━━━\u001b[0m\u001b[37m\u001b[0m \u001b[1m53s\u001b[0m 1s/step - custom_mse: 3926375.7500 - loss: 3.7392 - val_custom_mse: 4474866.0000 - val_loss: 4.1586 - learning_rate: 1.0000e-06\n",
      "Epoch 44/50\n",
      "\u001b[1m50/50\u001b[0m \u001b[32m━━━━━━━━━━━━━━━━━━━━\u001b[0m\u001b[37m\u001b[0m \u001b[1m53s\u001b[0m 1s/step - custom_mse: 3926370.2500 - loss: 3.7386 - val_custom_mse: 4366233.5000 - val_loss: 4.1025 - learning_rate: 1.0000e-06\n",
      "Epoch 45/50\n",
      "\u001b[1m50/50\u001b[0m \u001b[32m━━━━━━━━━━━━━━━━━━━━\u001b[0m\u001b[37m\u001b[0m \u001b[1m53s\u001b[0m 1s/step - custom_mse: 3907656.0000 - loss: 3.7397 - val_custom_mse: 4366261.5000 - val_loss: 4.1142 - learning_rate: 1.0000e-06\n",
      "Epoch 46/50\n",
      "\u001b[1m50/50\u001b[0m \u001b[32m━━━━━━━━━━━━━━━━━━━━\u001b[0m\u001b[37m\u001b[0m \u001b[1m53s\u001b[0m 1s/step - custom_mse: 3912416.2500 - loss: 3.7453 - val_custom_mse: 5091852.5000 - val_loss: 4.0325 - learning_rate: 1.0000e-06\n",
      "Epoch 47/50\n",
      "\u001b[1m50/50\u001b[0m \u001b[32m━━━━━━━━━━━━━━━━━━━━\u001b[0m\u001b[37m\u001b[0m \u001b[1m53s\u001b[0m 1s/step - custom_mse: 3904239.2500 - loss: 3.7502 - val_custom_mse: 4413890.5000 - val_loss: 3.9100 - learning_rate: 1.0000e-06\n",
      "Epoch 48/50\n",
      "\u001b[1m50/50\u001b[0m \u001b[32m━━━━━━━━━━━━━━━━━━━━\u001b[0m\u001b[37m\u001b[0m \u001b[1m53s\u001b[0m 1s/step - custom_mse: 3896674.7500 - loss: 3.7353 - val_custom_mse: 4413888.5000 - val_loss: 3.9109 - learning_rate: 1.0000e-06\n",
      "Epoch 49/50\n",
      "\u001b[1m50/50\u001b[0m \u001b[32m━━━━━━━━━━━━━━━━━━━━\u001b[0m\u001b[37m\u001b[0m \u001b[1m53s\u001b[0m 1s/step - custom_mse: 3891001.2500 - loss: 3.7339 - val_custom_mse: 4248734.5000 - val_loss: 4.2396 - learning_rate: 1.0000e-06\n",
      "Epoch 50/50\n",
      "\u001b[1m50/50\u001b[0m \u001b[32m━━━━━━━━━━━━━━━━━━━━\u001b[0m\u001b[37m\u001b[0m \u001b[1m53s\u001b[0m 1s/step - custom_mse: 3913412.0000 - loss: 3.7421 - val_custom_mse: 3859285.0000 - val_loss: 4.0774 - learning_rate: 1.0000e-06\n"
     ]
    },
    {
     "data": {
      "image/png": "[encoded data removed]",
      "text/plain": [
       "<Figure size 640x480 with 1 Axes>"
      ]
     },
     "metadata": {},
     "output_type": "display_data"
    }
   ],
   "source": [
    "\n",
    "# Compilamos el modelo\n",
    "vae_model.compile(optimizer=optimizer)  # No es necesario definir loss directamente aquí\n",
    "\n",
    "history = vae_model.fit(\n",
    "    train_dataset,              # Datos de entrada para entrenamiento\n",
    "    batch_size=batch_size,\n",
    "    epochs=50,                  # Número de épocas de entrenamiento\n",
    "    validation_data=test_dataset,  # Datos de validación para evaluar el modelo\n",
    "    #callbacks=[lr_scheduler, early_stopping],\n",
    "    callbacks=[lr_scheduler],\n",
    "    verbose=1                   # Muestra el progreso durante el entrenamiento\n",
    ")\n",
    "\n",
    "# --- Visualización de la pérdida ---\n",
    "plt.plot(history.history[\"loss\"], label=\"Pérdida Total\")\n",
    "plt.title(\"Pérdida durante el entrenamiento\")\n",
    "plt.xlabel(\"Epochs\")\n",
    "plt.ylabel(\"Pérdida\")\n",
    "plt.legend()\n",
    "plt.show()\n"
   ]
  },
  {
   "cell_type": "code",
   "execution_count": null,
   "metadata": {
    "colab": {
     "base_uri": "https://localhost:8080/",
     "height": 472
    },
    "executionInfo": {
     "elapsed": 9,
     "status": "ok",
     "timestamp": 1738794618116,
     "user": {
      "displayName": "Martín Sánchez Torres",
      "userId": "09593946760207616318"
     },
     "user_tz": -60
    },
    "id": "pf4IlH12K8Pu",
    "outputId": "0bf90780-78e1-4ba1-a89f-4223c966e04c"
   },
   "outputs": [
    {
     "data": {
      "image/png": "[encoded data removed]",
      "text/plain": [
       "<Figure size 640x480 with 1 Axes>"
      ]
     },
     "metadata": {},
     "output_type": "display_data"
    }
   ],
   "source": [
    "plt.plot(history.history[\"loss\"], label=\"Pérdida en Entrenamiento\")\n",
    "plt.plot(history.history[\"val_loss\"], label=\"Pérdida en Validación\")\n",
    "plt.title(\"Pérdida durante el entrenamiento y validación\")\n",
    "plt.xlabel(\"Epochs\")\n",
    "plt.ylabel(\"Pérdida\")\n",
    "plt.legend()\n",
    "plt.show()"
   ]
  }
 ],
 "metadata": {
  "accelerator": "GPU",
  "colab": {
   "gpuType": "A100",
   "provenance": []
  },
  "kernelspec": {
   "display_name": "Python [conda env:base] *",
   "language": "python",
   "name": "conda-base-py"
  },
  "language_info": {
   "codemirror_mode": {
    "name": "ipython",
    "version": 3
   },
   "file_extension": ".py",
   "mimetype": "text/x-python",
   "name": "python",
   "nbconvert_exporter": "python",
   "pygments_lexer": "ipython3",
   "version": "3.12.9"
  }
 },
 "nbformat": 4,
 "nbformat_minor": 4
}
