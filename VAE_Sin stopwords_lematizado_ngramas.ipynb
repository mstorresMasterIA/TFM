{
 "cells": [
  {
   "cell_type": "code",
   "execution_count": 1,
   "metadata": {
    "colab": {
     "base_uri": "https://localhost:8080/"
    },
    "executionInfo": {
     "elapsed": 16350,
     "status": "ok",
     "timestamp": 1740209654155,
     "user": {
      "displayName": "Martín Sánchez Torres",
      "userId": "09593946760207616318"
     },
     "user_tz": -60
    },
    "id": "cBcUjPzv7iT7",
    "outputId": "1aa28fe1-15ab-4af4-8cbb-e7bf3bf225d5"
   },
   "outputs": [
    {
     "name": "stdout",
     "output_type": "stream",
     "text": [
      "Mounted at /content/drive\n"
     ]
    }
   ],
   "source": [
    "from google.colab import drive\n",
    "drive.mount('/content/drive')"
   ]
  },
  {
   "cell_type": "code",
   "execution_count": 1,
   "metadata": {
    "executionInfo": {
     "elapsed": 356,
     "status": "ok",
     "timestamp": 1740210378893,
     "user": {
      "displayName": "Martín Sánchez Torres",
      "userId": "09593946760207616318"
     },
     "user_tz": -60
    },
    "id": "2RvvzwRB62J6"
   },
   "outputs": [],
   "source": [
    "import pandas as pd\n",
    "\n",
    "import matplotlib.pyplot as plt"
   ]
  },
  {
   "cell_type": "code",
   "execution_count": 2,
   "metadata": {
    "colab": {
     "base_uri": "https://localhost:8080/",
     "height": 477
    },
    "executionInfo": {
     "elapsed": 3984,
     "status": "ok",
     "timestamp": 1740210383142,
     "user": {
      "displayName": "Martín Sánchez Torres",
      "userId": "09593946760207616318"
     },
     "user_tz": -60
    },
    "id": "Ydn_RxwR66xc",
    "outputId": "6780aa51-bb20-4c77-da56-342e5fc833a0"
   },
   "outputs": [
    {
     "name": "stdout",
     "output_type": "stream",
     "text": [
      "/content/drive/MyDrive/Colab Notebooks/Trabajo Fin de Estudios/Dataset/train_drcat_01.csv\n",
      "/content/drive/MyDrive/Colab Notebooks/Trabajo Fin de Estudios/Dataset/train_drcat_02.csv\n",
      "/content/drive/MyDrive/Colab Notebooks/Trabajo Fin de Estudios/Dataset/train_drcat_03.csv\n",
      "/content/drive/MyDrive/Colab Notebooks/Trabajo Fin de Estudios/Dataset/train_drcat_04.csv\n"
     ]
    },
    {
     "data": {
      "image/png": "[encoded data removed]",
      "text/plain": [
       "<Figure size 640x480 with 1 Axes>"
      ]
     },
     "metadata": {},
     "output_type": "display_data"
    }
   ],
   "source": [
    "# Define la ruta a la carpeta\n",
    "ruta_carpeta = '/content/drive/MyDrive/Colab Notebooks/Trabajo Fin de Estudios/Dataset/'\n",
    "\n",
    "# Define los nombres de los archivos\n",
    "nombres_archivos = ['train_drcat_01.csv', 'train_drcat_02.csv', 'train_drcat_03.csv', 'train_drcat_04.csv']\n",
    "# Crea una lista vacía para almacenar los DataFrames\n",
    "dfs = []\n",
    "\n",
    "# Itera sobre los nombres de los archivos y lee cada uno en un DataFrame\n",
    "for nombre_archivo in nombres_archivos:\n",
    "    ruta_archivo = ruta_carpeta + nombre_archivo\n",
    "    print(ruta_archivo)\n",
    "    df = pd.read_csv(ruta_archivo, sep=\",\", encoding='utf-8')  # Ajusta el separador y la codificación si es necesario\n",
    "    dfs.append(df)\n",
    "\n",
    "# Concatena todos los DataFrames en uno solo\n",
    "df_final = pd.concat(dfs, ignore_index=True)\n",
    "\n",
    "\n",
    "# Mostramos las 5 primeras filas\n",
    "df_final.head()\n",
    "\n",
    "plt.pie(df_final['label'].value_counts().values,\n",
    "        labels = df_final['label'].value_counts().index,\n",
    "        autopct='%1.1f%%')\n",
    "plt.show()"
   ]
  },
  {
   "cell_type": "code",
   "execution_count": 3,
   "metadata": {
    "colab": {
     "base_uri": "https://localhost:8080/",
     "height": 406
    },
    "executionInfo": {
     "elapsed": 85,
     "status": "ok",
     "timestamp": 1740210396952,
     "user": {
      "displayName": "Martín Sánchez Torres",
      "userId": "09593946760207616318"
     },
     "user_tz": -60
    },
    "id": "jn1iZZMX69uX",
    "outputId": "ddd5eec1-9e5b-4f6a-a371-04701c6e04cd"
   },
   "outputs": [
    {
     "data": {
      "image/png": "[encoded data removed]",
      "text/plain": [
       "<Figure size 640x480 with 1 Axes>"
      ]
     },
     "metadata": {},
     "output_type": "display_data"
    }
   ],
   "source": [
    "df_label_0 = df_final[df_final['label'] == 0].sample(n=1000, random_state=42)  # random_state para reproducibilidad\n",
    "\n",
    "# Seleccionar 1000 textos con label 1\n",
    "df_label_1 = df_final[df_final['label'] == 1].sample(n=1000, random_state=42)\n",
    "\n",
    "# Concatenar los dos DataFrames\n",
    "df_seleccionado = pd.concat([df_label_0, df_label_1])\n",
    "\n",
    "# Reiniciar el índice\n",
    "df_seleccionado = df_seleccionado.reset_index(drop=True)\n",
    "\n",
    "plt.pie(df_seleccionado['label'].value_counts().values,\n",
    "        labels = df_seleccionado['label'].value_counts().index,\n",
    "        autopct='%1.1f%%')\n",
    "plt.show()"
   ]
  },
  {
   "cell_type": "code",
   "execution_count": 4,
   "metadata": {
    "executionInfo": {
     "elapsed": 3216,
     "status": "ok",
     "timestamp": 1740210401948,
     "user": {
      "displayName": "Martín Sánchez Torres",
      "userId": "09593946760207616318"
     },
     "user_tz": -60
    },
    "id": "Agmxm-L_GuqZ"
   },
   "outputs": [],
   "source": [
    "import tensorflow as tf\n",
    "from tensorflow.keras import Model, layers, Input\n",
    "import pandas as pd\n",
    "import numpy as np\n",
    "import matplotlib.pyplot as plt\n",
    "\n",
    "# --- Configuración Inicial ---\n",
    "vocab_size = 25000  # Tamaño del vocabulario\n",
    "embedding_dim = 300  # Dimensión del embedding\n",
    "sequence_length = 400  # Longitud máxima de secuencias\n",
    "latent_dim = 128  # Dimensión del espacio latente\n",
    "batch_size = 64\n",
    "epochs = 20\n",
    "\n",
    "\n",
    "# --- Carga y Preprocesamiento de Datos ---\n",
    "df=df_seleccionado"
   ]
  },
  {
   "cell_type": "code",
   "execution_count": 5,
   "metadata": {
    "executionInfo": {
     "elapsed": 3,
     "status": "ok",
     "timestamp": 1740210401953,
     "user": {
      "displayName": "Martín Sánchez Torres",
      "userId": "09593946760207616318"
     },
     "user_tz": -60
    },
    "id": "kOIjQSbrHmJM"
   },
   "outputs": [],
   "source": [
    "from tensorflow.keras.preprocessing.text import Tokenizer\n",
    "from tensorflow.keras.preprocessing.sequence import pad_sequences\n",
    "import numpy as np"
   ]
  },
  {
   "cell_type": "code",
   "execution_count": 6,
   "metadata": {
    "colab": {
     "base_uri": "https://localhost:8080/"
    },
    "executionInfo": {
     "elapsed": 356,
     "status": "ok",
     "timestamp": 1740210402322,
     "user": {
      "displayName": "Martín Sánchez Torres",
      "userId": "09593946760207616318"
     },
     "user_tz": -60
    },
    "id": "nwbJwFpgN-_q",
    "outputId": "7bfe764e-58d8-4a02-d688-3c030e6f4b9b"
   },
   "outputs": [
    {
     "name": "stderr",
     "output_type": "stream",
     "text": [
      "[nltk_data] Downloading package stopwords to /root/nltk_data...\n",
      "[nltk_data]   Package stopwords is already up-to-date!\n",
      "[nltk_data] Downloading package wordnet to /root/nltk_data...\n",
      "[nltk_data]   Package wordnet is already up-to-date!\n"
     ]
    }
   ],
   "source": [
    "import string\n",
    "import nltk\n",
    "from nltk.corpus import stopwords\n",
    "from nltk.stem import WordNetLemmatizer\n",
    "\n",
    "nltk.download('stopwords')\n",
    "stop_words = set(stopwords.words('english'))\n",
    "nltk.download('wordnet')\n",
    "lemmatizer = WordNetLemmatizer()\n",
    "\n",
    "def preprocess_text(text):\n",
    "    text = text.lower()\n",
    "    text = ''.join([char for char in text if char not in string.punctuation])\n",
    "    text = ' '.join([word for word in text.split() if word not in stop_words])\n",
    "\n",
    "    # Lematizar palabras especificando el POS\n",
    "    text = ' '.join([lemmatizer.lemmatize(word, pos='v') for word in text.split()])  # Lematizar como verbos\n",
    "    return text\n",
    "\n"
   ]
  },
  {
   "cell_type": "code",
   "execution_count": 7,
   "metadata": {
    "executionInfo": {
     "elapsed": 4726,
     "status": "ok",
     "timestamp": 1740210408822,
     "user": {
      "displayName": "Martín Sánchez Torres",
      "userId": "09593946760207616318"
     },
     "user_tz": -60
    },
    "id": "WGwNJWPwOeNg"
   },
   "outputs": [],
   "source": [
    "# Eliminar registros nulos o vacíos en la columna de texto\n",
    "df = df.dropna(subset=[\"text\"])\n",
    "df = df[df[\"text\"].str.strip() != \"\"]\n",
    "df['text_clean'] = df['text'].apply(preprocess_text)"
   ]
  },
  {
   "cell_type": "code",
   "execution_count": 8,
   "metadata": {
    "executionInfo": {
     "elapsed": 155,
     "status": "ok",
     "timestamp": 1740210408990,
     "user": {
      "displayName": "Martín Sánchez Torres",
      "userId": "09593946760207616318"
     },
     "user_tz": -60
    },
    "id": "gdTzoSvxdUZR"
   },
   "outputs": [],
   "source": [
    "import tensorflow as tf\n",
    "from sklearn.model_selection import train_test_split\n",
    "\n",
    "vectorizador = tf.keras.layers.TextVectorization(\n",
    "    max_tokens=vocab_size,\n",
    "    output_mode='int',  # Para generar secuencias de índices\n",
    "    output_sequence_length=sequence_length,\n",
    "    ngrams=(1, 2)  #Adaptación del código para ngramas\n",
    ")"
   ]
  },
  {
   "cell_type": "code",
   "execution_count": 9,
   "metadata": {
    "colab": {
     "base_uri": "https://localhost:8080/"
    },
    "executionInfo": {
     "elapsed": 4,
     "status": "ok",
     "timestamp": 1740210413535,
     "user": {
      "displayName": "Martín Sánchez Torres",
      "userId": "09593946760207616318"
     },
     "user_tz": -60
    },
    "id": "SRnuGuvJo0Cw",
    "outputId": "3acb75cf-3172-4649-fa3a-f7ea003cbb91"
   },
   "outputs": [
    {
     "name": "stdout",
     "output_type": "stream",
     "text": [
      "968    technology increase throughout years opportuni...\n",
      "240    dear state senator firmly belive electoral col...\n",
      "819    curosity lead us many things despite dangers e...\n",
      "692    phone drive cell phone become popular past yea...\n",
      "420    school offer distance lerning students get wor...\n",
      "Name: text_clean, dtype: object\n"
     ]
    }
   ],
   "source": [
    "from sklearn.model_selection import train_test_split\n",
    "X_train, X_test = train_test_split(df['text_clean'], test_size=0.2, random_state=42)\n",
    "\n",
    "print(X_train[:5])"
   ]
  },
  {
   "cell_type": "code",
   "execution_count": 10,
   "metadata": {
    "colab": {
     "base_uri": "https://localhost:8080/"
    },
    "executionInfo": {
     "elapsed": 5,
     "status": "ok",
     "timestamp": 1740210414436,
     "user": {
      "displayName": "Martín Sánchez Torres",
      "userId": "09593946760207616318"
     },
     "user_tz": -60
    },
    "id": "D_Px_ixmo6j-",
    "outputId": "5d445f29-b488-483c-9b2d-a33c798f751d"
   },
   "outputs": [
    {
     "name": "stdout",
     "output_type": "stream",
     "text": [
      "<class 'str'>\n"
     ]
    }
   ],
   "source": [
    "print(type(X_train[0]))  # Debería ser <class 'str'>"
   ]
  },
  {
   "cell_type": "code",
   "execution_count": 11,
   "metadata": {
    "executionInfo": {
     "elapsed": 30545,
     "status": "ok",
     "timestamp": 1740210445631,
     "user": {
      "displayName": "Martín Sánchez Torres",
      "userId": "09593946760207616318"
     },
     "user_tz": -60
    },
    "id": "RIFcHobQovFm"
   },
   "outputs": [],
   "source": [
    "\n",
    "vectorizador.adapt(df['text_clean'])\n",
    "# Vectorize before batching\n",
    "X_train_vec = [vectorizador(x) for x in X_train]  # Vectorize each text\n",
    "X_test_vec = [vectorizador(x) for x in X_test]    # Vectorize each text\n",
    "\n",
    "# Crear los datasets de entrada\n",
    "train_dataset = tf.data.Dataset.from_tensor_slices(X_train_vec)  # Solo entradas, sin etiquetas\n",
    "train_dataset = train_dataset.batch(batch_size).shuffle(len(X_train)).prefetch(tf.data.AUTOTUNE)\n",
    "\n",
    "test_dataset = tf.data.Dataset.from_tensor_slices(X_test_vec)  # Solo entradas, sin etiquetas\n",
    "test_dataset = test_dataset.batch(batch_size).shuffle(len(X_test)).prefetch(tf.data.AUTOTUNE)"
   ]
  },
  {
   "cell_type": "code",
   "execution_count": 12,
   "metadata": {
    "colab": {
     "base_uri": "https://localhost:8080/"
    },
    "executionInfo": {
     "elapsed": 5,
     "status": "ok",
     "timestamp": 1740210445637,
     "user": {
      "displayName": "Martín Sánchez Torres",
      "userId": "09593946760207616318"
     },
     "user_tz": -60
    },
    "id": "l8jMPErVozSh",
    "outputId": "dbc1115e-7b2c-4745-8130-3fbc161de341"
   },
   "outputs": [
    {
     "name": "stdout",
     "output_type": "stream",
     "text": [
      "tf.Tensor(\n",
      "[[  161  2826   103 ...     1  1034   149]\n",
      " [  513   201   227 ...     0     0     0]\n",
      " [    3     1  1216 ...   145   266  4107]\n",
      " ...\n",
      " [ 1790    90   178 ...     0     0     0]\n",
      " [ 1005   684  1005 ...     1 12521 16863]\n",
      " [   23    20   109 ...     1     1     1]], shape=(64, 400), dtype=int64)\n"
     ]
    }
   ],
   "source": [
    "for batch in train_dataset.take(1):\n",
    "    print(batch)  # Verifica que sea un tensor con los índices de las palabras"
   ]
  },
  {
   "cell_type": "code",
   "execution_count": 13,
   "metadata": {
    "colab": {
     "base_uri": "https://localhost:8080/"
    },
    "executionInfo": {
     "elapsed": 4,
     "status": "ok",
     "timestamp": 1740210445647,
     "user": {
      "displayName": "Martín Sánchez Torres",
      "userId": "09593946760207616318"
     },
     "user_tz": -60
    },
    "id": "6bQYgnDmwexF",
    "outputId": "eda408b3-e186-4885-d105-f1c25ef3888b"
   },
   "outputs": [
    {
     "name": "stdout",
     "output_type": "stream",
     "text": [
      "tf.Tensor(\n",
      "[[  430     2    49 ...  2443  7618  4222]\n",
      " [  438   557    66 ...     0     0     0]\n",
      " [   18   167     2 ...     0     0     0]\n",
      " ...\n",
      " [  229  1660   710 ...     0     0     0]\n",
      " [  435   442   418 ... 11000     1     1]\n",
      " [ 1428  2016  2648 ...     0     0     0]], shape=(64, 400), dtype=int64)\n"
     ]
    }
   ],
   "source": [
    "for batch in test_dataset.take(1):\n",
    "    print(batch)  # Verifica que sea un tensor con los índices de las palabras"
   ]
  },
  {
   "cell_type": "code",
   "execution_count": 14,
   "metadata": {
    "colab": {
     "base_uri": "https://localhost:8080/"
    },
    "executionInfo": {
     "elapsed": 7,
     "status": "ok",
     "timestamp": 1740210445655,
     "user": {
      "displayName": "Martín Sánchez Torres",
      "userId": "09593946760207616318"
     },
     "user_tz": -60
    },
    "id": "19JvQd44pNd_",
    "outputId": "a35a2cf8-bd9f-43c7-a758-5d5f2b5c91ca"
   },
   "outputs": [
    {
     "name": "stdout",
     "output_type": "stream",
     "text": [
      "25000\n"
     ]
    }
   ],
   "source": [
    "print(vectorizador.vocabulary_size())  # Asegúrate de que el vocabulario fue correctamente adaptado"
   ]
  },
  {
   "cell_type": "code",
   "execution_count": 15,
   "metadata": {
    "executionInfo": {
     "elapsed": 1044,
     "status": "ok",
     "timestamp": 1740210446712,
     "user": {
      "displayName": "Martín Sánchez Torres",
      "userId": "09593946760207616318"
     },
     "user_tz": -60
    },
    "id": "eGt39hx2xg7f"
   },
   "outputs": [],
   "source": [
    "\n",
    "from tensorflow.keras.saving import register_keras_serializable\n",
    "import tensorflow as tf\n",
    "from tensorflow.keras import Model, layers, Input\n",
    "from tensorflow.keras import regularizers\n",
    "from tensorflow.keras.optimizers import Adam\n",
    "from tensorflow.keras.callbacks import ReduceLROnPlateau, EarlyStopping\n",
    "\n",
    "# --- Ajustes del optimizador ---\n",
    "initial_lr = 1e-4  # Tasa de aprendizaje reducida\n",
    "optimizer = Adam(learning_rate=initial_lr)\n",
    "\n",
    "# --- Callbacks para mejorar convergencia ---\n",
    "lr_scheduler = ReduceLROnPlateau(\n",
    "    monitor=\"val_loss\", factor=0.5, patience=3, min_lr=1e-6, verbose=1\n",
    ")\n",
    "early_stopping = EarlyStopping(\n",
    "    monitor=\"val_loss\", patience=10, restore_best_weights=True, verbose=1\n",
    ")\n",
    "\n",
    "# --- Definición del Encoder ---\n",
    "encoder_inputs = Input(shape=(sequence_length,), name=\"encoder_input\")\n",
    "x = vectorizador(encoder_inputs)\n",
    "x = tf.keras.layers.Embedding(vocab_size, embedding_dim, mask_zero=True, name=\"embedding_layer\")(encoder_inputs)  # Embedding\n",
    "x = layers.LSTM(sequence_length, return_sequences=False, use_cudnn=True, kernel_regularizer=regularizers.l2(0.01), name=\"encoder_lstm\")(x)  # Reducimos unidades en LSTM y agregamos regularización L2\n",
    "x = layers.Dense(256, activation=\"relu\", kernel_regularizer=regularizers.l2(0.01), name=\"encoder_dense_1\")(x)  # Regularización L2\n",
    "x = layers.Dropout(0.4)(x)  # Dropout para prevenir overfitting\n",
    "x = layers.Dense(128, activation=\"relu\", kernel_regularizer=regularizers.l2(0.01), name=\"encoder_dense_2\")(x)  # Regularización L2\n",
    "\n",
    "# Parametrización de la distribución latente\n",
    "z_mean = layers.Dense(latent_dim, name=\"z_mean\")(x)\n",
    "z_log_var = layers.Dense(latent_dim, name=\"z_log_var\")(x)\n",
    "\n",
    "# Reparametrización\n",
    "def sampling(args):\n",
    "    z_mean, z_log_var = args\n",
    "    epsilon = tf.keras.backend.random_normal(shape=(tf.shape(z_mean)[0], latent_dim))\n",
    "    return z_mean + tf.exp(0.5 * z_log_var) * epsilon\n",
    "\n",
    "z = layers.Lambda(sampling, name=\"z_sampling\")([z_mean, z_log_var])\n",
    "\n",
    "encoder = Model(encoder_inputs, [z_mean, z_log_var, z], name=\"encoder\")\n",
    "\n",
    "# --- Definición del Decoder ---\n",
    "decoder_inputs = Input(shape=(latent_dim,), name=\"z_sampling_input\")\n",
    "x = layers.Dense(128, activation=\"relu\", kernel_regularizer=regularizers.l2(0.01), name=\"decoder_dense\")(decoder_inputs)  # Regularización L2\n",
    "x = layers.Dense(256, activation=\"relu\", kernel_regularizer=regularizers.l2(0.01), name=\"decoder_dense_1\")(x)  # Regularización L2\n",
    "x = layers.RepeatVector(sequence_length)(x)\n",
    "decoder_outputs = layers.LSTM(sequence_length, return_sequences=True, use_cudnn=True, kernel_regularizer=regularizers.l2(0.01))(x)  # Regularización L2\n",
    "decoder_outputs = layers.TimeDistributed(layers.Dense(vocab_size, activation=\"softmax\"))(decoder_outputs)\n",
    "decoder = Model(decoder_inputs, decoder_outputs, name=\"decoder\")\n",
    "\n",
    "\n",
    "# --- Definición del Autoencoder ---\n",
    "vae_outputs = decoder(encoder(encoder_inputs)[2])\n",
    "\n",
    "def vae_loss(inputs, outputs, z_mean, z_log_var):\n",
    "    # Reconstrucción: sparse crossentropy acepta inputs enteros directamente\n",
    "    reconstruction_loss = tf.reduce_mean(\n",
    "        tf.keras.losses.sparse_categorical_crossentropy(inputs, outputs)\n",
    "    )\n",
    "\n",
    "    # KL Divergence ajustada para evitar sumas grandes\n",
    "    kl_loss = -0.5 * tf.reduce_mean(\n",
    "        1 + z_log_var - tf.square(z_mean) - tf.exp(z_log_var)\n",
    "    )\n",
    "    beta = 0.4  # Hiperparámetro de ajuste\n",
    "    return reconstruction_loss + beta * kl_loss\n",
    "\n",
    "def custom_mse(y_true, y_pred):\n",
    "    y_pred = tf.argmax(y_pred, axis=-1)  # Obtener los tokens con mayor probabilidad\n",
    "\n",
    "    # Convertir a enteros\n",
    "    y_pred = tf.cast(y_pred, tf.int32)  # Convertir y_pred a tf.int32\n",
    "\n",
    "    # Calcular MSE solo en la dimensión de la secuencia\n",
    "    mse = tf.keras.losses.MeanSquaredError()(y_true, y_pred)\n",
    "\n",
    "    return mse\n",
    "\n",
    "from tensorflow.keras.metrics import MeanSquaredError\n",
    "@register_keras_serializable()\n",
    "class VAEModel(Model):\n",
    "    def __init__(self, encoder, decoder, **kwargs):\n",
    "        super(VAEModel, self).__init__(**kwargs)\n",
    "        self.encoder = encoder\n",
    "        self.decoder = decoder\n",
    "\n",
    "    def call(self, inputs):\n",
    "        z_mean, z_log_var, z = self.encoder(inputs)\n",
    "        return self.decoder(z), z_mean, z_log_var\n",
    "        #return self.decoder(z)\n",
    "\n",
    "    def get_config(self):\n",
    "        config = super().get_config()\n",
    "        config.update({\n",
    "            \"encoder\": self.encoder,\n",
    "            \"decoder\": self.decoder\n",
    "        })\n",
    "        return config\n",
    "\n",
    "    @classmethod\n",
    "    def from_config(cls, config):\n",
    "        encoder = config.pop(\"encoder\")\n",
    "        decoder = config.pop(\"decoder\")\n",
    "        return cls(encoder, decoder, **config)\n",
    "\n",
    "    def train_step(self, data):\n",
    "        self.reset_metrics()  # Reinicia las métricas antes de cada paso\n",
    "        with tf.GradientTape() as tape:\n",
    "            inputs = data\n",
    "            outputs, z_mean, z_log_var = self(inputs, training=True)\n",
    "            loss = vae_loss(inputs, outputs, z_mean, z_log_var)\n",
    "\n",
    "        # Computar gradientes\n",
    "        grads = tape.gradient(loss, self.trainable_variables)\n",
    "\n",
    "        # Actualizar los pesos\n",
    "        self.optimizer.apply_gradients(zip(grads, self.trainable_variables))\n",
    "        mse=custom_mse(inputs, outputs)\n",
    "\n",
    "        return {\"loss\": loss, \"custom_mse\": mse}  # Cambiar el nombre de la métrica en el diccionario de salida\n",
    "\n",
    "    def test_step(self, data):\n",
    "        self.reset_metrics()  # Reinicia las métricas antes del paso de prueba\n",
    "        inputs = data\n",
    "        outputs, z_mean, z_log_var = self(inputs, training=False)\n",
    "        loss = vae_loss(inputs, outputs, z_mean, z_log_var)\n",
    "        mse=custom_mse(inputs, outputs)\n",
    "        return {\"loss\": loss, \"custom_mse\": mse}  # Cambiar el nombre de la métrica en el diccionario de salida\n",
    "\n",
    "from tensorflow.keras.callbacks import LearningRateScheduler\n",
    "\n",
    "def print_lr(epoch, lr):\n",
    "    print(f\"Epoch: {epoch + 1}, Learning Rate: {lr}\")\n",
    "\n",
    "lr_callback = LearningRateScheduler(lambda epoch, lr: lr, verbose=1)\n",
    "# Crear el modelo VAE\n",
    "vae_model = VAEModel(encoder, decoder)\n",
    "\n"
   ]
  },
  {
   "cell_type": "code",
   "execution_count": 16,
   "metadata": {
    "colab": {
     "base_uri": "https://localhost:8080/",
     "height": 1000
    },
    "executionInfo": {
     "elapsed": 424274,
     "status": "ok",
     "timestamp": 1740210870987,
     "user": {
      "displayName": "Martín Sánchez Torres",
      "userId": "09593946760207616318"
     },
     "user_tz": -60
    },
    "id": "hc42kw2_V1Xv",
    "outputId": "b34fadc1-1a9f-4e29-885f-05023fa8e8a6"
   },
   "outputs": [
    {
     "name": "stdout",
     "output_type": "stream",
     "text": [
      "Epoch 1/50\n",
      "\u001b[1m25/25\u001b[0m \u001b[32m━━━━━━━━━━━━━━━━━━━━\u001b[0m\u001b[37m\u001b[0m \u001b[1m40s\u001b[0m 550ms/step - custom_mse: 39441064.0000 - loss: 9.8138 - val_custom_mse: 21357582.0000 - val_loss: 9.2577 - learning_rate: 1.0000e-04\n",
      "Epoch 2/50\n",
      "\u001b[1m25/25\u001b[0m \u001b[32m━━━━━━━━━━━━━━━━━━━━\u001b[0m\u001b[37m\u001b[0m \u001b[1m8s\u001b[0m 313ms/step - custom_mse: 22472022.0000 - loss: 8.5173 - val_custom_mse: 21735478.0000 - val_loss: 7.7750 - learning_rate: 1.0000e-04\n",
      "Epoch 3/50\n",
      "\u001b[1m25/25\u001b[0m \u001b[32m━━━━━━━━━━━━━━━━━━━━\u001b[0m\u001b[37m\u001b[0m \u001b[1m8s\u001b[0m 316ms/step - custom_mse: 22450542.0000 - loss: 7.2282 - val_custom_mse: 21809968.0000 - val_loss: 6.6814 - learning_rate: 1.0000e-04\n",
      "Epoch 4/50\n",
      "\u001b[1m25/25\u001b[0m \u001b[32m━━━━━━━━━━━━━━━━━━━━\u001b[0m\u001b[37m\u001b[0m \u001b[1m8s\u001b[0m 314ms/step - custom_mse: 22406786.0000 - loss: 6.5161 - val_custom_mse: 21809968.0000 - val_loss: 6.1090 - learning_rate: 1.0000e-04\n",
      "Epoch 5/50\n",
      "\u001b[1m25/25\u001b[0m \u001b[32m━━━━━━━━━━━━━━━━━━━━\u001b[0m\u001b[37m\u001b[0m \u001b[1m8s\u001b[0m 317ms/step - custom_mse: 22569862.0000 - loss: 6.1964 - val_custom_mse: 21701446.0000 - val_loss: 5.9798 - learning_rate: 1.0000e-04\n",
      "Epoch 6/50\n",
      "\u001b[1m25/25\u001b[0m \u001b[32m━━━━━━━━━━━━━━━━━━━━\u001b[0m\u001b[37m\u001b[0m \u001b[1m8s\u001b[0m 315ms/step - custom_mse: 22450482.0000 - loss: 6.1242 - val_custom_mse: 21357584.0000 - val_loss: 5.9499 - learning_rate: 1.0000e-04\n",
      "Epoch 7/50\n",
      "\u001b[1m25/25\u001b[0m \u001b[32m━━━━━━━━━━━━━━━━━━━━\u001b[0m\u001b[37m\u001b[0m \u001b[1m8s\u001b[0m 312ms/step - custom_mse: 22428426.0000 - loss: 6.1003 - val_custom_mse: 19795386.0000 - val_loss: 5.9335 - learning_rate: 1.0000e-04\n",
      "Epoch 8/50\n",
      "\u001b[1m25/25\u001b[0m \u001b[32m━━━━━━━━━━━━━━━━━━━━\u001b[0m\u001b[37m\u001b[0m \u001b[1m8s\u001b[0m 314ms/step - custom_mse: 22396756.0000 - loss: 6.0880 - val_custom_mse: 19795388.0000 - val_loss: 5.9336 - learning_rate: 1.0000e-04\n",
      "Epoch 9/50\n",
      "\u001b[1m25/25\u001b[0m \u001b[32m━━━━━━━━━━━━━━━━━━━━\u001b[0m\u001b[37m\u001b[0m \u001b[1m8s\u001b[0m 318ms/step - custom_mse: 22396756.0000 - loss: 6.0862 - val_custom_mse: 21352100.0000 - val_loss: 6.1418 - learning_rate: 1.0000e-04\n",
      "Epoch 10/50\n",
      "\u001b[1m25/25\u001b[0m \u001b[32m━━━━━━━━━━━━━━━━━━━━\u001b[0m\u001b[37m\u001b[0m \u001b[1m0s\u001b[0m 283ms/step - custom_mse: 22454174.0000 - loss: 6.0975\n",
      "Epoch 10: ReduceLROnPlateau reducing learning rate to 4.999999873689376e-05.\n",
      "\u001b[1m25/25\u001b[0m \u001b[32m━━━━━━━━━━━━━━━━━━━━\u001b[0m\u001b[37m\u001b[0m \u001b[1m8s\u001b[0m 311ms/step - custom_mse: 22495538.0000 - loss: 6.1016 - val_custom_mse: 21735480.0000 - val_loss: 6.1520 - learning_rate: 1.0000e-04\n",
      "Epoch 11/50\n",
      "\u001b[1m25/25\u001b[0m \u001b[32m━━━━━━━━━━━━━━━━━━━━\u001b[0m\u001b[37m\u001b[0m \u001b[1m8s\u001b[0m 318ms/step - custom_mse: 22450542.0000 - loss: 6.0900 - val_custom_mse: 21809970.0000 - val_loss: 5.8727 - learning_rate: 5.0000e-05\n",
      "Epoch 12/50\n",
      "\u001b[1m25/25\u001b[0m \u001b[32m━━━━━━━━━━━━━━━━━━━━\u001b[0m\u001b[37m\u001b[0m \u001b[1m8s\u001b[0m 315ms/step - custom_mse: 22426232.0000 - loss: 6.0872 - val_custom_mse: 20944392.0000 - val_loss: 5.8954 - learning_rate: 5.0000e-05\n",
      "Epoch 13/50\n",
      "\u001b[1m25/25\u001b[0m \u001b[32m━━━━━━━━━━━━━━━━━━━━\u001b[0m\u001b[37m\u001b[0m \u001b[1m8s\u001b[0m 314ms/step - custom_mse: 22450484.0000 - loss: 6.0955 - val_custom_mse: 19795386.0000 - val_loss: 5.9279 - learning_rate: 5.0000e-05\n",
      "Epoch 14/50\n",
      "\u001b[1m25/25\u001b[0m \u001b[32m━━━━━━━━━━━━━━━━━━━━\u001b[0m\u001b[37m\u001b[0m \u001b[1m0s\u001b[0m 284ms/step - custom_mse: 22454172.0000 - loss: 6.0840\n",
      "Epoch 14: ReduceLROnPlateau reducing learning rate to 2.499999936844688e-05.\n",
      "\u001b[1m25/25\u001b[0m \u001b[32m━━━━━━━━━━━━━━━━━━━━\u001b[0m\u001b[37m\u001b[0m \u001b[1m8s\u001b[0m 313ms/step - custom_mse: 22456796.0000 - loss: 6.0832 - val_custom_mse: 21352100.0000 - val_loss: 6.1356 - learning_rate: 5.0000e-05\n",
      "Epoch 15/50\n",
      "\u001b[1m25/25\u001b[0m \u001b[32m━━━━━━━━━━━━━━━━━━━━\u001b[0m\u001b[37m\u001b[0m \u001b[1m8s\u001b[0m 314ms/step - custom_mse: 22414948.0000 - loss: 6.0814 - val_custom_mse: 21735480.0000 - val_loss: 6.1473 - learning_rate: 2.5000e-05\n",
      "Epoch 16/50\n",
      "\u001b[1m25/25\u001b[0m \u001b[32m━━━━━━━━━━━━━━━━━━━━\u001b[0m\u001b[37m\u001b[0m \u001b[1m8s\u001b[0m 316ms/step - custom_mse: 22495536.0000 - loss: 6.0827 - val_custom_mse: 21735480.0000 - val_loss: 6.1463 - learning_rate: 2.5000e-05\n",
      "Epoch 17/50\n",
      "\u001b[1m25/25\u001b[0m \u001b[32m━━━━━━━━━━━━━━━━━━━━\u001b[0m\u001b[37m\u001b[0m \u001b[1m0s\u001b[0m 285ms/step - custom_mse: 22454172.0000 - loss: 6.0769\n",
      "Epoch 17: ReduceLROnPlateau reducing learning rate to 1.249999968422344e-05.\n",
      "\u001b[1m25/25\u001b[0m \u001b[32m━━━━━━━━━━━━━━━━━━━━\u001b[0m\u001b[37m\u001b[0m \u001b[1m8s\u001b[0m 314ms/step - custom_mse: 22450544.0000 - loss: 6.0753 - val_custom_mse: 19795386.0000 - val_loss: 5.9234 - learning_rate: 2.5000e-05\n",
      "Epoch 18/50\n",
      "\u001b[1m25/25\u001b[0m \u001b[32m━━━━━━━━━━━━━━━━━━━━\u001b[0m\u001b[37m\u001b[0m \u001b[1m8s\u001b[0m 313ms/step - custom_mse: 22478796.0000 - loss: 6.0788 - val_custom_mse: 21809968.0000 - val_loss: 5.8642 - learning_rate: 1.2500e-05\n",
      "Epoch 19/50\n",
      "\u001b[1m25/25\u001b[0m \u001b[32m━━━━━━━━━━━━━━━━━━━━\u001b[0m\u001b[37m\u001b[0m \u001b[1m8s\u001b[0m 313ms/step - custom_mse: 22456796.0000 - loss: 6.0730 - val_custom_mse: 21735480.0000 - val_loss: 6.1432 - learning_rate: 1.2500e-05\n",
      "Epoch 20/50\n",
      "\u001b[1m25/25\u001b[0m \u001b[32m━━━━━━━━━━━━━━━━━━━━\u001b[0m\u001b[37m\u001b[0m \u001b[1m8s\u001b[0m 312ms/step - custom_mse: 22504332.0000 - loss: 6.0731 - val_custom_mse: 21735480.0000 - val_loss: 6.1426 - learning_rate: 1.2500e-05\n",
      "Epoch 21/50\n",
      "\u001b[1m25/25\u001b[0m \u001b[32m━━━━━━━━━━━━━━━━━━━━\u001b[0m\u001b[37m\u001b[0m \u001b[1m0s\u001b[0m 287ms/step - custom_mse: 22454172.0000 - loss: 6.0717\n",
      "Epoch 21: ReduceLROnPlateau reducing learning rate to 6.24999984211172e-06.\n",
      "\u001b[1m25/25\u001b[0m \u001b[32m━━━━━━━━━━━━━━━━━━━━\u001b[0m\u001b[37m\u001b[0m \u001b[1m8s\u001b[0m 316ms/step - custom_mse: 22428424.0000 - loss: 6.0656 - val_custom_mse: 21352100.0000 - val_loss: 6.1280 - learning_rate: 1.2500e-05\n",
      "Epoch 22/50\n",
      "\u001b[1m25/25\u001b[0m \u001b[32m━━━━━━━━━━━━━━━━━━━━\u001b[0m\u001b[37m\u001b[0m \u001b[1m8s\u001b[0m 318ms/step - custom_mse: 22495536.0000 - loss: 6.0746 - val_custom_mse: 21809970.0000 - val_loss: 5.8630 - learning_rate: 6.2500e-06\n",
      "Epoch 23/50\n",
      "\u001b[1m25/25\u001b[0m \u001b[32m━━━━━━━━━━━━━━━━━━━━\u001b[0m\u001b[37m\u001b[0m \u001b[1m8s\u001b[0m 314ms/step - custom_mse: 22478796.0000 - loss: 6.0740 - val_custom_mse: 21701446.0000 - val_loss: 5.9459 - learning_rate: 6.2500e-06\n",
      "Epoch 24/50\n",
      "\u001b[1m25/25\u001b[0m \u001b[32m━━━━━━━━━━━━━━━━━━━━\u001b[0m\u001b[37m\u001b[0m \u001b[1m8s\u001b[0m 315ms/step - custom_mse: 22469960.0000 - loss: 6.0817 - val_custom_mse: 21735480.0000 - val_loss: 6.1417 - learning_rate: 6.2500e-06\n",
      "Epoch 25/50\n",
      "\u001b[1m25/25\u001b[0m \u001b[32m━━━━━━━━━━━━━━━━━━━━\u001b[0m\u001b[37m\u001b[0m \u001b[1m0s\u001b[0m 286ms/step - custom_mse: 22454172.0000 - loss: 6.0690\n",
      "Epoch 25: ReduceLROnPlateau reducing learning rate to 3.12499992105586e-06.\n",
      "\u001b[1m25/25\u001b[0m \u001b[32m━━━━━━━━━━━━━━━━━━━━\u001b[0m\u001b[37m\u001b[0m \u001b[1m8s\u001b[0m 315ms/step - custom_mse: 22396756.0000 - loss: 6.0542 - val_custom_mse: 21809972.0000 - val_loss: 5.8629 - learning_rate: 6.2500e-06\n",
      "Epoch 26/50\n",
      "\u001b[1m25/25\u001b[0m \u001b[32m━━━━━━━━━━━━━━━━━━━━\u001b[0m\u001b[37m\u001b[0m \u001b[1m8s\u001b[0m 313ms/step - custom_mse: 22406788.0000 - loss: 6.0656 - val_custom_mse: 21357584.0000 - val_loss: 5.9338 - learning_rate: 3.1250e-06\n",
      "Epoch 27/50\n",
      "\u001b[1m25/25\u001b[0m \u001b[32m━━━━━━━━━━━━━━━━━━━━\u001b[0m\u001b[37m\u001b[0m \u001b[1m8s\u001b[0m 315ms/step - custom_mse: 22396756.0000 - loss: 6.0535 - val_custom_mse: 19795386.0000 - val_loss: 5.9182 - learning_rate: 3.1250e-06\n",
      "Epoch 28/50\n",
      "\u001b[1m25/25\u001b[0m \u001b[32m━━━━━━━━━━━━━━━━━━━━\u001b[0m\u001b[37m\u001b[0m \u001b[1m0s\u001b[0m 288ms/step - custom_mse: 22454172.0000 - loss: 6.0677\n",
      "Epoch 28: ReduceLROnPlateau reducing learning rate to 1.56249996052793e-06.\n",
      "\u001b[1m25/25\u001b[0m \u001b[32m━━━━━━━━━━━━━━━━━━━━\u001b[0m\u001b[37m\u001b[0m \u001b[1m8s\u001b[0m 319ms/step - custom_mse: 22424034.0000 - loss: 6.0670 - val_custom_mse: 21735482.0000 - val_loss: 6.1393 - learning_rate: 3.1250e-06\n",
      "Epoch 29/50\n",
      "\u001b[1m25/25\u001b[0m \u001b[32m━━━━━━━━━━━━━━━━━━━━\u001b[0m\u001b[37m\u001b[0m \u001b[1m8s\u001b[0m 311ms/step - custom_mse: 22396756.0000 - loss: 6.0531 - val_custom_mse: 20944394.0000 - val_loss: 5.8799 - learning_rate: 1.5625e-06\n",
      "Epoch 30/50\n",
      "\u001b[1m25/25\u001b[0m \u001b[32m━━━━━━━━━━━━━━━━━━━━\u001b[0m\u001b[37m\u001b[0m \u001b[1m8s\u001b[0m 316ms/step - custom_mse: 22406788.0000 - loss: 6.0647 - val_custom_mse: 20944394.0000 - val_loss: 5.8806 - learning_rate: 1.5625e-06\n",
      "Epoch 31/50\n",
      "\u001b[1m25/25\u001b[0m \u001b[32m━━━━━━━━━━━━━━━━━━━━\u001b[0m\u001b[37m\u001b[0m \u001b[1m0s\u001b[0m 287ms/step - custom_mse: 22454172.0000 - loss: 6.0672\n",
      "Epoch 31: ReduceLROnPlateau reducing learning rate to 1e-06.\n",
      "\u001b[1m25/25\u001b[0m \u001b[32m━━━━━━━━━━━━━━━━━━━━\u001b[0m\u001b[37m\u001b[0m \u001b[1m8s\u001b[0m 318ms/step - custom_mse: 22450544.0000 - loss: 6.0657 - val_custom_mse: 19795388.0000 - val_loss: 5.9197 - learning_rate: 1.5625e-06\n",
      "Epoch 32/50\n",
      "\u001b[1m25/25\u001b[0m \u001b[32m━━━━━━━━━━━━━━━━━━━━\u001b[0m\u001b[37m\u001b[0m \u001b[1m8s\u001b[0m 312ms/step - custom_mse: 22415814.0000 - loss: 6.0621 - val_custom_mse: 21357584.0000 - val_loss: 5.9331 - learning_rate: 1.0000e-06\n",
      "Epoch 33/50\n",
      "\u001b[1m25/25\u001b[0m \u001b[32m━━━━━━━━━━━━━━━━━━━━\u001b[0m\u001b[37m\u001b[0m \u001b[1m8s\u001b[0m 312ms/step - custom_mse: 22424034.0000 - loss: 6.0668 - val_custom_mse: 20944392.0000 - val_loss: 5.8800 - learning_rate: 1.0000e-06\n",
      "Epoch 34/50\n",
      "\u001b[1m25/25\u001b[0m \u001b[32m━━━━━━━━━━━━━━━━━━━━\u001b[0m\u001b[37m\u001b[0m \u001b[1m8s\u001b[0m 312ms/step - custom_mse: 22417588.0000 - loss: 6.0720 - val_custom_mse: 21357584.0000 - val_loss: 5.9349 - learning_rate: 1.0000e-06\n",
      "Epoch 35/50\n",
      "\u001b[1m25/25\u001b[0m \u001b[32m━━━━━━━━━━━━━━━━━━━━\u001b[0m\u001b[37m\u001b[0m \u001b[1m8s\u001b[0m 314ms/step - custom_mse: 22454762.0000 - loss: 6.0679 - val_custom_mse: 21735480.0000 - val_loss: 6.1417 - learning_rate: 1.0000e-06\n",
      "Epoch 36/50\n",
      "\u001b[1m25/25\u001b[0m \u001b[32m━━━━━━━━━━━━━━━━━━━━\u001b[0m\u001b[37m\u001b[0m \u001b[1m8s\u001b[0m 314ms/step - custom_mse: 22464252.0000 - loss: 6.0641 - val_custom_mse: 21809972.0000 - val_loss: 5.8612 - learning_rate: 1.0000e-06\n",
      "Epoch 37/50\n",
      "\u001b[1m25/25\u001b[0m \u001b[32m━━━━━━━━━━━━━━━━━━━━\u001b[0m\u001b[37m\u001b[0m \u001b[1m8s\u001b[0m 316ms/step - custom_mse: 22504332.0000 - loss: 6.0675 - val_custom_mse: 21735480.0000 - val_loss: 6.1388 - learning_rate: 1.0000e-06\n",
      "Epoch 38/50\n",
      "\u001b[1m25/25\u001b[0m \u001b[32m━━━━━━━━━━━━━━━━━━━━\u001b[0m\u001b[37m\u001b[0m \u001b[1m8s\u001b[0m 314ms/step - custom_mse: 22396756.0000 - loss: 6.0520 - val_custom_mse: 19795386.0000 - val_loss: 5.9181 - learning_rate: 1.0000e-06\n",
      "Epoch 39/50\n",
      "\u001b[1m25/25\u001b[0m \u001b[32m━━━━━━━━━━━━━━━━━━━━\u001b[0m\u001b[37m\u001b[0m \u001b[1m8s\u001b[0m 314ms/step - custom_mse: 22469960.0000 - loss: 6.0790 - val_custom_mse: 20944394.0000 - val_loss: 5.8774 - learning_rate: 1.0000e-06\n",
      "Epoch 40/50\n",
      "\u001b[1m25/25\u001b[0m \u001b[32m━━━━━━━━━━━━━━━━━━━━\u001b[0m\u001b[37m\u001b[0m \u001b[1m8s\u001b[0m 314ms/step - custom_mse: 22424034.0000 - loss: 6.0660 - val_custom_mse: 21352100.0000 - val_loss: 6.1262 - learning_rate: 1.0000e-06\n",
      "Epoch 41/50\n",
      "\u001b[1m25/25\u001b[0m \u001b[32m━━━━━━━━━━━━━━━━━━━━\u001b[0m\u001b[37m\u001b[0m \u001b[1m8s\u001b[0m 320ms/step - custom_mse: 22472026.0000 - loss: 6.0682 - val_custom_mse: 21809972.0000 - val_loss: 5.8569 - learning_rate: 1.0000e-06\n",
      "Epoch 42/50\n",
      "\u001b[1m25/25\u001b[0m \u001b[32m━━━━━━━━━━━━━━━━━━━━\u001b[0m\u001b[37m\u001b[0m \u001b[1m8s\u001b[0m 315ms/step - custom_mse: 22504334.0000 - loss: 6.0668 - val_custom_mse: 21357584.0000 - val_loss: 5.9343 - learning_rate: 1.0000e-06\n",
      "Epoch 43/50\n",
      "\u001b[1m25/25\u001b[0m \u001b[32m━━━━━━━━━━━━━━━━━━━━\u001b[0m\u001b[37m\u001b[0m \u001b[1m8s\u001b[0m 315ms/step - custom_mse: 22405228.0000 - loss: 6.0589 - val_custom_mse: 21735482.0000 - val_loss: 6.1391 - learning_rate: 1.0000e-06\n",
      "Epoch 44/50\n",
      "\u001b[1m25/25\u001b[0m \u001b[32m━━━━━━━━━━━━━━━━━━━━\u001b[0m\u001b[37m\u001b[0m \u001b[1m8s\u001b[0m 311ms/step - custom_mse: 22478796.0000 - loss: 6.0706 - val_custom_mse: 21701448.0000 - val_loss: 5.9437 - learning_rate: 1.0000e-06\n",
      "Epoch 45/50\n",
      "\u001b[1m25/25\u001b[0m \u001b[32m━━━━━━━━━━━━━━━━━━━━\u001b[0m\u001b[37m\u001b[0m \u001b[1m8s\u001b[0m 316ms/step - custom_mse: 22453192.0000 - loss: 6.0633 - val_custom_mse: 21352102.0000 - val_loss: 6.1238 - learning_rate: 1.0000e-06\n",
      "Epoch 46/50\n",
      "\u001b[1m25/25\u001b[0m \u001b[32m━━━━━━━━━━━━━━━━━━━━\u001b[0m\u001b[37m\u001b[0m \u001b[1m8s\u001b[0m 314ms/step - custom_mse: 22417588.0000 - loss: 6.0710 - val_custom_mse: 21357584.0000 - val_loss: 5.9319 - learning_rate: 1.0000e-06\n",
      "Epoch 47/50\n",
      "\u001b[1m25/25\u001b[0m \u001b[32m━━━━━━━━━━━━━━━━━━━━\u001b[0m\u001b[37m\u001b[0m \u001b[1m8s\u001b[0m 318ms/step - custom_mse: 22450484.0000 - loss: 6.0748 - val_custom_mse: 21735482.0000 - val_loss: 6.1386 - learning_rate: 1.0000e-06\n",
      "Epoch 48/50\n",
      "\u001b[1m25/25\u001b[0m \u001b[32m━━━━━━━━━━━━━━━━━━━━\u001b[0m\u001b[37m\u001b[0m \u001b[1m8s\u001b[0m 312ms/step - custom_mse: 22429726.0000 - loss: 6.0647 - val_custom_mse: 20944396.0000 - val_loss: 5.8780 - learning_rate: 1.0000e-06\n",
      "Epoch 49/50\n",
      "\u001b[1m25/25\u001b[0m \u001b[32m━━━━━━━━━━━━━━━━━━━━\u001b[0m\u001b[37m\u001b[0m \u001b[1m8s\u001b[0m 313ms/step - custom_mse: 22453194.0000 - loss: 6.0632 - val_custom_mse: 21809970.0000 - val_loss: 5.8588 - learning_rate: 1.0000e-06\n",
      "Epoch 50/50\n",
      "\u001b[1m25/25\u001b[0m \u001b[32m━━━━━━━━━━━━━━━━━━━━\u001b[0m\u001b[37m\u001b[0m \u001b[1m8s\u001b[0m 315ms/step - custom_mse: 22414950.0000 - loss: 6.0673 - val_custom_mse: 19795388.0000 - val_loss: 5.9159 - learning_rate: 1.0000e-06\n"
     ]
    },
    {
     "data": {
      "image/png": "[encoded data removed]",
      "text/plain": [
       "<Figure size 640x480 with 1 Axes>"
      ]
     },
     "metadata": {},
     "output_type": "display_data"
    }
   ],
   "source": [
    "\n",
    "vae_model.compile(optimizer=optimizer)  # No es necesario definir loss directamente aquí\n",
    "\n",
    "history = vae_model.fit(\n",
    "    train_dataset,              # Datos de entrada para entrenamiento\n",
    "    batch_size=batch_size,\n",
    "    epochs=50,                  # Número de épocas de entrenamiento\n",
    "    validation_data=test_dataset,  # Datos de validación para evaluar el modelo\n",
    "    callbacks=[lr_scheduler],\n",
    "    verbose=1                   # Muestra el progreso durante el entrenamiento\n",
    ")\n",
    "\n",
    "# --- Visualización de la pérdida ---\n",
    "plt.plot(history.history[\"loss\"], label=\"Pérdida Total\")\n",
    "plt.title(\"Pérdida durante el entrenamiento\")\n",
    "plt.xlabel(\"Epochs\")\n",
    "plt.ylabel(\"Pérdida\")\n",
    "plt.legend()\n",
    "plt.show()\n"
   ]
  },
  {
   "cell_type": "code",
   "execution_count": 17,
   "metadata": {
    "colab": {
     "base_uri": "https://localhost:8080/",
     "height": 472
    },
    "executionInfo": {
     "elapsed": 183,
     "status": "ok",
     "timestamp": 1740210871220,
     "user": {
      "displayName": "Martín Sánchez Torres",
      "userId": "09593946760207616318"
     },
     "user_tz": -60
    },
    "id": "pf4IlH12K8Pu",
    "outputId": "3ce9f548-c809-4111-aec8-e3645a9f33da"
   },
   "outputs": [
    {
     "data": {
      "image/png": "[encoded data removed]",
      "text/plain": [
       "<Figure size 640x480 with 1 Axes>"
      ]
     },
     "metadata": {},
     "output_type": "display_data"
    }
   ],
   "source": [
    "plt.plot(history.history[\"loss\"], label=\"Pérdida en Entrenamiento\")\n",
    "plt.plot(history.history[\"val_loss\"], label=\"Pérdida en Validación\")\n",
    "plt.title(\"Pérdida durante el entrenamiento y validación\")\n",
    "plt.xlabel(\"Epochs\")\n",
    "plt.ylabel(\"Pérdida\")\n",
    "plt.legend()\n",
    "plt.show()"
   ]
  }
 ],
 "metadata": {
  "accelerator": "GPU",
  "colab": {
   "gpuType": "A100",
   "provenance": []
  },
  "kernelspec": {
   "display_name": "Python [conda env:base] *",
   "language": "python",
   "name": "conda-base-py"
  },
  "language_info": {
   "codemirror_mode": {
    "name": "ipython",
    "version": 3
   },
   "file_extension": ".py",
   "mimetype": "text/x-python",
   "name": "python",
   "nbconvert_exporter": "python",
   "pygments_lexer": "ipython3",
   "version": "3.12.9"
  }
 },
 "nbformat": 4,
 "nbformat_minor": 4
}
